{
 "cells": [
  {
   "cell_type": "markdown",
   "id": "03b863c8-c9aa-4019-9351-42d1008312ea",
   "metadata": {},
   "source": [
    "# Requesting External Data"
   ]
  },
  {
   "cell_type": "code",
   "execution_count": 1,
   "id": "db3c8b50-0e1f-4fca-b457-f011febebb39",
   "metadata": {},
   "outputs": [],
   "source": [
    "%load_ext autoreload\n",
    "%autoreload 2"
   ]
  },
  {
   "cell_type": "code",
   "execution_count": 2,
   "id": "179812a5-2a30-4370-9b2d-e68d0948b541",
   "metadata": {},
   "outputs": [],
   "source": [
    "from pprint import pprint\n",
    "import requests\n",
    "import numpy as np\n",
    "import pandas as pd\n",
    "import time\n",
    "from tqdm.notebook import trange, tqdm\n",
    "import pdb"
   ]
  },
  {
   "cell_type": "code",
   "execution_count": 3,
   "id": "9a8ba5f7-5d18-4e6f-9c0f-42de9526bd69",
   "metadata": {},
   "outputs": [],
   "source": [
    "from request_discos import *\n",
    "from request_uber_ares import *"
   ]
  },
  {
   "cell_type": "code",
   "execution_count": 4,
   "id": "8e43eefe-e17f-4a98-96a7-99f08c7117cf",
   "metadata": {},
   "outputs": [],
   "source": [
    "def getRelDataID(data):\n",
    "    if type(data)==dict:\n",
    "        return int(data['id'])\n",
    "    elif type(data)==list:\n",
    "        if len(data)==0:\n",
    "            return None\n",
    "        else:\n",
    "            return [int(d['id']) for d in data]\n",
    "    else:\n",
    "        return None"
   ]
  },
  {
   "cell_type": "code",
   "execution_count": 5,
   "id": "2425433b-4954-49d5-bc70-a360363fb16e",
   "metadata": {},
   "outputs": [],
   "source": [
    "def data2df(data_list,att_list=[]):\n",
    "    ind = [int(d['id']) for d in data_list]\n",
    "    attributes = [d['attributes'] for d in data_list]\n",
    "    data_df = pd.DataFrame(attributes,index=ind)\n",
    "\n",
    "    for att in att_list:\n",
    "        data_df[att] = [ getRelDataID(data['relationships'][att]['data']) for data in data_list]\n",
    "    data_df.sort_index(inplace=True)\n",
    "    return data_df"
   ]
  },
  {
   "cell_type": "markdown",
   "id": "91b3dc0c-4fdf-4efb-a507-2d1588a5cd84",
   "metadata": {
    "jp-MarkdownHeadingCollapsed": true,
    "tags": []
   },
   "source": [
    "# DiscosWeb"
   ]
  },
  {
   "cell_type": "markdown",
   "id": "0057eac6-5eeb-4d96-9b0e-deca7042f6f3",
   "metadata": {
    "jp-MarkdownHeadingCollapsed": true,
    "tags": []
   },
   "source": [
    "## Objects"
   ]
  },
  {
   "cell_type": "code",
   "execution_count": 10,
   "id": "6c84ad9e-4b2f-47e3-b939-101d65be9de8",
   "metadata": {},
   "outputs": [
    {
     "data": {
      "text/plain": [
       "{'type': 'object',\n",
       " 'id': '8060',\n",
       " 'attributes': {'cosparId': '1975-072A',\n",
       "  'name': 'COS B',\n",
       "  'depth': None,\n",
       "  'xSectMin': 1.539380400259,\n",
       "  'diameter': 1.4,\n",
       "  'span': 1.4,\n",
       "  'xSectAvg': 2.08915911463721,\n",
       "  'satno': 8062,\n",
       "  'shape': 'Cyl',\n",
       "  'objectClass': 'Payload',\n",
       "  'mass': 272.55,\n",
       "  'height': 1.2,\n",
       "  'width': None,\n",
       "  'vimpelId': None,\n",
       "  'xSectMax': 2.27861625042515},\n",
       " 'relationships': {'operators': {'links': {'self': '/api/objects/8060/relationships/operators',\n",
       "    'related': '/api/objects/8060/operators'},\n",
       "   'data': [{'type': 'organisation', 'id': '283'}]},\n",
       "  'reentry': {'links': {'self': '/api/objects/8060/relationships/reentry',\n",
       "    'related': '/api/objects/8060/reentry'}},\n",
       "  'initialOrbits': {'links': {'self': '/api/objects/8060/relationships/initial-orbits',\n",
       "    'related': '/api/objects/8060/initial-orbits'}},\n",
       "  'destinationOrbits': {'links': {'self': '/api/objects/8060/relationships/destination-orbits',\n",
       "    'related': '/api/objects/8060/destination-orbits'}},\n",
       "  'launch': {'links': {'self': '/api/objects/8060/relationships/launch',\n",
       "    'related': '/api/objects/8060/launch'}},\n",
       "  'states': {'links': {'self': '/api/objects/8060/relationships/states',\n",
       "    'related': '/api/objects/8060/states'},\n",
       "   'data': [{'type': 'organisation', 'id': '283'}]}},\n",
       " 'links': {'self': '/api/objects/8060'}}"
      ]
     },
     "execution_count": 10,
     "metadata": {},
     "output_type": "execute_result"
    }
   ],
   "source": [
    "dataRequest[0]"
   ]
  },
  {
   "cell_type": "code",
   "execution_count": 9,
   "id": "b07cb8db-6410-49a8-a47f-1e47ff48b8e4",
   "metadata": {},
   "outputs": [
    {
     "data": {
      "text/html": [
       "<div>\n",
       "<style scoped>\n",
       "    .dataframe tbody tr th:only-of-type {\n",
       "        vertical-align: middle;\n",
       "    }\n",
       "\n",
       "    .dataframe tbody tr th {\n",
       "        vertical-align: top;\n",
       "    }\n",
       "\n",
       "    .dataframe thead th {\n",
       "        text-align: right;\n",
       "    }\n",
       "</style>\n",
       "<table border=\"1\" class=\"dataframe\">\n",
       "  <thead>\n",
       "    <tr style=\"text-align: right;\">\n",
       "      <th></th>\n",
       "      <th>cosparId</th>\n",
       "      <th>name</th>\n",
       "      <th>depth</th>\n",
       "      <th>xSectMin</th>\n",
       "      <th>diameter</th>\n",
       "      <th>span</th>\n",
       "      <th>xSectAvg</th>\n",
       "      <th>satno</th>\n",
       "      <th>shape</th>\n",
       "      <th>objectClass</th>\n",
       "      <th>mass</th>\n",
       "      <th>height</th>\n",
       "      <th>width</th>\n",
       "      <th>vimpelId</th>\n",
       "      <th>xSectMax</th>\n",
       "    </tr>\n",
       "  </thead>\n",
       "  <tbody>\n",
       "    <tr>\n",
       "      <th>8060</th>\n",
       "      <td>1975-072A</td>\n",
       "      <td>COS B</td>\n",
       "      <td>NaN</td>\n",
       "      <td>1.539380</td>\n",
       "      <td>1.40</td>\n",
       "      <td>1.40</td>\n",
       "      <td>2.089159</td>\n",
       "      <td>8062</td>\n",
       "      <td>Cyl</td>\n",
       "      <td>Payload</td>\n",
       "      <td>272.55</td>\n",
       "      <td>1.20</td>\n",
       "      <td>NaN</td>\n",
       "      <td>NaN</td>\n",
       "      <td>2.278616</td>\n",
       "    </tr>\n",
       "    <tr>\n",
       "      <th>9929</th>\n",
       "      <td>1977-029A</td>\n",
       "      <td>ESA GEOS 1</td>\n",
       "      <td>NaN</td>\n",
       "      <td>2.010619</td>\n",
       "      <td>1.60</td>\n",
       "      <td>40.00</td>\n",
       "      <td>5.977604</td>\n",
       "      <td>9931</td>\n",
       "      <td>Cyl + 2 Ant</td>\n",
       "      <td>Payload</td>\n",
       "      <td>270.56</td>\n",
       "      <td>1.30</td>\n",
       "      <td>NaN</td>\n",
       "      <td>NaN</td>\n",
       "      <td>10.138289</td>\n",
       "    </tr>\n",
       "    <tr>\n",
       "      <th>10421</th>\n",
       "      <td>1977-102B</td>\n",
       "      <td>ISEE 2</td>\n",
       "      <td>NaN</td>\n",
       "      <td>1.266769</td>\n",
       "      <td>1.27</td>\n",
       "      <td>1.27</td>\n",
       "      <td>1.770484</td>\n",
       "      <td>10423</td>\n",
       "      <td>Cyl</td>\n",
       "      <td>Payload</td>\n",
       "      <td>164.52</td>\n",
       "      <td>1.14</td>\n",
       "      <td>NaN</td>\n",
       "      <td>NaN</td>\n",
       "      <td>1.923754</td>\n",
       "    </tr>\n",
       "    <tr>\n",
       "      <th>10635</th>\n",
       "      <td>1978-012A</td>\n",
       "      <td>IUE</td>\n",
       "      <td>NaN</td>\n",
       "      <td>1.385929</td>\n",
       "      <td>1.40</td>\n",
       "      <td>4.30</td>\n",
       "      <td>6.293122</td>\n",
       "      <td>10637</td>\n",
       "      <td>Oct Cyl + 2 Pan</td>\n",
       "      <td>Payload</td>\n",
       "      <td>457.88</td>\n",
       "      <td>4.20</td>\n",
       "      <td>NaN</td>\n",
       "      <td>NaN</td>\n",
       "      <td>9.289332</td>\n",
       "    </tr>\n",
       "    <tr>\n",
       "      <th>10853</th>\n",
       "      <td>1978-044A</td>\n",
       "      <td>OTS 2</td>\n",
       "      <td>NaN</td>\n",
       "      <td>3.325538</td>\n",
       "      <td>2.40</td>\n",
       "      <td>2.40</td>\n",
       "      <td>4.750615</td>\n",
       "      <td>10855</td>\n",
       "      <td>Hex Cyl</td>\n",
       "      <td>Payload</td>\n",
       "      <td>440.04</td>\n",
       "      <td>1.60</td>\n",
       "      <td>NaN</td>\n",
       "      <td>NaN</td>\n",
       "      <td>5.361194</td>\n",
       "    </tr>\n",
       "    <tr>\n",
       "      <th>...</th>\n",
       "      <td>...</td>\n",
       "      <td>...</td>\n",
       "      <td>...</td>\n",
       "      <td>...</td>\n",
       "      <td>...</td>\n",
       "      <td>...</td>\n",
       "      <td>...</td>\n",
       "      <td>...</td>\n",
       "      <td>...</td>\n",
       "      <td>...</td>\n",
       "      <td>...</td>\n",
       "      <td>...</td>\n",
       "      <td>...</td>\n",
       "      <td>...</td>\n",
       "      <td>...</td>\n",
       "    </tr>\n",
       "    <tr>\n",
       "      <th>66965</th>\n",
       "      <td>1981-057G</td>\n",
       "      <td>CAT 3 operational debris</td>\n",
       "      <td>NaN</td>\n",
       "      <td>NaN</td>\n",
       "      <td>NaN</td>\n",
       "      <td>NaN</td>\n",
       "      <td>NaN</td>\n",
       "      <td>48343</td>\n",
       "      <td>None</td>\n",
       "      <td>Payload Mission Related Object</td>\n",
       "      <td>NaN</td>\n",
       "      <td>NaN</td>\n",
       "      <td>NaN</td>\n",
       "      <td>NaN</td>\n",
       "      <td>NaN</td>\n",
       "    </tr>\n",
       "    <tr>\n",
       "      <th>67858</th>\n",
       "      <td>2021-073C</td>\n",
       "      <td>Sunstorm</td>\n",
       "      <td>0.1</td>\n",
       "      <td>0.010000</td>\n",
       "      <td>NaN</td>\n",
       "      <td>0.20</td>\n",
       "      <td>0.025000</td>\n",
       "      <td>49068</td>\n",
       "      <td>Box</td>\n",
       "      <td>Payload</td>\n",
       "      <td>2.00</td>\n",
       "      <td>0.20</td>\n",
       "      <td>0.1</td>\n",
       "      <td>NaN</td>\n",
       "      <td>0.030000</td>\n",
       "    </tr>\n",
       "    <tr>\n",
       "      <th>69581</th>\n",
       "      <td>2021-130A</td>\n",
       "      <td>James Webb Space Telescope</td>\n",
       "      <td>4.5</td>\n",
       "      <td>20.250000</td>\n",
       "      <td>NaN</td>\n",
       "      <td>21.20</td>\n",
       "      <td>66.244667</td>\n",
       "      <td>50463</td>\n",
       "      <td>Box + 1 Dish + 2 Pan</td>\n",
       "      <td>Payload</td>\n",
       "      <td>6161.00</td>\n",
       "      <td>8.00</td>\n",
       "      <td>4.5</td>\n",
       "      <td>NaN</td>\n",
       "      <td>114.911356</td>\n",
       "    </tr>\n",
       "    <tr>\n",
       "      <th>71827</th>\n",
       "      <td>1998-067TM</td>\n",
       "      <td>ISS operational debris (ERA MLI bundle)</td>\n",
       "      <td>0.5</td>\n",
       "      <td>0.250000</td>\n",
       "      <td>NaN</td>\n",
       "      <td>0.50</td>\n",
       "      <td>0.375000</td>\n",
       "      <td>52329</td>\n",
       "      <td>Irr</td>\n",
       "      <td>Payload Mission Related Object</td>\n",
       "      <td>5.00</td>\n",
       "      <td>0.50</td>\n",
       "      <td>0.5</td>\n",
       "      <td>NaN</td>\n",
       "      <td>0.433013</td>\n",
       "    </tr>\n",
       "    <tr>\n",
       "      <th>71853</th>\n",
       "      <td>1998-067TN</td>\n",
       "      <td>ISS operational debris (EVA debris)</td>\n",
       "      <td>NaN</td>\n",
       "      <td>NaN</td>\n",
       "      <td>NaN</td>\n",
       "      <td>NaN</td>\n",
       "      <td>NaN</td>\n",
       "      <td>52432</td>\n",
       "      <td>None</td>\n",
       "      <td>Payload Mission Related Object</td>\n",
       "      <td>NaN</td>\n",
       "      <td>NaN</td>\n",
       "      <td>NaN</td>\n",
       "      <td>NaN</td>\n",
       "      <td>NaN</td>\n",
       "    </tr>\n",
       "  </tbody>\n",
       "</table>\n",
       "<p>165 rows × 15 columns</p>\n",
       "</div>"
      ],
      "text/plain": [
       "         cosparId                                     name  depth   xSectMin  \\\n",
       "8060    1975-072A                                    COS B    NaN   1.539380   \n",
       "9929    1977-029A                               ESA GEOS 1    NaN   2.010619   \n",
       "10421   1977-102B                                   ISEE 2    NaN   1.266769   \n",
       "10635   1978-012A                                      IUE    NaN   1.385929   \n",
       "10853   1978-044A                                    OTS 2    NaN   3.325538   \n",
       "...           ...                                      ...    ...        ...   \n",
       "66965   1981-057G                 CAT 3 operational debris    NaN        NaN   \n",
       "67858   2021-073C                                 Sunstorm    0.1   0.010000   \n",
       "69581   2021-130A               James Webb Space Telescope    4.5  20.250000   \n",
       "71827  1998-067TM  ISS operational debris (ERA MLI bundle)    0.5   0.250000   \n",
       "71853  1998-067TN      ISS operational debris (EVA debris)    NaN        NaN   \n",
       "\n",
       "       diameter   span   xSectAvg  satno                 shape  \\\n",
       "8060       1.40   1.40   2.089159   8062                   Cyl   \n",
       "9929       1.60  40.00   5.977604   9931           Cyl + 2 Ant   \n",
       "10421      1.27   1.27   1.770484  10423                   Cyl   \n",
       "10635      1.40   4.30   6.293122  10637       Oct Cyl + 2 Pan   \n",
       "10853      2.40   2.40   4.750615  10855               Hex Cyl   \n",
       "...         ...    ...        ...    ...                   ...   \n",
       "66965       NaN    NaN        NaN  48343                  None   \n",
       "67858       NaN   0.20   0.025000  49068                   Box   \n",
       "69581       NaN  21.20  66.244667  50463  Box + 1 Dish + 2 Pan   \n",
       "71827       NaN   0.50   0.375000  52329                   Irr   \n",
       "71853       NaN    NaN        NaN  52432                  None   \n",
       "\n",
       "                          objectClass     mass  height  width  vimpelId  \\\n",
       "8060                          Payload   272.55    1.20    NaN       NaN   \n",
       "9929                          Payload   270.56    1.30    NaN       NaN   \n",
       "10421                         Payload   164.52    1.14    NaN       NaN   \n",
       "10635                         Payload   457.88    4.20    NaN       NaN   \n",
       "10853                         Payload   440.04    1.60    NaN       NaN   \n",
       "...                               ...      ...     ...    ...       ...   \n",
       "66965  Payload Mission Related Object      NaN     NaN    NaN       NaN   \n",
       "67858                         Payload     2.00    0.20    0.1       NaN   \n",
       "69581                         Payload  6161.00    8.00    4.5       NaN   \n",
       "71827  Payload Mission Related Object     5.00    0.50    0.5       NaN   \n",
       "71853  Payload Mission Related Object      NaN     NaN    NaN       NaN   \n",
       "\n",
       "         xSectMax  \n",
       "8060     2.278616  \n",
       "9929    10.138289  \n",
       "10421    1.923754  \n",
       "10635    9.289332  \n",
       "10853    5.361194  \n",
       "...           ...  \n",
       "66965         NaN  \n",
       "67858    0.030000  \n",
       "69581  114.911356  \n",
       "71827    0.433013  \n",
       "71853         NaN  \n",
       "\n",
       "[165 rows x 15 columns]"
      ]
     },
     "execution_count": 9,
     "metadata": {},
     "output_type": "execute_result"
    }
   ],
   "source": [
    "operatorName = 'European Space Agency'\n",
    "opCond = f\"eq(operators.name,'{operatorName}')\"\n",
    "\n",
    "filter = f\"{opCond}\"\n",
    "dataRequest = requestAllPages(filter=filter,include='operators,states')\n",
    "\n",
    "objectIndex = [d['id'] for d in dataRequest]\n",
    "objectAttributes = [d['attributes'] for d in dataRequest]\n",
    "object_df = pd.DataFrame(objectAttributes,index=objectIndex)\n",
    "\n",
    "object_df"
   ]
  },
  {
   "cell_type": "markdown",
   "id": "409eca12-95cf-4bac-bda3-a47acf8cbc3c",
   "metadata": {
    "jp-MarkdownHeadingCollapsed": true,
    "tags": []
   },
   "source": [
    "## Fragmentations"
   ]
  },
  {
   "cell_type": "code",
   "execution_count": 6,
   "id": "cbe7298c-50b5-4630-83b7-110dd2a30335",
   "metadata": {},
   "outputs": [
    {
     "data": {
      "text/html": [
       "<div>\n",
       "<style scoped>\n",
       "    .dataframe tbody tr th:only-of-type {\n",
       "        vertical-align: middle;\n",
       "    }\n",
       "\n",
       "    .dataframe tbody tr th {\n",
       "        vertical-align: top;\n",
       "    }\n",
       "\n",
       "    .dataframe thead th {\n",
       "        text-align: right;\n",
       "    }\n",
       "</style>\n",
       "<table border=\"1\" class=\"dataframe\">\n",
       "  <thead>\n",
       "    <tr style=\"text-align: right;\">\n",
       "      <th></th>\n",
       "      <th>latitude</th>\n",
       "      <th>comment</th>\n",
       "      <th>epoch</th>\n",
       "      <th>longitude</th>\n",
       "      <th>altitude</th>\n",
       "      <th>eventType</th>\n",
       "      <th>ObjectID</th>\n",
       "    </tr>\n",
       "  </thead>\n",
       "  <tbody>\n",
       "    <tr>\n",
       "      <th>115</th>\n",
       "      <td>None</td>\n",
       "      <td>This mission was the inaugural flight of the A...</td>\n",
       "      <td>1980-03-31</td>\n",
       "      <td>None</td>\n",
       "      <td>None</td>\n",
       "      <td>Ariane Upper Stage</td>\n",
       "      <td>11656</td>\n",
       "    </tr>\n",
       "    <tr>\n",
       "      <th>467</th>\n",
       "      <td>None</td>\n",
       "      <td>Provisional breakup</td>\n",
       "      <td>1984-02-27</td>\n",
       "      <td>None</td>\n",
       "      <td>None</td>\n",
       "      <td>Ariane Upper Stage</td>\n",
       "      <td>14420</td>\n",
       "    </tr>\n",
       "    <tr>\n",
       "      <th>353</th>\n",
       "      <td>None</td>\n",
       "      <td>Provisional breakup</td>\n",
       "      <td>1984-07-04</td>\n",
       "      <td>None</td>\n",
       "      <td>None</td>\n",
       "      <td>Ariane Upper Stage</td>\n",
       "      <td>14784</td>\n",
       "    </tr>\n",
       "    <tr>\n",
       "      <th>427</th>\n",
       "      <td>None</td>\n",
       "      <td></td>\n",
       "      <td>1987-06-07</td>\n",
       "      <td>None</td>\n",
       "      <td>None</td>\n",
       "      <td>Ariane Upper Stage</td>\n",
       "      <td>15873</td>\n",
       "    </tr>\n",
       "    <tr>\n",
       "      <th>11</th>\n",
       "      <td>None</td>\n",
       "      <td>Above elements are initial published values fo...</td>\n",
       "      <td>1987-09-19</td>\n",
       "      <td>None</td>\n",
       "      <td>None</td>\n",
       "      <td>Ariane Upper Stage</td>\n",
       "      <td>18349</td>\n",
       "    </tr>\n",
       "    <tr>\n",
       "      <th>337</th>\n",
       "      <td>None</td>\n",
       "      <td>ERS-2 anomaly</td>\n",
       "      <td>2003-07-24</td>\n",
       "      <td>None</td>\n",
       "      <td>None</td>\n",
       "      <td>ERS/SPOT Class</td>\n",
       "      <td>23557</td>\n",
       "    </tr>\n",
       "    <tr>\n",
       "      <th>695</th>\n",
       "      <td>None</td>\n",
       "      <td>A single fragment was catalogued. The breakup ...</td>\n",
       "      <td>2007-04-15</td>\n",
       "      <td>None</td>\n",
       "      <td>None</td>\n",
       "      <td>ERS/SPOT Class</td>\n",
       "      <td>23557</td>\n",
       "    </tr>\n",
       "    <tr>\n",
       "      <th>748</th>\n",
       "      <td>None</td>\n",
       "      <td>On 22 May 2007 at about 0050 UTC, the spin-sta...</td>\n",
       "      <td>2007-05-22</td>\n",
       "      <td>None</td>\n",
       "      <td>None</td>\n",
       "      <td>Small Impactor</td>\n",
       "      <td>27506</td>\n",
       "    </tr>\n",
       "    <tr>\n",
       "      <th>697</th>\n",
       "      <td>None</td>\n",
       "      <td>Three fragments with consecutive satellite cat...</td>\n",
       "      <td>2009-04-25</td>\n",
       "      <td>None</td>\n",
       "      <td>None</td>\n",
       "      <td>ERS/SPOT Class</td>\n",
       "      <td>23557</td>\n",
       "    </tr>\n",
       "    <tr>\n",
       "      <th>324</th>\n",
       "      <td>None</td>\n",
       "      <td>ERS-1 anomalous event</td>\n",
       "      <td>2009-06-03</td>\n",
       "      <td>None</td>\n",
       "      <td>None</td>\n",
       "      <td>ERS/SPOT Class</td>\n",
       "      <td>21571</td>\n",
       "    </tr>\n",
       "    <tr>\n",
       "      <th>698</th>\n",
       "      <td>None</td>\n",
       "      <td>A single fragment was catalogued. The breakup ...</td>\n",
       "      <td>2014-01-02</td>\n",
       "      <td>None</td>\n",
       "      <td>None</td>\n",
       "      <td>ERS/SPOT Class</td>\n",
       "      <td>23557</td>\n",
       "    </tr>\n",
       "    <tr>\n",
       "      <th>701</th>\n",
       "      <td>None</td>\n",
       "      <td>One piece of debris (Satno 39610) likely assoc...</td>\n",
       "      <td>2014-02-05</td>\n",
       "      <td>None</td>\n",
       "      <td>None</td>\n",
       "      <td>ERS/SPOT Class</td>\n",
       "      <td>21571</td>\n",
       "    </tr>\n",
       "    <tr>\n",
       "      <th>282</th>\n",
       "      <td>None</td>\n",
       "      <td>A sudden small power reduction was observed in...</td>\n",
       "      <td>2016-08-23</td>\n",
       "      <td>None</td>\n",
       "      <td>None</td>\n",
       "      <td>Small Impactor</td>\n",
       "      <td>39631</td>\n",
       "    </tr>\n",
       "    <tr>\n",
       "      <th>702</th>\n",
       "      <td>None</td>\n",
       "      <td>One piece of debris (Satno 42669) likely assoc...</td>\n",
       "      <td>2017-03-07</td>\n",
       "      <td>None</td>\n",
       "      <td>None</td>\n",
       "      <td>ERS/SPOT Class</td>\n",
       "      <td>21571</td>\n",
       "    </tr>\n",
       "    <tr>\n",
       "      <th>696</th>\n",
       "      <td>None</td>\n",
       "      <td>A single fragment was catalogued. The breakup ...</td>\n",
       "      <td>2019-07-11</td>\n",
       "      <td>None</td>\n",
       "      <td>None</td>\n",
       "      <td>ERS/SPOT Class</td>\n",
       "      <td>23557</td>\n",
       "    </tr>\n",
       "  </tbody>\n",
       "</table>\n",
       "</div>"
      ],
      "text/plain": [
       "    latitude                                            comment       epoch  \\\n",
       "115     None  This mission was the inaugural flight of the A...  1980-03-31   \n",
       "467     None                                Provisional breakup  1984-02-27   \n",
       "353     None                                Provisional breakup  1984-07-04   \n",
       "427     None                                                     1987-06-07   \n",
       "11      None  Above elements are initial published values fo...  1987-09-19   \n",
       "337     None                                      ERS-2 anomaly  2003-07-24   \n",
       "695     None  A single fragment was catalogued. The breakup ...  2007-04-15   \n",
       "748     None  On 22 May 2007 at about 0050 UTC, the spin-sta...  2007-05-22   \n",
       "697     None  Three fragments with consecutive satellite cat...  2009-04-25   \n",
       "324     None                              ERS-1 anomalous event  2009-06-03   \n",
       "698     None  A single fragment was catalogued. The breakup ...  2014-01-02   \n",
       "701     None  One piece of debris (Satno 39610) likely assoc...  2014-02-05   \n",
       "282     None  A sudden small power reduction was observed in...  2016-08-23   \n",
       "702     None  One piece of debris (Satno 42669) likely assoc...  2017-03-07   \n",
       "696     None  A single fragment was catalogued. The breakup ...  2019-07-11   \n",
       "\n",
       "    longitude altitude           eventType ObjectID  \n",
       "115      None     None  Ariane Upper Stage    11656  \n",
       "467      None     None  Ariane Upper Stage    14420  \n",
       "353      None     None  Ariane Upper Stage    14784  \n",
       "427      None     None  Ariane Upper Stage    15873  \n",
       "11       None     None  Ariane Upper Stage    18349  \n",
       "337      None     None      ERS/SPOT Class    23557  \n",
       "695      None     None      ERS/SPOT Class    23557  \n",
       "748      None     None      Small Impactor    27506  \n",
       "697      None     None      ERS/SPOT Class    23557  \n",
       "324      None     None      ERS/SPOT Class    21571  \n",
       "698      None     None      ERS/SPOT Class    23557  \n",
       "701      None     None      ERS/SPOT Class    21571  \n",
       "282      None     None      Small Impactor    39631  \n",
       "702      None     None      ERS/SPOT Class    21571  \n",
       "696      None     None      ERS/SPOT Class    23557  "
      ]
     },
     "execution_count": 6,
     "metadata": {},
     "output_type": "execute_result"
    }
   ],
   "source": [
    "operatorName = 'European Space Agency'\n",
    "opCond = f\"eq(objects.operators.name,'{operatorName}')\"\n",
    "\n",
    "filter = f\"{opCond}\"\n",
    "dataRequest = requestAllPages(pageName=\"/api/fragmentations\",filter=filter,sort='epoch',include='objects')\n",
    "\n",
    "fragIndex = [d['id'] for d in dataRequest]\n",
    "fragAttributes = [d['attributes'] for d in dataRequest]\n",
    "frag_df = pd.DataFrame(fragAttributes,index=fragIndex)\n",
    "frag_df['ObjectID'] = [d['relationships']['objects']['data'][0]['id'] for d in dataRequest]\n",
    "\n",
    "frag_df"
   ]
  },
  {
   "cell_type": "markdown",
   "id": "327ce89e-f2ae-491b-8a61-aa5113c747fe",
   "metadata": {
    "jp-MarkdownHeadingCollapsed": true,
    "tags": []
   },
   "source": [
    "## Launches"
   ]
  },
  {
   "cell_type": "code",
   "execution_count": 7,
   "id": "6ab48c7a-a71a-4c15-abe9-d2c391132bb6",
   "metadata": {},
   "outputs": [
    {
     "data": {
      "text/html": [
       "<div>\n",
       "<style scoped>\n",
       "    .dataframe tbody tr th:only-of-type {\n",
       "        vertical-align: middle;\n",
       "    }\n",
       "\n",
       "    .dataframe tbody tr th {\n",
       "        vertical-align: top;\n",
       "    }\n",
       "\n",
       "    .dataframe thead th {\n",
       "        text-align: right;\n",
       "    }\n",
       "</style>\n",
       "<table border=\"1\" class=\"dataframe\">\n",
       "  <thead>\n",
       "    <tr style=\"text-align: right;\">\n",
       "      <th></th>\n",
       "      <th>failure</th>\n",
       "      <th>epoch</th>\n",
       "      <th>cosparLaunchNo</th>\n",
       "      <th>flightNo</th>\n",
       "      <th>SiteID</th>\n",
       "      <th>ObjectIDs</th>\n",
       "    </tr>\n",
       "  </thead>\n",
       "  <tbody>\n",
       "    <tr>\n",
       "      <th>1962</th>\n",
       "      <td>False</td>\n",
       "      <td>1975-08-09T01:48:00+00:00</td>\n",
       "      <td>1975-072</td>\n",
       "      <td>602/D113</td>\n",
       "      <td>19</td>\n",
       "      <td>[52335, 8061, 8060]</td>\n",
       "    </tr>\n",
       "    <tr>\n",
       "      <th>245</th>\n",
       "      <td>False</td>\n",
       "      <td>1977-04-20T10:15:00+00:00</td>\n",
       "      <td>1977-029</td>\n",
       "      <td>617/D130</td>\n",
       "      <td>10</td>\n",
       "      <td>[9932, 9931, 9930, 9929]</td>\n",
       "    </tr>\n",
       "    <tr>\n",
       "      <th>1603</th>\n",
       "      <td>False</td>\n",
       "      <td>1977-10-22T13:53:00+00:00</td>\n",
       "      <td>1977-102</td>\n",
       "      <td>623/D135</td>\n",
       "      <td>10</td>\n",
       "      <td>[10423, 10422, 10421, 10420]</td>\n",
       "    </tr>\n",
       "    <tr>\n",
       "      <th>1605</th>\n",
       "      <td>False</td>\n",
       "      <td>1977-11-23T01:35:00+00:00</td>\n",
       "      <td>1977-108</td>\n",
       "      <td>620/D136</td>\n",
       "      <td>10</td>\n",
       "      <td>[48118, 48117, 13904, 10948, 10488, 10487]</td>\n",
       "    </tr>\n",
       "    <tr>\n",
       "      <th>2489</th>\n",
       "      <td>False</td>\n",
       "      <td>1978-01-26T17:36:00+00:00</td>\n",
       "      <td>1978-012</td>\n",
       "      <td>628/D138</td>\n",
       "      <td>10</td>\n",
       "      <td>[37759, 32997, 10721, 10636, 10635]</td>\n",
       "    </tr>\n",
       "    <tr>\n",
       "      <th>126</th>\n",
       "      <td>False</td>\n",
       "      <td>1978-05-11T22:59:00+00:00</td>\n",
       "      <td>1978-044</td>\n",
       "      <td>627/D141</td>\n",
       "      <td>10</td>\n",
       "      <td>[10855, 10854, 10853]</td>\n",
       "    </tr>\n",
       "    <tr>\n",
       "      <th>991</th>\n",
       "      <td>False</td>\n",
       "      <td>1978-07-14T10:43:00+00:00</td>\n",
       "      <td>1978-071</td>\n",
       "      <td>631/D143</td>\n",
       "      <td>10</td>\n",
       "      <td>[10981, 10980, 10979]</td>\n",
       "    </tr>\n",
       "    <tr>\n",
       "      <th>1357</th>\n",
       "      <td>False</td>\n",
       "      <td>1979-12-24T17:14:38+00:00</td>\n",
       "      <td>1979-104</td>\n",
       "      <td>L01</td>\n",
       "      <td>23</td>\n",
       "      <td>[66929, 40776, 40779, 40778, 40777, 40775, 407...</td>\n",
       "    </tr>\n",
       "    <tr>\n",
       "      <th>361</th>\n",
       "      <td>False</td>\n",
       "      <td>1981-06-19T12:32:59+00:00</td>\n",
       "      <td>1981-057</td>\n",
       "      <td>L03</td>\n",
       "      <td>23</td>\n",
       "      <td>[66965, 48120, 48119, 20834, 14122, 12559, 125...</td>\n",
       "    </tr>\n",
       "    <tr>\n",
       "      <th>2654</th>\n",
       "      <td>False</td>\n",
       "      <td>1981-12-20T01:29:00+00:00</td>\n",
       "      <td>1981-122</td>\n",
       "      <td>L04</td>\n",
       "      <td>23</td>\n",
       "      <td>[13008, 13007, 13022]</td>\n",
       "    </tr>\n",
       "  </tbody>\n",
       "</table>\n",
       "</div>"
      ],
      "text/plain": [
       "      failure                      epoch cosparLaunchNo  flightNo SiteID  \\\n",
       "1962    False  1975-08-09T01:48:00+00:00       1975-072  602/D113     19   \n",
       "245     False  1977-04-20T10:15:00+00:00       1977-029  617/D130     10   \n",
       "1603    False  1977-10-22T13:53:00+00:00       1977-102  623/D135     10   \n",
       "1605    False  1977-11-23T01:35:00+00:00       1977-108  620/D136     10   \n",
       "2489    False  1978-01-26T17:36:00+00:00       1978-012  628/D138     10   \n",
       "126     False  1978-05-11T22:59:00+00:00       1978-044  627/D141     10   \n",
       "991     False  1978-07-14T10:43:00+00:00       1978-071  631/D143     10   \n",
       "1357    False  1979-12-24T17:14:38+00:00       1979-104       L01     23   \n",
       "361     False  1981-06-19T12:32:59+00:00       1981-057       L03     23   \n",
       "2654    False  1981-12-20T01:29:00+00:00       1981-122       L04     23   \n",
       "\n",
       "                                              ObjectIDs  \n",
       "1962                                [52335, 8061, 8060]  \n",
       "245                            [9932, 9931, 9930, 9929]  \n",
       "1603                       [10423, 10422, 10421, 10420]  \n",
       "1605         [48118, 48117, 13904, 10948, 10488, 10487]  \n",
       "2489                [37759, 32997, 10721, 10636, 10635]  \n",
       "126                               [10855, 10854, 10853]  \n",
       "991                               [10981, 10980, 10979]  \n",
       "1357  [66929, 40776, 40779, 40778, 40777, 40775, 407...  \n",
       "361   [66965, 48120, 48119, 20834, 14122, 12559, 125...  \n",
       "2654                              [13008, 13007, 13022]  "
      ]
     },
     "execution_count": 7,
     "metadata": {},
     "output_type": "execute_result"
    }
   ],
   "source": [
    "operatorName = 'European Space Agency'\n",
    "opCond = f\"eq(objects.operators.name,'{operatorName}')\"\n",
    "\n",
    "filter = f\"{opCond}\"\n",
    "dataRequest = requestAllPages(pageName=\"/api/launches\",filter=filter,sort='epoch',include='objects,site')\n",
    "\n",
    "launchIndex = [d['id'] for d in dataRequest]\n",
    "launchAttributes = [d['attributes'] for d in dataRequest]\n",
    "launch_df = pd.DataFrame(launchAttributes,index=launchIndex)\n",
    "launch_df['SiteID'] = [d['relationships']['site']['data']['id'] for d in dataRequest]\n",
    "\n",
    "launchObjects = []\n",
    "for d in dataRequest:\n",
    "    objectData = d['relationships']['objects']['data']\n",
    "    launchObjects.append([obj['id'] for obj in objectData])\n",
    "launch_df['ObjectIDs'] = launchObjects\n",
    "\n",
    "launch_df.head(10)"
   ]
  },
  {
   "cell_type": "markdown",
   "id": "52f45679-206c-4824-987c-ecdba02d73c9",
   "metadata": {
    "jp-MarkdownHeadingCollapsed": true,
    "tags": []
   },
   "source": [
    "## Launch Sites"
   ]
  },
  {
   "cell_type": "code",
   "execution_count": 8,
   "id": "63ee7d7e-0725-41ac-b7fa-30f76605d3d7",
   "metadata": {},
   "outputs": [
    {
     "data": {
      "text/html": [
       "<div>\n",
       "<style scoped>\n",
       "    .dataframe tbody tr th:only-of-type {\n",
       "        vertical-align: middle;\n",
       "    }\n",
       "\n",
       "    .dataframe tbody tr th {\n",
       "        vertical-align: top;\n",
       "    }\n",
       "\n",
       "    .dataframe thead th {\n",
       "        text-align: right;\n",
       "    }\n",
       "</style>\n",
       "<table border=\"1\" class=\"dataframe\">\n",
       "  <thead>\n",
       "    <tr style=\"text-align: right;\">\n",
       "      <th></th>\n",
       "      <th>pads</th>\n",
       "      <th>latitude</th>\n",
       "      <th>constraints</th>\n",
       "      <th>longitude</th>\n",
       "      <th>altitude</th>\n",
       "      <th>azimuths</th>\n",
       "      <th>name</th>\n",
       "    </tr>\n",
       "  </thead>\n",
       "  <tbody>\n",
       "    <tr>\n",
       "      <th>7</th>\n",
       "      <td>None</td>\n",
       "      <td>13.900000</td>\n",
       "      <td>None</td>\n",
       "      <td>80.400000</td>\n",
       "      <td>0.0</td>\n",
       "      <td>[{'lower': 102.0, 'display': '[102,139]', 'low...</td>\n",
       "      <td>Sriharikota Space Center</td>\n",
       "    </tr>\n",
       "    <tr>\n",
       "      <th>10</th>\n",
       "      <td>[LC46]</td>\n",
       "      <td>28.500000</td>\n",
       "      <td>None</td>\n",
       "      <td>-81.000000</td>\n",
       "      <td>0.0</td>\n",
       "      <td>[{'lower': 37.0, 'display': '[37,120]', 'lower...</td>\n",
       "      <td>Kennedy Space Center (ETR)</td>\n",
       "    </tr>\n",
       "    <tr>\n",
       "      <th>19</th>\n",
       "      <td>[ABRESA2, ABRESB3, BMRSA1, RW30/12PAWA, 576E, ...</td>\n",
       "      <td>34.700000</td>\n",
       "      <td>None</td>\n",
       "      <td>-120.600000</td>\n",
       "      <td>0.0</td>\n",
       "      <td>[{'lower': 147.0, 'display': '[147,201]', 'low...</td>\n",
       "      <td>Vandenberg AFB (WTR)</td>\n",
       "    </tr>\n",
       "    <tr>\n",
       "      <th>21</th>\n",
       "      <td>[LA2?, LA1, LA2]</td>\n",
       "      <td>41.300000</td>\n",
       "      <td>None</td>\n",
       "      <td>100.300000</td>\n",
       "      <td>0.0</td>\n",
       "      <td>[{'lower': 135.0, 'display': '[135,153]', 'low...</td>\n",
       "      <td>Jiuquan SLC (Shuang Cheng Tzu)</td>\n",
       "    </tr>\n",
       "    <tr>\n",
       "      <th>23</th>\n",
       "      <td>[ELA1, ELA2, Europa, ELA3, Diamant]</td>\n",
       "      <td>5.200000</td>\n",
       "      <td>None</td>\n",
       "      <td>-52.800000</td>\n",
       "      <td>0.0</td>\n",
       "      <td>[{'lower': -10.5, 'display': '[-10.5,93.5]', '...</td>\n",
       "      <td>Guiana Space Center (Kourou)</td>\n",
       "    </tr>\n",
       "    <tr>\n",
       "      <th>28</th>\n",
       "      <td>[LC81, LC1, LC175/59, LC1/LC31?, LC45P/2, LC20...</td>\n",
       "      <td>45.600000</td>\n",
       "      <td>None</td>\n",
       "      <td>63.400000</td>\n",
       "      <td>90.0</td>\n",
       "      <td>[{'lower': 35.1, 'display': '[35.1,35.1]', 'lo...</td>\n",
       "      <td>Baikonur Cosmodrome (Tyuratam)</td>\n",
       "    </tr>\n",
       "    <tr>\n",
       "      <th>29</th>\n",
       "      <td>[LC32/2?, LC16-2, LC132/1, LC32/2, LC43-4?, LC...</td>\n",
       "      <td>62.800000</td>\n",
       "      <td>None</td>\n",
       "      <td>40.600000</td>\n",
       "      <td>0.0</td>\n",
       "      <td>[{'lower': -13.0, 'display': '[-13,62]', 'lowe...</td>\n",
       "      <td>Plesetsk Cosmodrome</td>\n",
       "    </tr>\n",
       "  </tbody>\n",
       "</table>\n",
       "</div>"
      ],
      "text/plain": [
       "                                                 pads   latitude constraints  \\\n",
       "7                                                None  13.900000        None   \n",
       "10                                             [LC46]  28.500000        None   \n",
       "19  [ABRESA2, ABRESB3, BMRSA1, RW30/12PAWA, 576E, ...  34.700000        None   \n",
       "21                                   [LA2?, LA1, LA2]  41.300000        None   \n",
       "23                [ELA1, ELA2, Europa, ELA3, Diamant]   5.200000        None   \n",
       "28  [LC81, LC1, LC175/59, LC1/LC31?, LC45P/2, LC20...  45.600000        None   \n",
       "29  [LC32/2?, LC16-2, LC132/1, LC32/2, LC43-4?, LC...  62.800000        None   \n",
       "\n",
       "      longitude  altitude                                           azimuths  \\\n",
       "7     80.400000       0.0  [{'lower': 102.0, 'display': '[102,139]', 'low...   \n",
       "10   -81.000000       0.0  [{'lower': 37.0, 'display': '[37,120]', 'lower...   \n",
       "19  -120.600000       0.0  [{'lower': 147.0, 'display': '[147,201]', 'low...   \n",
       "21   100.300000       0.0  [{'lower': 135.0, 'display': '[135,153]', 'low...   \n",
       "23   -52.800000       0.0  [{'lower': -10.5, 'display': '[-10.5,93.5]', '...   \n",
       "28    63.400000      90.0  [{'lower': 35.1, 'display': '[35.1,35.1]', 'lo...   \n",
       "29    40.600000       0.0  [{'lower': -13.0, 'display': '[-13,62]', 'lowe...   \n",
       "\n",
       "                              name  \n",
       "7         Sriharikota Space Center  \n",
       "10      Kennedy Space Center (ETR)  \n",
       "19            Vandenberg AFB (WTR)  \n",
       "21  Jiuquan SLC (Shuang Cheng Tzu)  \n",
       "23    Guiana Space Center (Kourou)  \n",
       "28  Baikonur Cosmodrome (Tyuratam)  \n",
       "29             Plesetsk Cosmodrome  "
      ]
     },
     "execution_count": 8,
     "metadata": {},
     "output_type": "execute_result"
    }
   ],
   "source": [
    "operatorName = 'European Space Agency'\n",
    "opCond = f\"eq(launches.objects.operators.name,'{operatorName}')\"\n",
    "\n",
    "filter = f\"{opCond}\"\n",
    "dataRequest = requestAllPages(pageName=\"/api/launch-sites\",filter=filter,include='operators')\n",
    "\n",
    "launchsiteIndex = [d['id'] for d in dataRequest]\n",
    "launchsiteAttributes = [d['attributes'] for d in dataRequest]\n",
    "launchsite_df = pd.DataFrame(launchsiteAttributes,index=launchsiteIndex)\n",
    "\n",
    "launchsite_df"
   ]
  },
  {
   "cell_type": "markdown",
   "id": "6a78da4f-b11f-49ee-b35e-372c1f52b824",
   "metadata": {
    "jp-MarkdownHeadingCollapsed": true,
    "tags": []
   },
   "source": [
    "## Launch Vehicles"
   ]
  },
  {
   "cell_type": "code",
   "execution_count": 11,
   "id": "0a940b5f-e930-489f-b80b-7155b063336e",
   "metadata": {},
   "outputs": [
    {
     "data": {
      "text/html": [
       "<div>\n",
       "<style scoped>\n",
       "    .dataframe tbody tr th:only-of-type {\n",
       "        vertical-align: middle;\n",
       "    }\n",
       "\n",
       "    .dataframe tbody tr th {\n",
       "        vertical-align: top;\n",
       "    }\n",
       "\n",
       "    .dataframe thead th {\n",
       "        text-align: right;\n",
       "    }\n",
       "</style>\n",
       "<table border=\"1\" class=\"dataframe\">\n",
       "  <thead>\n",
       "    <tr style=\"text-align: right;\">\n",
       "      <th></th>\n",
       "      <th>successfulLaunches</th>\n",
       "      <th>leoCapacity</th>\n",
       "      <th>height</th>\n",
       "      <th>span</th>\n",
       "      <th>diameter</th>\n",
       "      <th>failedLaunches</th>\n",
       "      <th>depth</th>\n",
       "      <th>mass</th>\n",
       "      <th>width</th>\n",
       "      <th>name</th>\n",
       "      <th>ssoCapacity</th>\n",
       "      <th>thrustLevel</th>\n",
       "      <th>escCapacity</th>\n",
       "      <th>geoCapacity</th>\n",
       "      <th>gtoCapacity</th>\n",
       "      <th>numStages</th>\n",
       "      <th>LaunchIDs</th>\n",
       "    </tr>\n",
       "  </thead>\n",
       "  <tbody>\n",
       "    <tr>\n",
       "      <th>6</th>\n",
       "      <td>1</td>\n",
       "      <td>4900.0</td>\n",
       "      <td>None</td>\n",
       "      <td>None</td>\n",
       "      <td>4.0</td>\n",
       "      <td>0</td>\n",
       "      <td>None</td>\n",
       "      <td>240000.0</td>\n",
       "      <td>None</td>\n",
       "      <td>Ariane 40 H10+</td>\n",
       "      <td>NaN</td>\n",
       "      <td>752000.0</td>\n",
       "      <td>NaN</td>\n",
       "      <td>NaN</td>\n",
       "      <td>2050.0</td>\n",
       "      <td>3</td>\n",
       "      <td>[331]</td>\n",
       "    </tr>\n",
       "    <tr>\n",
       "      <th>7</th>\n",
       "      <td>97</td>\n",
       "      <td>23000.0</td>\n",
       "      <td>None</td>\n",
       "      <td>None</td>\n",
       "      <td>7.4</td>\n",
       "      <td>3</td>\n",
       "      <td>None</td>\n",
       "      <td>705000.0</td>\n",
       "      <td>None</td>\n",
       "      <td>Proton-M/Briz-M</td>\n",
       "      <td>NaN</td>\n",
       "      <td>1670000.0</td>\n",
       "      <td>NaN</td>\n",
       "      <td>3700.0</td>\n",
       "      <td>6150.0</td>\n",
       "      <td>4</td>\n",
       "      <td>[6193, 6717, 5012, 5144, 4816, 5693, 5721, 634...</td>\n",
       "    </tr>\n",
       "    <tr>\n",
       "      <th>25</th>\n",
       "      <td>9</td>\n",
       "      <td>4500.0</td>\n",
       "      <td>None</td>\n",
       "      <td>None</td>\n",
       "      <td>3.8</td>\n",
       "      <td>2</td>\n",
       "      <td>None</td>\n",
       "      <td>210000.0</td>\n",
       "      <td>None</td>\n",
       "      <td>Ariane 1</td>\n",
       "      <td>NaN</td>\n",
       "      <td>69300.0</td>\n",
       "      <td>730.0</td>\n",
       "      <td>NaN</td>\n",
       "      <td>1835.0</td>\n",
       "      <td>3</td>\n",
       "      <td>[361, 806, 1357, 1405, 1452, 1745, 2654, 3216,...</td>\n",
       "    </tr>\n",
       "  </tbody>\n",
       "</table>\n",
       "</div>"
      ],
      "text/plain": [
       "    successfulLaunches  leoCapacity height  span  diameter  failedLaunches  \\\n",
       "6                    1       4900.0   None  None       4.0               0   \n",
       "7                   97      23000.0   None  None       7.4               3   \n",
       "25                   9       4500.0   None  None       3.8               2   \n",
       "\n",
       "   depth      mass width             name  ssoCapacity  thrustLevel  \\\n",
       "6   None  240000.0  None   Ariane 40 H10+          NaN     752000.0   \n",
       "7   None  705000.0  None  Proton-M/Briz-M          NaN    1670000.0   \n",
       "25  None  210000.0  None         Ariane 1          NaN      69300.0   \n",
       "\n",
       "    escCapacity  geoCapacity  gtoCapacity  numStages  \\\n",
       "6           NaN          NaN       2050.0          3   \n",
       "7           NaN       3700.0       6150.0          4   \n",
       "25        730.0          NaN       1835.0          3   \n",
       "\n",
       "                                            LaunchIDs  \n",
       "6                                               [331]  \n",
       "7   [6193, 6717, 5012, 5144, 4816, 5693, 5721, 634...  \n",
       "25  [361, 806, 1357, 1405, 1452, 1745, 2654, 3216,...  "
      ]
     },
     "execution_count": 11,
     "metadata": {},
     "output_type": "execute_result"
    }
   ],
   "source": [
    "operatorName = 'European Space Agency'\n",
    "opCond = f\"eq(launches.objects.operators.name,'{operatorName}')\"\n",
    "\n",
    "filter = f\"{opCond}\"\n",
    "dataRequest = requestAllPages(pageName=\"/api/launch-vehicles\",filter=filter,include='launches')\n",
    "\n",
    "vehicleIndex = [d['id'] for d in dataRequest]\n",
    "vehicleAttributes = [d['attributes'] for d in dataRequest]\n",
    "vehicle_df = pd.DataFrame(vehicleAttributes,index=vehicleIndex)b\n",
    "\n",
    "vehicleLaunches = []\n",
    "for d in dataRequest:\n",
    "    launchData = d['relationships']['launches']['data']\n",
    "    vehicleLaunches.append([launch['id'] for launch in launchData])\n",
    "vehicle_df['LaunchIDs'] = vehicleLaunches\n",
    "\n",
    "vehicle_df.head(3)"
   ]
  },
  {
   "cell_type": "markdown",
   "id": "0eeffb24-1dac-4696-b620-6fe5ef5597ce",
   "metadata": {
    "jp-MarkdownHeadingCollapsed": true,
    "tags": []
   },
   "source": [
    "# Uberlog and ARES"
   ]
  },
  {
   "cell_type": "code",
   "execution_count": 7,
   "id": "90673325-ef31-4636-8a9b-818ec78a96f4",
   "metadata": {},
   "outputs": [
    {
     "data": {
      "text/plain": [
       "{'count': 1691,\n",
       " 'entries': [{'author': 'admin',\n",
       "   'creationDate': 1518427647133,\n",
       "   'eventDate': 1518427646000,\n",
       "   'group': '',\n",
       "   'id': '5a815dffd242d32bffd2da21',\n",
       "   'mission': 'gaia',\n",
       "   'severity': 'Error',\n",
       "   'text': '<div>Next 2 passes not covered.</div>'}],\n",
       " 'limit': 10,\n",
       " 'skip': 0}"
      ]
     },
     "execution_count": 7,
     "metadata": {},
     "output_type": "execute_result"
    }
   ],
   "source": [
    "resp_json = requestUberlog('gaia')\n",
    "resp_json"
   ]
  },
  {
   "cell_type": "code",
   "execution_count": 30,
   "id": "54f7f4f9-f8b2-4d99-9511-e2fed8df3b69",
   "metadata": {},
   "outputs": [
    {
     "data": {
      "text/plain": [
       "[{'data': [{'timestamp': 1538300000000, 'value': 2.656369948440532},\n",
       "   {'timestamp': 1538350000000, 'value': 1.0482780028455796},\n",
       "   {'timestamp': 1538400000000, 'value': 0.5311632146975165}],\n",
       "  'mission': 'gaia',\n",
       "  'parameter': 'x1234'}]"
      ]
     },
     "execution_count": 30,
     "metadata": {},
     "output_type": "execute_result"
    }
   ],
   "source": [
    "mission = 'gaia'\n",
    "parameter = 'x1234'\n",
    "\n",
    "t1 = time.strptime(\"01 Oct 2018 00:00\", \"%d %b %Y %H:%M\")\n",
    "t2 = time.strptime(\"02 Oct 2018 10:00\", \"%d %b %Y %H:%M\")\n",
    "intervalStart = int(time.mktime(t1)*1000.)\n",
    "intervalEnd = int(time.mktime(t2)*1000.)\n",
    "\n",
    "resp_json = requestAres(mission, parameter, intervalStart, intervalEnd, pageName=\"data\", operation=None)\n",
    "resp_json"
   ]
  },
  {
   "cell_type": "markdown",
   "id": "86752b97-7118-4034-814e-2883fe526e4e",
   "metadata": {
    "tags": []
   },
   "source": [
    "# Request All DISCOS Data"
   ]
  },
  {
   "cell_type": "markdown",
   "id": "0e10d230-6acb-4888-8f35-ad64c07d3670",
   "metadata": {
    "jp-MarkdownHeadingCollapsed": true,
    "tags": []
   },
   "source": [
    "## Objects"
   ]
  },
  {
   "cell_type": "code",
   "execution_count": 66,
   "id": "3d4dbdba-32e7-439b-bd7e-a0bfc27ebaac",
   "metadata": {},
   "outputs": [
    {
     "data": {
      "application/vnd.jupyter.widget-view+json": {
       "model_id": "",
       "version_major": 2,
       "version_minor": 0
      },
      "text/plain": [
       "  0%|          | 0/60 [00:00<?, ?it/s]"
      ]
     },
     "metadata": {},
     "output_type": "display_data"
    },
    {
     "data": {
      "application/vnd.jupyter.widget-view+json": {
       "model_id": "",
       "version_major": 2,
       "version_minor": 0
      },
      "text/plain": [
       "  0%|          | 0/60 [00:00<?, ?it/s]"
      ]
     },
     "metadata": {},
     "output_type": "display_data"
    },
    {
     "data": {
      "application/vnd.jupyter.widget-view+json": {
       "model_id": "",
       "version_major": 2,
       "version_minor": 0
      },
      "text/plain": [
       "  0%|          | 0/60 [00:00<?, ?it/s]"
      ]
     },
     "metadata": {},
     "output_type": "display_data"
    },
    {
     "data": {
      "application/vnd.jupyter.widget-view+json": {
       "model_id": "",
       "version_major": 2,
       "version_minor": 0
      },
      "text/plain": [
       "  0%|          | 0/60 [00:00<?, ?it/s]"
      ]
     },
     "metadata": {},
     "output_type": "display_data"
    },
    {
     "data": {
      "application/vnd.jupyter.widget-view+json": {
       "model_id": "",
       "version_major": 2,
       "version_minor": 0
      },
      "text/plain": [
       "  0%|          | 0/60 [00:00<?, ?it/s]"
      ]
     },
     "metadata": {},
     "output_type": "display_data"
    },
    {
     "data": {
      "application/vnd.jupyter.widget-view+json": {
       "model_id": "",
       "version_major": 2,
       "version_minor": 0
      },
      "text/plain": [
       "  0%|          | 0/60 [00:00<?, ?it/s]"
      ]
     },
     "metadata": {},
     "output_type": "display_data"
    },
    {
     "data": {
      "application/vnd.jupyter.widget-view+json": {
       "model_id": "",
       "version_major": 2,
       "version_minor": 0
      },
      "text/plain": [
       "  0%|          | 0/60 [00:00<?, ?it/s]"
      ]
     },
     "metadata": {},
     "output_type": "display_data"
    },
    {
     "data": {
      "application/vnd.jupyter.widget-view+json": {
       "model_id": "",
       "version_major": 2,
       "version_minor": 0
      },
      "text/plain": [
       "  0%|          | 0/60 [00:00<?, ?it/s]"
      ]
     },
     "metadata": {},
     "output_type": "display_data"
    },
    {
     "data": {
      "application/vnd.jupyter.widget-view+json": {
       "model_id": "",
       "version_major": 2,
       "version_minor": 0
      },
      "text/plain": [
       "  0%|          | 0/60 [00:00<?, ?it/s]"
      ]
     },
     "metadata": {},
     "output_type": "display_data"
    },
    {
     "data": {
      "application/vnd.jupyter.widget-view+json": {
       "model_id": "",
       "version_major": 2,
       "version_minor": 0
      },
      "text/plain": [
       "  0%|          | 0/60 [00:00<?, ?it/s]"
      ]
     },
     "metadata": {},
     "output_type": "display_data"
    },
    {
     "data": {
      "application/vnd.jupyter.widget-view+json": {
       "model_id": "",
       "version_major": 2,
       "version_minor": 0
      },
      "text/plain": [
       "  0%|          | 0/60 [00:00<?, ?it/s]"
      ]
     },
     "metadata": {},
     "output_type": "display_data"
    },
    {
     "data": {
      "application/vnd.jupyter.widget-view+json": {
       "model_id": "",
       "version_major": 2,
       "version_minor": 0
      },
      "text/plain": [
       "  0%|          | 0/60 [00:00<?, ?it/s]"
      ]
     },
     "metadata": {},
     "output_type": "display_data"
    },
    {
     "data": {
      "application/vnd.jupyter.widget-view+json": {
       "model_id": "",
       "version_major": 2,
       "version_minor": 0
      },
      "text/plain": [
       "  0%|          | 0/60 [00:00<?, ?it/s]"
      ]
     },
     "metadata": {},
     "output_type": "display_data"
    },
    {
     "data": {
      "application/vnd.jupyter.widget-view+json": {
       "model_id": "",
       "version_major": 2,
       "version_minor": 0
      },
      "text/plain": [
       "  0%|          | 0/59 [00:00<?, ?it/s]"
      ]
     },
     "metadata": {},
     "output_type": "display_data"
    },
    {
     "data": {
      "application/vnd.jupyter.widget-view+json": {
       "model_id": "",
       "version_major": 2,
       "version_minor": 0
      },
      "text/plain": [
       "  0%|          | 0/60 [00:00<?, ?it/s]"
      ]
     },
     "metadata": {},
     "output_type": "display_data"
    },
    {
     "data": {
      "application/vnd.jupyter.widget-view+json": {
       "model_id": "",
       "version_major": 2,
       "version_minor": 0
      },
      "text/plain": [
       "  0%|          | 0/60 [00:00<?, ?it/s]"
      ]
     },
     "metadata": {},
     "output_type": "display_data"
    },
    {
     "data": {
      "application/vnd.jupyter.widget-view+json": {
       "model_id": "",
       "version_major": 2,
       "version_minor": 0
      },
      "text/plain": [
       "  0%|          | 0/60 [00:00<?, ?it/s]"
      ]
     },
     "metadata": {},
     "output_type": "display_data"
    },
    {
     "data": {
      "application/vnd.jupyter.widget-view+json": {
       "model_id": "",
       "version_major": 2,
       "version_minor": 0
      },
      "text/plain": [
       "  0%|          | 0/59 [00:00<?, ?it/s]"
      ]
     },
     "metadata": {},
     "output_type": "display_data"
    },
    {
     "data": {
      "application/vnd.jupyter.widget-view+json": {
       "model_id": "",
       "version_major": 2,
       "version_minor": 0
      },
      "text/plain": [
       "  0%|          | 0/60 [00:00<?, ?it/s]"
      ]
     },
     "metadata": {},
     "output_type": "display_data"
    },
    {
     "data": {
      "application/vnd.jupyter.widget-view+json": {
       "model_id": "",
       "version_major": 2,
       "version_minor": 0
      },
      "text/plain": [
       "  0%|          | 0/60 [00:00<?, ?it/s]"
      ]
     },
     "metadata": {},
     "output_type": "display_data"
    },
    {
     "data": {
      "application/vnd.jupyter.widget-view+json": {
       "model_id": "",
       "version_major": 2,
       "version_minor": 0
      },
      "text/plain": [
       "  0%|          | 0/61 [00:00<?, ?it/s]"
      ]
     },
     "metadata": {},
     "output_type": "display_data"
    },
    {
     "data": {
      "application/vnd.jupyter.widget-view+json": {
       "model_id": "",
       "version_major": 2,
       "version_minor": 0
      },
      "text/plain": [
       "  0%|          | 0/60 [00:00<?, ?it/s]"
      ]
     },
     "metadata": {},
     "output_type": "display_data"
    },
    {
     "data": {
      "application/vnd.jupyter.widget-view+json": {
       "model_id": "",
       "version_major": 2,
       "version_minor": 0
      },
      "text/plain": [
       "  0%|          | 0/61 [00:00<?, ?it/s]"
      ]
     },
     "metadata": {},
     "output_type": "display_data"
    },
    {
     "data": {
      "application/vnd.jupyter.widget-view+json": {
       "model_id": "",
       "version_major": 2,
       "version_minor": 0
      },
      "text/plain": [
       "  0%|          | 0/60 [00:00<?, ?it/s]"
      ]
     },
     "metadata": {},
     "output_type": "display_data"
    },
    {
     "data": {
      "application/vnd.jupyter.widget-view+json": {
       "model_id": "",
       "version_major": 2,
       "version_minor": 0
      },
      "text/plain": [
       "  0%|          | 0/60 [00:00<?, ?it/s]"
      ]
     },
     "metadata": {},
     "output_type": "display_data"
    },
    {
     "data": {
      "application/vnd.jupyter.widget-view+json": {
       "model_id": "",
       "version_major": 2,
       "version_minor": 0
      },
      "text/plain": [
       "  0%|          | 0/60 [00:00<?, ?it/s]"
      ]
     },
     "metadata": {},
     "output_type": "display_data"
    },
    {
     "data": {
      "application/vnd.jupyter.widget-view+json": {
       "model_id": "",
       "version_major": 2,
       "version_minor": 0
      },
      "text/plain": [
       "  0%|          | 0/60 [00:00<?, ?it/s]"
      ]
     },
     "metadata": {},
     "output_type": "display_data"
    },
    {
     "data": {
      "application/vnd.jupyter.widget-view+json": {
       "model_id": "",
       "version_major": 2,
       "version_minor": 0
      },
      "text/plain": [
       "  0%|          | 0/60 [00:00<?, ?it/s]"
      ]
     },
     "metadata": {},
     "output_type": "display_data"
    },
    {
     "data": {
      "application/vnd.jupyter.widget-view+json": {
       "model_id": "",
       "version_major": 2,
       "version_minor": 0
      },
      "text/plain": [
       "  0%|          | 0/60 [00:00<?, ?it/s]"
      ]
     },
     "metadata": {},
     "output_type": "display_data"
    },
    {
     "data": {
      "application/vnd.jupyter.widget-view+json": {
       "model_id": "",
       "version_major": 2,
       "version_minor": 0
      },
      "text/plain": [
       "  0%|          | 0/60 [00:00<?, ?it/s]"
      ]
     },
     "metadata": {},
     "output_type": "display_data"
    }
   ],
   "source": [
    "dataObj, _ = requestAllAndWait(pageName=\"/api/objects\",sort='id',include='operators,states')"
   ]
  },
  {
   "cell_type": "code",
   "execution_count": 26,
   "id": "4deb907b-6ffc-4bd6-ba37-3f4c0ec5817c",
   "metadata": {},
   "outputs": [
    {
     "data": {
      "text/html": [
       "<div>\n",
       "<style scoped>\n",
       "    .dataframe tbody tr th:only-of-type {\n",
       "        vertical-align: middle;\n",
       "    }\n",
       "\n",
       "    .dataframe tbody tr th {\n",
       "        vertical-align: top;\n",
       "    }\n",
       "\n",
       "    .dataframe thead th {\n",
       "        text-align: right;\n",
       "    }\n",
       "</style>\n",
       "<table border=\"1\" class=\"dataframe\">\n",
       "  <thead>\n",
       "    <tr style=\"text-align: right;\">\n",
       "      <th></th>\n",
       "      <th>cosparId</th>\n",
       "      <th>name</th>\n",
       "      <th>depth</th>\n",
       "      <th>xSectMin</th>\n",
       "      <th>diameter</th>\n",
       "      <th>span</th>\n",
       "      <th>xSectAvg</th>\n",
       "      <th>satno</th>\n",
       "      <th>shape</th>\n",
       "      <th>objectClass</th>\n",
       "      <th>mass</th>\n",
       "      <th>height</th>\n",
       "      <th>width</th>\n",
       "      <th>vimpelId</th>\n",
       "      <th>xSectMax</th>\n",
       "    </tr>\n",
       "  </thead>\n",
       "  <tbody>\n",
       "    <tr>\n",
       "      <th>1</th>\n",
       "      <td>1957-001A</td>\n",
       "      <td>Sputnik (8K71PS) Blok-A</td>\n",
       "      <td>NaN</td>\n",
       "      <td>5.309292</td>\n",
       "      <td>2.60</td>\n",
       "      <td>28.00</td>\n",
       "      <td>59.831632</td>\n",
       "      <td>1.0</td>\n",
       "      <td>Cyl</td>\n",
       "      <td>Rocket Body</td>\n",
       "      <td>3964.32</td>\n",
       "      <td>28.00</td>\n",
       "      <td>NaN</td>\n",
       "      <td>NaN</td>\n",
       "      <td>72.993346</td>\n",
       "    </tr>\n",
       "    <tr>\n",
       "      <th>2</th>\n",
       "      <td>1957-001B</td>\n",
       "      <td>Sputnik 1</td>\n",
       "      <td>0.58</td>\n",
       "      <td>0.264200</td>\n",
       "      <td>NaN</td>\n",
       "      <td>0.58</td>\n",
       "      <td>0.264200</td>\n",
       "      <td>2.0</td>\n",
       "      <td>Sphere</td>\n",
       "      <td>Payload</td>\n",
       "      <td>82.85</td>\n",
       "      <td>0.58</td>\n",
       "      <td>0.58</td>\n",
       "      <td>NaN</td>\n",
       "      <td>0.264200</td>\n",
       "    </tr>\n",
       "    <tr>\n",
       "      <th>3</th>\n",
       "      <td>1957-002A</td>\n",
       "      <td>Sputnik 2</td>\n",
       "      <td>NaN</td>\n",
       "      <td>0.785398</td>\n",
       "      <td>1.00</td>\n",
       "      <td>2.00</td>\n",
       "      <td>1.963495</td>\n",
       "      <td>3.0</td>\n",
       "      <td>Cone + Cyl</td>\n",
       "      <td>Payload</td>\n",
       "      <td>503.77</td>\n",
       "      <td>2.00</td>\n",
       "      <td>NaN</td>\n",
       "      <td>NaN</td>\n",
       "      <td>2.148686</td>\n",
       "    </tr>\n",
       "    <tr>\n",
       "      <th>4</th>\n",
       "      <td>1958-001A</td>\n",
       "      <td>Explorer 1</td>\n",
       "      <td>NaN</td>\n",
       "      <td>0.017671</td>\n",
       "      <td>0.15</td>\n",
       "      <td>2.03</td>\n",
       "      <td>0.247989</td>\n",
       "      <td>4.0</td>\n",
       "      <td>Cyl</td>\n",
       "      <td>Payload</td>\n",
       "      <td>13.88</td>\n",
       "      <td>2.03</td>\n",
       "      <td>NaN</td>\n",
       "      <td>NaN</td>\n",
       "      <td>0.305012</td>\n",
       "    </tr>\n",
       "    <tr>\n",
       "      <th>5</th>\n",
       "      <td>1958-002B</td>\n",
       "      <td>Vanguard 1</td>\n",
       "      <td>NaN</td>\n",
       "      <td>0.020106</td>\n",
       "      <td>0.16</td>\n",
       "      <td>0.16</td>\n",
       "      <td>0.020106</td>\n",
       "      <td>5.0</td>\n",
       "      <td>Sphere</td>\n",
       "      <td>Payload</td>\n",
       "      <td>1.46</td>\n",
       "      <td>NaN</td>\n",
       "      <td>NaN</td>\n",
       "      <td>NaN</td>\n",
       "      <td>0.020106</td>\n",
       "    </tr>\n",
       "  </tbody>\n",
       "</table>\n",
       "</div>"
      ],
      "text/plain": [
       "    cosparId                     name  depth  xSectMin  diameter   span  \\\n",
       "1  1957-001A  Sputnik (8K71PS) Blok-A    NaN  5.309292      2.60  28.00   \n",
       "2  1957-001B                Sputnik 1   0.58  0.264200       NaN   0.58   \n",
       "3  1957-002A                Sputnik 2    NaN  0.785398      1.00   2.00   \n",
       "4  1958-001A               Explorer 1    NaN  0.017671      0.15   2.03   \n",
       "5  1958-002B               Vanguard 1    NaN  0.020106      0.16   0.16   \n",
       "\n",
       "    xSectAvg  satno       shape  objectClass     mass  height  width  \\\n",
       "1  59.831632    1.0         Cyl  Rocket Body  3964.32   28.00    NaN   \n",
       "2   0.264200    2.0      Sphere      Payload    82.85    0.58   0.58   \n",
       "3   1.963495    3.0  Cone + Cyl      Payload   503.77    2.00    NaN   \n",
       "4   0.247989    4.0         Cyl      Payload    13.88    2.03    NaN   \n",
       "5   0.020106    5.0      Sphere      Payload     1.46     NaN    NaN   \n",
       "\n",
       "   vimpelId   xSectMax  \n",
       "1       NaN  72.993346  \n",
       "2       NaN   0.264200  \n",
       "3       NaN   2.148686  \n",
       "4       NaN   0.305012  \n",
       "5       NaN   0.020106  "
      ]
     },
     "execution_count": 26,
     "metadata": {},
     "output_type": "execute_result"
    }
   ],
   "source": [
    "objectIndex = [int(d['id']) for d in dataObj]\n",
    "objectAttributes = [d['attributes'] for d in dataObj]\n",
    "object_df = pd.DataFrame(objectAttributes,index=objectIndex)\n",
    "object_df.sort_index(inplace=True)\n",
    "\n",
    "object_df.head()"
   ]
  },
  {
   "cell_type": "code",
   "execution_count": 68,
   "id": "77005be5-fedb-470c-8e9c-b83f1bfe7d39",
   "metadata": {},
   "outputs": [
    {
     "data": {
      "text/html": [
       "<div>\n",
       "<style scoped>\n",
       "    .dataframe tbody tr th:only-of-type {\n",
       "        vertical-align: middle;\n",
       "    }\n",
       "\n",
       "    .dataframe tbody tr th {\n",
       "        vertical-align: top;\n",
       "    }\n",
       "\n",
       "    .dataframe thead th {\n",
       "        text-align: right;\n",
       "    }\n",
       "</style>\n",
       "<table border=\"1\" class=\"dataframe\">\n",
       "  <thead>\n",
       "    <tr style=\"text-align: right;\">\n",
       "      <th></th>\n",
       "      <th>cosparId</th>\n",
       "      <th>name</th>\n",
       "      <th>depth</th>\n",
       "      <th>xSectMin</th>\n",
       "      <th>diameter</th>\n",
       "      <th>span</th>\n",
       "      <th>xSectAvg</th>\n",
       "      <th>satno</th>\n",
       "      <th>shape</th>\n",
       "      <th>objectClass</th>\n",
       "      <th>mass</th>\n",
       "      <th>height</th>\n",
       "      <th>width</th>\n",
       "      <th>vimpelId</th>\n",
       "      <th>xSectMax</th>\n",
       "      <th>operators</th>\n",
       "      <th>states</th>\n",
       "    </tr>\n",
       "  </thead>\n",
       "  <tbody>\n",
       "    <tr>\n",
       "      <th>1</th>\n",
       "      <td>1957-001A</td>\n",
       "      <td>Sputnik (8K71PS) Blok-A</td>\n",
       "      <td>NaN</td>\n",
       "      <td>5.309292</td>\n",
       "      <td>2.60</td>\n",
       "      <td>28.00</td>\n",
       "      <td>59.831632</td>\n",
       "      <td>1.0</td>\n",
       "      <td>Cyl</td>\n",
       "      <td>Rocket Body</td>\n",
       "      <td>3964.32</td>\n",
       "      <td>28.00</td>\n",
       "      <td>NaN</td>\n",
       "      <td>NaN</td>\n",
       "      <td>72.993346</td>\n",
       "      <td>[718]</td>\n",
       "      <td>[264]</td>\n",
       "    </tr>\n",
       "    <tr>\n",
       "      <th>2</th>\n",
       "      <td>1957-001B</td>\n",
       "      <td>Sputnik 1</td>\n",
       "      <td>0.58</td>\n",
       "      <td>0.264200</td>\n",
       "      <td>NaN</td>\n",
       "      <td>0.58</td>\n",
       "      <td>0.264200</td>\n",
       "      <td>2.0</td>\n",
       "      <td>Sphere</td>\n",
       "      <td>Payload</td>\n",
       "      <td>82.85</td>\n",
       "      <td>0.58</td>\n",
       "      <td>0.58</td>\n",
       "      <td>NaN</td>\n",
       "      <td>0.264200</td>\n",
       "      <td>[672]</td>\n",
       "      <td>[264]</td>\n",
       "    </tr>\n",
       "    <tr>\n",
       "      <th>3</th>\n",
       "      <td>1957-002A</td>\n",
       "      <td>Sputnik 2</td>\n",
       "      <td>NaN</td>\n",
       "      <td>0.785398</td>\n",
       "      <td>1.00</td>\n",
       "      <td>2.00</td>\n",
       "      <td>1.963495</td>\n",
       "      <td>3.0</td>\n",
       "      <td>Cone + Cyl</td>\n",
       "      <td>Payload</td>\n",
       "      <td>503.77</td>\n",
       "      <td>2.00</td>\n",
       "      <td>NaN</td>\n",
       "      <td>NaN</td>\n",
       "      <td>2.148686</td>\n",
       "      <td>[672]</td>\n",
       "      <td>[264]</td>\n",
       "    </tr>\n",
       "    <tr>\n",
       "      <th>4</th>\n",
       "      <td>1958-001A</td>\n",
       "      <td>Explorer 1</td>\n",
       "      <td>NaN</td>\n",
       "      <td>0.017671</td>\n",
       "      <td>0.15</td>\n",
       "      <td>2.03</td>\n",
       "      <td>0.247989</td>\n",
       "      <td>4.0</td>\n",
       "      <td>Cyl</td>\n",
       "      <td>Payload</td>\n",
       "      <td>13.88</td>\n",
       "      <td>2.03</td>\n",
       "      <td>NaN</td>\n",
       "      <td>NaN</td>\n",
       "      <td>0.305012</td>\n",
       "      <td>[321, 572]</td>\n",
       "      <td>[259]</td>\n",
       "    </tr>\n",
       "    <tr>\n",
       "      <th>5</th>\n",
       "      <td>1958-002B</td>\n",
       "      <td>Vanguard 1</td>\n",
       "      <td>NaN</td>\n",
       "      <td>0.020106</td>\n",
       "      <td>0.16</td>\n",
       "      <td>0.16</td>\n",
       "      <td>0.020106</td>\n",
       "      <td>5.0</td>\n",
       "      <td>Sphere</td>\n",
       "      <td>Payload</td>\n",
       "      <td>1.46</td>\n",
       "      <td>NaN</td>\n",
       "      <td>NaN</td>\n",
       "      <td>NaN</td>\n",
       "      <td>0.020106</td>\n",
       "      <td>[653]</td>\n",
       "      <td>[259]</td>\n",
       "    </tr>\n",
       "    <tr>\n",
       "      <th>...</th>\n",
       "      <td>...</td>\n",
       "      <td>...</td>\n",
       "      <td>...</td>\n",
       "      <td>...</td>\n",
       "      <td>...</td>\n",
       "      <td>...</td>\n",
       "      <td>...</td>\n",
       "      <td>...</td>\n",
       "      <td>...</td>\n",
       "      <td>...</td>\n",
       "      <td>...</td>\n",
       "      <td>...</td>\n",
       "      <td>...</td>\n",
       "      <td>...</td>\n",
       "      <td>...</td>\n",
       "      <td>...</td>\n",
       "      <td>...</td>\n",
       "    </tr>\n",
       "    <tr>\n",
       "      <th>72953</th>\n",
       "      <td>None</td>\n",
       "      <td>None</td>\n",
       "      <td>NaN</td>\n",
       "      <td>NaN</td>\n",
       "      <td>NaN</td>\n",
       "      <td>NaN</td>\n",
       "      <td>NaN</td>\n",
       "      <td>NaN</td>\n",
       "      <td>None</td>\n",
       "      <td>Unknown</td>\n",
       "      <td>NaN</td>\n",
       "      <td>NaN</td>\n",
       "      <td>NaN</td>\n",
       "      <td>134006.0</td>\n",
       "      <td>NaN</td>\n",
       "      <td>None</td>\n",
       "      <td>None</td>\n",
       "    </tr>\n",
       "    <tr>\n",
       "      <th>72954</th>\n",
       "      <td>None</td>\n",
       "      <td>None</td>\n",
       "      <td>NaN</td>\n",
       "      <td>NaN</td>\n",
       "      <td>NaN</td>\n",
       "      <td>NaN</td>\n",
       "      <td>NaN</td>\n",
       "      <td>NaN</td>\n",
       "      <td>None</td>\n",
       "      <td>Unknown</td>\n",
       "      <td>NaN</td>\n",
       "      <td>NaN</td>\n",
       "      <td>NaN</td>\n",
       "      <td>76024.0</td>\n",
       "      <td>NaN</td>\n",
       "      <td>None</td>\n",
       "      <td>None</td>\n",
       "    </tr>\n",
       "    <tr>\n",
       "      <th>72955</th>\n",
       "      <td>None</td>\n",
       "      <td>None</td>\n",
       "      <td>NaN</td>\n",
       "      <td>NaN</td>\n",
       "      <td>NaN</td>\n",
       "      <td>NaN</td>\n",
       "      <td>NaN</td>\n",
       "      <td>NaN</td>\n",
       "      <td>None</td>\n",
       "      <td>Unknown</td>\n",
       "      <td>NaN</td>\n",
       "      <td>NaN</td>\n",
       "      <td>NaN</td>\n",
       "      <td>120702.0</td>\n",
       "      <td>NaN</td>\n",
       "      <td>None</td>\n",
       "      <td>None</td>\n",
       "    </tr>\n",
       "    <tr>\n",
       "      <th>72958</th>\n",
       "      <td>2022-085A</td>\n",
       "      <td>None</td>\n",
       "      <td>NaN</td>\n",
       "      <td>NaN</td>\n",
       "      <td>NaN</td>\n",
       "      <td>NaN</td>\n",
       "      <td>NaN</td>\n",
       "      <td>53239.0</td>\n",
       "      <td>None</td>\n",
       "      <td>Unknown</td>\n",
       "      <td>NaN</td>\n",
       "      <td>NaN</td>\n",
       "      <td>NaN</td>\n",
       "      <td>NaN</td>\n",
       "      <td>NaN</td>\n",
       "      <td>None</td>\n",
       "      <td>None</td>\n",
       "    </tr>\n",
       "    <tr>\n",
       "      <th>72959</th>\n",
       "      <td>2022-085B</td>\n",
       "      <td>None</td>\n",
       "      <td>NaN</td>\n",
       "      <td>NaN</td>\n",
       "      <td>NaN</td>\n",
       "      <td>NaN</td>\n",
       "      <td>NaN</td>\n",
       "      <td>53240.0</td>\n",
       "      <td>None</td>\n",
       "      <td>Unknown</td>\n",
       "      <td>NaN</td>\n",
       "      <td>NaN</td>\n",
       "      <td>NaN</td>\n",
       "      <td>NaN</td>\n",
       "      <td>NaN</td>\n",
       "      <td>None</td>\n",
       "      <td>None</td>\n",
       "    </tr>\n",
       "  </tbody>\n",
       "</table>\n",
       "<p>61928 rows × 17 columns</p>\n",
       "</div>"
      ],
      "text/plain": [
       "        cosparId                     name  depth  xSectMin  diameter   span  \\\n",
       "1      1957-001A  Sputnik (8K71PS) Blok-A    NaN  5.309292      2.60  28.00   \n",
       "2      1957-001B                Sputnik 1   0.58  0.264200       NaN   0.58   \n",
       "3      1957-002A                Sputnik 2    NaN  0.785398      1.00   2.00   \n",
       "4      1958-001A               Explorer 1    NaN  0.017671      0.15   2.03   \n",
       "5      1958-002B               Vanguard 1    NaN  0.020106      0.16   0.16   \n",
       "...          ...                      ...    ...       ...       ...    ...   \n",
       "72953       None                     None    NaN       NaN       NaN    NaN   \n",
       "72954       None                     None    NaN       NaN       NaN    NaN   \n",
       "72955       None                     None    NaN       NaN       NaN    NaN   \n",
       "72958  2022-085A                     None    NaN       NaN       NaN    NaN   \n",
       "72959  2022-085B                     None    NaN       NaN       NaN    NaN   \n",
       "\n",
       "        xSectAvg    satno       shape  objectClass     mass  height  width  \\\n",
       "1      59.831632      1.0         Cyl  Rocket Body  3964.32   28.00    NaN   \n",
       "2       0.264200      2.0      Sphere      Payload    82.85    0.58   0.58   \n",
       "3       1.963495      3.0  Cone + Cyl      Payload   503.77    2.00    NaN   \n",
       "4       0.247989      4.0         Cyl      Payload    13.88    2.03    NaN   \n",
       "5       0.020106      5.0      Sphere      Payload     1.46     NaN    NaN   \n",
       "...          ...      ...         ...          ...      ...     ...    ...   \n",
       "72953        NaN      NaN        None      Unknown      NaN     NaN    NaN   \n",
       "72954        NaN      NaN        None      Unknown      NaN     NaN    NaN   \n",
       "72955        NaN      NaN        None      Unknown      NaN     NaN    NaN   \n",
       "72958        NaN  53239.0        None      Unknown      NaN     NaN    NaN   \n",
       "72959        NaN  53240.0        None      Unknown      NaN     NaN    NaN   \n",
       "\n",
       "       vimpelId   xSectMax   operators states  \n",
       "1           NaN  72.993346       [718]  [264]  \n",
       "2           NaN   0.264200       [672]  [264]  \n",
       "3           NaN   2.148686       [672]  [264]  \n",
       "4           NaN   0.305012  [321, 572]  [259]  \n",
       "5           NaN   0.020106       [653]  [259]  \n",
       "...         ...        ...         ...    ...  \n",
       "72953  134006.0        NaN        None   None  \n",
       "72954   76024.0        NaN        None   None  \n",
       "72955  120702.0        NaN        None   None  \n",
       "72958       NaN        NaN        None   None  \n",
       "72959       NaN        NaN        None   None  \n",
       "\n",
       "[61928 rows x 17 columns]"
      ]
     },
     "execution_count": 68,
     "metadata": {},
     "output_type": "execute_result"
    }
   ],
   "source": [
    "rel_att = ['operators', 'states']\n",
    "object_df = data2df(dataObj, rel_att)\n",
    "\n",
    "object_df"
   ]
  },
  {
   "cell_type": "code",
   "execution_count": 69,
   "id": "36f7b580-aacb-4e0a-a5c7-81b5d072f389",
   "metadata": {},
   "outputs": [],
   "source": [
    "object_df.to_csv('all_discos_obj.csv')"
   ]
  },
  {
   "cell_type": "code",
   "execution_count": 70,
   "id": "1cc48829-d149-4810-9ed1-52fa17af15a5",
   "metadata": {},
   "outputs": [
    {
     "data": {
      "text/plain": [
       "61928"
      ]
     },
     "execution_count": 70,
     "metadata": {},
     "output_type": "execute_result"
    }
   ],
   "source": [
    "len(object_df)"
   ]
  },
  {
   "cell_type": "markdown",
   "id": "4495a9a9-52d2-4d09-b145-29c97dd93fa2",
   "metadata": {
    "jp-MarkdownHeadingCollapsed": true,
    "tags": []
   },
   "source": [
    "## Fragmentations"
   ]
  },
  {
   "cell_type": "code",
   "execution_count": 21,
   "id": "96932d69-3a0a-4c35-bfb3-ea7b049b057f",
   "metadata": {},
   "outputs": [],
   "source": [
    "dataFrag, incFrag = requestAllAndWait(pageName=\"/api/fragmentations\",include=\"objects\")"
   ]
  },
  {
   "cell_type": "code",
   "execution_count": 22,
   "id": "c3749d6a-df88-41c8-a15e-302822af47d3",
   "metadata": {},
   "outputs": [
    {
     "data": {
      "text/plain": [
       "{'type': 'fragmentation',\n",
       " 'attributes': {'eventType': 'Unknown',\n",
       "  'longitude': None,\n",
       "  'comment': 'Event data is for epoch of 3 January 1980, given the uncertainty in actual time of separation event(s). It is likely that four of he 24 anomalous debris are associated with other space missions.',\n",
       "  'altitude': None,\n",
       "  'epoch': '1979-12-15',\n",
       "  'latitude': None},\n",
       " 'id': '53',\n",
       " 'relationships': {'objects': {'links': {'self': '/api/fragmentations/53/relationships/objects',\n",
       "    'related': '/api/fragmentations/53/objects'},\n",
       "   'data': [{'type': 'object', 'id': '746'}]}},\n",
       " 'links': {'self': '/api/fragmentations/53'}}"
      ]
     },
     "execution_count": 22,
     "metadata": {},
     "output_type": "execute_result"
    }
   ],
   "source": [
    "dataFrag[0]"
   ]
  },
  {
   "cell_type": "code",
   "execution_count": 25,
   "id": "3c0d010c-a24a-4fd7-9bff-d19aaa11bbc1",
   "metadata": {},
   "outputs": [
    {
     "data": {
      "text/html": [
       "<div>\n",
       "<style scoped>\n",
       "    .dataframe tbody tr th:only-of-type {\n",
       "        vertical-align: middle;\n",
       "    }\n",
       "\n",
       "    .dataframe tbody tr th {\n",
       "        vertical-align: top;\n",
       "    }\n",
       "\n",
       "    .dataframe thead th {\n",
       "        text-align: right;\n",
       "    }\n",
       "</style>\n",
       "<table border=\"1\" class=\"dataframe\">\n",
       "  <thead>\n",
       "    <tr style=\"text-align: right;\">\n",
       "      <th></th>\n",
       "      <th>eventType</th>\n",
       "      <th>longitude</th>\n",
       "      <th>comment</th>\n",
       "      <th>altitude</th>\n",
       "      <th>epoch</th>\n",
       "      <th>latitude</th>\n",
       "      <th>object</th>\n",
       "    </tr>\n",
       "  </thead>\n",
       "  <tbody>\n",
       "    <tr>\n",
       "      <th>1</th>\n",
       "      <td>Zenit-2 Upper Stage</td>\n",
       "      <td>None</td>\n",
       "      <td>The Zenit second stage low thrust engine used ...</td>\n",
       "      <td>NaN</td>\n",
       "      <td>1985-12-28</td>\n",
       "      <td>None</td>\n",
       "      <td>[16436]</td>\n",
       "    </tr>\n",
       "    <tr>\n",
       "      <th>2</th>\n",
       "      <td>Proton Ullage Motor</td>\n",
       "      <td>331.900000</td>\n",
       "      <td>Parent satellite was one of two small engine u...</td>\n",
       "      <td>4730.0</td>\n",
       "      <td>1991-12-29</td>\n",
       "      <td>25.300000</td>\n",
       "      <td>[16443]</td>\n",
       "    </tr>\n",
       "    <tr>\n",
       "      <th>3</th>\n",
       "      <td>Ariane Upper Stage</td>\n",
       "      <td>42.000000</td>\n",
       "      <td>Event occurred approximately nine months after...</td>\n",
       "      <td>805.0</td>\n",
       "      <td>1986-11-13</td>\n",
       "      <td>7.000000</td>\n",
       "      <td>[16612]</td>\n",
       "    </tr>\n",
       "    <tr>\n",
       "      <th>4</th>\n",
       "      <td>Cosmos 699 Class (EORSAT)</td>\n",
       "      <td>174.000000</td>\n",
       "      <td>Cosmos 1769 was the fifteenth spacecraft of th...</td>\n",
       "      <td>320.0</td>\n",
       "      <td>1987-09-21</td>\n",
       "      <td>-60.000000</td>\n",
       "      <td>[16892]</td>\n",
       "    </tr>\n",
       "    <tr>\n",
       "      <th>5</th>\n",
       "      <td>Deliberate</td>\n",
       "      <td>166.000000</td>\n",
       "      <td>USA 19 deliberately collided with USA 19 R/B a...</td>\n",
       "      <td>220.0</td>\n",
       "      <td>1986-09-05</td>\n",
       "      <td>15.000000</td>\n",
       "      <td>[16934, 16935]</td>\n",
       "    </tr>\n",
       "  </tbody>\n",
       "</table>\n",
       "</div>"
      ],
      "text/plain": [
       "                   eventType   longitude  \\\n",
       "1        Zenit-2 Upper Stage        None   \n",
       "2        Proton Ullage Motor  331.900000   \n",
       "3         Ariane Upper Stage   42.000000   \n",
       "4  Cosmos 699 Class (EORSAT)  174.000000   \n",
       "5                 Deliberate  166.000000   \n",
       "\n",
       "                                             comment  altitude       epoch  \\\n",
       "1  The Zenit second stage low thrust engine used ...       NaN  1985-12-28   \n",
       "2  Parent satellite was one of two small engine u...    4730.0  1991-12-29   \n",
       "3  Event occurred approximately nine months after...     805.0  1986-11-13   \n",
       "4  Cosmos 1769 was the fifteenth spacecraft of th...     320.0  1987-09-21   \n",
       "5  USA 19 deliberately collided with USA 19 R/B a...     220.0  1986-09-05   \n",
       "\n",
       "     latitude          object  \n",
       "1        None         [16436]  \n",
       "2   25.300000         [16443]  \n",
       "3    7.000000         [16612]  \n",
       "4  -60.000000         [16892]  \n",
       "5   15.000000  [16934, 16935]  "
      ]
     },
     "execution_count": 25,
     "metadata": {},
     "output_type": "execute_result"
    }
   ],
   "source": [
    "fragIndex = [int(d['id']) for d in dataFrag]\n",
    "fragAttributes = [d['attributes'] for d in dataFrag]\n",
    "frag_df = pd.DataFrame(fragAttributes,index=fragIndex)\n",
    "frag_df['object'] = [ [int(data['id']) for data in d['relationships']['objects']['data']] for d in dataFrag]\n",
    "frag_df.sort_index(inplace=True)\n",
    "\n",
    "frag_df.head()"
   ]
  },
  {
   "cell_type": "code",
   "execution_count": 26,
   "id": "043c04ff-aad6-42c5-b895-2abdc24e6f32",
   "metadata": {},
   "outputs": [],
   "source": [
    "frag_df.to_csv('all_discos_frag.csv')"
   ]
  },
  {
   "cell_type": "code",
   "execution_count": 27,
   "id": "246725d5-1696-4118-b275-b16b5becc9f5",
   "metadata": {},
   "outputs": [
    {
     "data": {
      "text/plain": [
       "650"
      ]
     },
     "execution_count": 27,
     "metadata": {},
     "output_type": "execute_result"
    }
   ],
   "source": [
    "len(frag_df)"
   ]
  },
  {
   "cell_type": "markdown",
   "id": "47380803-8937-471f-a441-e073023f6a83",
   "metadata": {
    "jp-MarkdownHeadingCollapsed": true,
    "tags": []
   },
   "source": [
    "## Launches"
   ]
  },
  {
   "cell_type": "code",
   "execution_count": 31,
   "id": "05685340-2767-4dcb-b2c3-6dcc8c0c768d",
   "metadata": {},
   "outputs": [
    {
     "data": {
      "application/vnd.jupyter.widget-view+json": {
       "model_id": "",
       "version_major": 2,
       "version_minor": 0
      },
      "text/plain": [
       "  0%|          | 0/59 [00:00<?, ?it/s]"
      ]
     },
     "metadata": {},
     "output_type": "display_data"
    },
    {
     "data": {
      "application/vnd.jupyter.widget-view+json": {
       "model_id": "",
       "version_major": 2,
       "version_minor": 0
      },
      "text/plain": [
       "  0%|          | 0/59 [00:00<?, ?it/s]"
      ]
     },
     "metadata": {},
     "output_type": "display_data"
    },
    {
     "data": {
      "application/vnd.jupyter.widget-view+json": {
       "model_id": "",
       "version_major": 2,
       "version_minor": 0
      },
      "text/plain": [
       "  0%|          | 0/61 [00:00<?, ?it/s]"
      ]
     },
     "metadata": {},
     "output_type": "display_data"
    }
   ],
   "source": [
    "dataLaunch, incLaunch = requestAllAndWait(pageName=\"/api/launches\",include=\"entities,objects,site,vehicle\")"
   ]
  },
  {
   "cell_type": "code",
   "execution_count": 44,
   "id": "01a22aba-7414-4da2-a2c6-38339892ae73",
   "metadata": {},
   "outputs": [
    {
     "data": {
      "text/plain": [
       "6257"
      ]
     },
     "execution_count": 44,
     "metadata": {},
     "output_type": "execute_result"
    }
   ],
   "source": [
    "len(dataLaunch)"
   ]
  },
  {
   "cell_type": "code",
   "execution_count": 40,
   "id": "c036bee6-9691-4c86-889b-e988c27a558c",
   "metadata": {},
   "outputs": [
    {
     "data": {
      "text/html": [
       "<div>\n",
       "<style scoped>\n",
       "    .dataframe tbody tr th:only-of-type {\n",
       "        vertical-align: middle;\n",
       "    }\n",
       "\n",
       "    .dataframe tbody tr th {\n",
       "        vertical-align: top;\n",
       "    }\n",
       "\n",
       "    .dataframe thead th {\n",
       "        text-align: right;\n",
       "    }\n",
       "</style>\n",
       "<table border=\"1\" class=\"dataframe\">\n",
       "  <thead>\n",
       "    <tr style=\"text-align: right;\">\n",
       "      <th></th>\n",
       "      <th>cosparLaunchNo</th>\n",
       "      <th>flightNo</th>\n",
       "      <th>epoch</th>\n",
       "      <th>failure</th>\n",
       "      <th>entities</th>\n",
       "      <th>objects</th>\n",
       "      <th>site</th>\n",
       "      <th>vehicle</th>\n",
       "    </tr>\n",
       "  </thead>\n",
       "  <tbody>\n",
       "    <tr>\n",
       "      <th>1</th>\n",
       "      <td>1961-001</td>\n",
       "      <td>70D</td>\n",
       "      <td>1961-01-31T20:21:19+00:00</td>\n",
       "      <td>False</td>\n",
       "      <td>[259]</td>\n",
       "      <td>[58271, 70]</td>\n",
       "      <td>19.0</td>\n",
       "      <td>38.0</td>\n",
       "    </tr>\n",
       "    <tr>\n",
       "      <th>2</th>\n",
       "      <td>1961-002</td>\n",
       "      <td>L1-7</td>\n",
       "      <td>1961-02-04T01:18:03+00:00</td>\n",
       "      <td>False</td>\n",
       "      <td>[264]</td>\n",
       "      <td>[72, 71, 73]</td>\n",
       "      <td>28.0</td>\n",
       "      <td>91836.0</td>\n",
       "    </tr>\n",
       "    <tr>\n",
       "      <th>3</th>\n",
       "      <td>1962-071</td>\n",
       "      <td>S118</td>\n",
       "      <td>1962-12-19T01:25:45+00:00</td>\n",
       "      <td>False</td>\n",
       "      <td>[259]</td>\n",
       "      <td>[509, 514, 519, 523, 7256]</td>\n",
       "      <td>19.0</td>\n",
       "      <td>170.0</td>\n",
       "    </tr>\n",
       "    <tr>\n",
       "      <th>4</th>\n",
       "      <td>1963-001</td>\n",
       "      <td>T103-09</td>\n",
       "      <td>1963-01-04T08:49:00+00:00</td>\n",
       "      <td>False</td>\n",
       "      <td>[264]</td>\n",
       "      <td>[521, 524, 522]</td>\n",
       "      <td>28.0</td>\n",
       "      <td>91836.0</td>\n",
       "    </tr>\n",
       "    <tr>\n",
       "      <th>5</th>\n",
       "      <td>1963-004</td>\n",
       "      <td>358/D16</td>\n",
       "      <td>1963-02-14T05:35:00+00:00</td>\n",
       "      <td>False</td>\n",
       "      <td>[259]</td>\n",
       "      <td>[532, 553]</td>\n",
       "      <td>10.0</td>\n",
       "      <td>50.0</td>\n",
       "    </tr>\n",
       "  </tbody>\n",
       "</table>\n",
       "</div>"
      ],
      "text/plain": [
       "  cosparLaunchNo flightNo                      epoch  failure entities  \\\n",
       "1       1961-001      70D  1961-01-31T20:21:19+00:00    False    [259]   \n",
       "2       1961-002     L1-7  1961-02-04T01:18:03+00:00    False    [264]   \n",
       "3       1962-071     S118  1962-12-19T01:25:45+00:00    False    [259]   \n",
       "4       1963-001  T103-09  1963-01-04T08:49:00+00:00    False    [264]   \n",
       "5       1963-004  358/D16  1963-02-14T05:35:00+00:00    False    [259]   \n",
       "\n",
       "                      objects  site  vehicle  \n",
       "1                 [58271, 70]  19.0     38.0  \n",
       "2                [72, 71, 73]  28.0  91836.0  \n",
       "3  [509, 514, 519, 523, 7256]  19.0    170.0  \n",
       "4             [521, 524, 522]  28.0  91836.0  \n",
       "5                  [532, 553]  10.0     50.0  "
      ]
     },
     "execution_count": 40,
     "metadata": {},
     "output_type": "execute_result"
    }
   ],
   "source": [
    "rel_att = ['entities', 'objects', 'site', 'vehicle']\n",
    "\n",
    "launchIndex = [int(d['id']) for d in dataLaunch]\n",
    "launchAttributes = [d['attributes'] for d in dataLaunch]\n",
    "launch_df = pd.DataFrame(launchAttributes,index=launchIndex)\n",
    "\n",
    "for att in rel_att:\n",
    "    launch_df[att] = [ getRelDataID(data['relationships'][att]['data']) for data in dataLaunch]\n",
    "launch_df.sort_index(inplace=True)\n",
    "\n",
    "launch_df.head()"
   ]
  },
  {
   "cell_type": "code",
   "execution_count": 45,
   "id": "002de8b8-0e3e-405c-9e55-6043b14c4c05",
   "metadata": {},
   "outputs": [],
   "source": [
    "launch_df.to_csv('all_discos_launches.csv')"
   ]
  },
  {
   "cell_type": "markdown",
   "id": "451af8e6-da65-4187-8693-6da9222cc6b1",
   "metadata": {
    "jp-MarkdownHeadingCollapsed": true,
    "tags": []
   },
   "source": [
    "## Launch Sites"
   ]
  },
  {
   "cell_type": "code",
   "execution_count": 48,
   "id": "e32f2de6-ecbb-4a7c-8039-10fda11b4d4c",
   "metadata": {},
   "outputs": [],
   "source": [
    "dataSite, _ = requestAllAndWait(pageName=\"/api/launch-sites\",include=\"operators\")"
   ]
  },
  {
   "cell_type": "code",
   "execution_count": 92,
   "id": "a1d9ddc3-2f13-4f22-842b-3cfee8ad498e",
   "metadata": {},
   "outputs": [
    {
     "data": {
      "text/plain": [
       "{'type': 'launchSite',\n",
       " 'attributes': {'longitude': '-75.460000',\n",
       "  'constraints': None,\n",
       "  'altitude': 0.0,\n",
       "  'name': 'Mid-Atlantic Regional Spaceport',\n",
       "  'azimuths': None,\n",
       "  'latitude': '37.850000',\n",
       "  'pads': ['LP-0A', 'LP-0B']},\n",
       " 'id': '2',\n",
       " 'relationships': {'launches': {'links': {'self': '/api/launch-sites/2/relationships/launches',\n",
       "    'related': '/api/launch-sites/2/launches'}},\n",
       "  'operators': {'links': {'self': '/api/launch-sites/2/relationships/operators',\n",
       "    'related': '/api/launch-sites/2/operators'},\n",
       "   'data': [{'type': 'country', 'id': '259'}]}},\n",
       " 'links': {'self': '/api/launch-sites/2'}}"
      ]
     },
     "execution_count": 92,
     "metadata": {},
     "output_type": "execute_result"
    }
   ],
   "source": [
    "dataSite[0]"
   ]
  },
  {
   "cell_type": "code",
   "execution_count": 49,
   "id": "1c7f1d48-824e-4e93-a79c-d9c123a9983c",
   "metadata": {},
   "outputs": [
    {
     "data": {
      "text/plain": [
       "45"
      ]
     },
     "execution_count": 49,
     "metadata": {},
     "output_type": "execute_result"
    }
   ],
   "source": [
    "len(dataSite)"
   ]
  },
  {
   "cell_type": "code",
   "execution_count": 52,
   "id": "7c92b1d3-246f-49e4-a3cd-e25a4e127113",
   "metadata": {},
   "outputs": [
    {
     "data": {
      "text/html": [
       "<div>\n",
       "<style scoped>\n",
       "    .dataframe tbody tr th:only-of-type {\n",
       "        vertical-align: middle;\n",
       "    }\n",
       "\n",
       "    .dataframe tbody tr th {\n",
       "        vertical-align: top;\n",
       "    }\n",
       "\n",
       "    .dataframe thead th {\n",
       "        text-align: right;\n",
       "    }\n",
       "</style>\n",
       "<table border=\"1\" class=\"dataframe\">\n",
       "  <thead>\n",
       "    <tr style=\"text-align: right;\">\n",
       "      <th></th>\n",
       "      <th>longitude</th>\n",
       "      <th>constraints</th>\n",
       "      <th>altitude</th>\n",
       "      <th>name</th>\n",
       "      <th>azimuths</th>\n",
       "      <th>latitude</th>\n",
       "      <th>pads</th>\n",
       "      <th>operators</th>\n",
       "    </tr>\n",
       "  </thead>\n",
       "  <tbody>\n",
       "    <tr>\n",
       "      <th>1</th>\n",
       "      <td>None</td>\n",
       "      <td>None</td>\n",
       "      <td>NaN</td>\n",
       "      <td>Naro Space Center</td>\n",
       "      <td>None</td>\n",
       "      <td>None</td>\n",
       "      <td>None</td>\n",
       "      <td>[133]</td>\n",
       "    </tr>\n",
       "    <tr>\n",
       "      <th>2</th>\n",
       "      <td>-75.460000</td>\n",
       "      <td>None</td>\n",
       "      <td>0.0</td>\n",
       "      <td>Mid-Atlantic Regional Spaceport</td>\n",
       "      <td>None</td>\n",
       "      <td>37.850000</td>\n",
       "      <td>[LP-0A, LP-0B]</td>\n",
       "      <td>[259]</td>\n",
       "    </tr>\n",
       "    <tr>\n",
       "      <th>3</th>\n",
       "      <td>46.300000</td>\n",
       "      <td>None</td>\n",
       "      <td>0.0</td>\n",
       "      <td>Kapustin Yar MSC</td>\n",
       "      <td>[{'upperInc': True, 'lower': 72.0, 'lowerInc':...</td>\n",
       "      <td>48.600000</td>\n",
       "      <td>[LC86/4, Mayak-2, LC86/1, LC107]</td>\n",
       "      <td>[203]</td>\n",
       "    </tr>\n",
       "    <tr>\n",
       "      <th>4</th>\n",
       "      <td>111.500000</td>\n",
       "      <td>None</td>\n",
       "      <td>0.0</td>\n",
       "      <td>Taiyuan SLC (Wuzhai)</td>\n",
       "      <td>[{'upperInc': True, 'lower': 350.0, 'lowerInc'...</td>\n",
       "      <td>37.800000</td>\n",
       "      <td>None</td>\n",
       "      <td>[50]</td>\n",
       "    </tr>\n",
       "    <tr>\n",
       "      <th>5</th>\n",
       "      <td>-3.100000</td>\n",
       "      <td>None</td>\n",
       "      <td>0.0</td>\n",
       "      <td>Hammaguira</td>\n",
       "      <td>[{'upperInc': True, 'lower': 63.0, 'lowerInc':...</td>\n",
       "      <td>30.900000</td>\n",
       "      <td>[Brigitte]</td>\n",
       "      <td>[84]</td>\n",
       "    </tr>\n",
       "  </tbody>\n",
       "</table>\n",
       "</div>"
      ],
      "text/plain": [
       "    longitude constraints  altitude                             name  \\\n",
       "1        None        None       NaN                Naro Space Center   \n",
       "2  -75.460000        None       0.0  Mid-Atlantic Regional Spaceport   \n",
       "3   46.300000        None       0.0                 Kapustin Yar MSC   \n",
       "4  111.500000        None       0.0             Taiyuan SLC (Wuzhai)   \n",
       "5   -3.100000        None       0.0                       Hammaguira   \n",
       "\n",
       "                                            azimuths   latitude  \\\n",
       "1                                               None       None   \n",
       "2                                               None  37.850000   \n",
       "3  [{'upperInc': True, 'lower': 72.0, 'lowerInc':...  48.600000   \n",
       "4  [{'upperInc': True, 'lower': 350.0, 'lowerInc'...  37.800000   \n",
       "5  [{'upperInc': True, 'lower': 63.0, 'lowerInc':...  30.900000   \n",
       "\n",
       "                               pads operators  \n",
       "1                              None     [133]  \n",
       "2                    [LP-0A, LP-0B]     [259]  \n",
       "3  [LC86/4, Mayak-2, LC86/1, LC107]     [203]  \n",
       "4                              None      [50]  \n",
       "5                        [Brigitte]      [84]  "
      ]
     },
     "execution_count": 52,
     "metadata": {},
     "output_type": "execute_result"
    }
   ],
   "source": [
    "rel_att = ['operators']\n",
    "\n",
    "siteIndex = [int(d['id']) for d in dataSite]\n",
    "siteAttributes = [d['attributes'] for d in dataSite]\n",
    "site_df = pd.DataFrame(siteAttributes,index=siteIndex)\n",
    "\n",
    "for att in rel_att:\n",
    "    site_df[att] = [ getRelDataID(data['relationships'][att]['data']) for data in dataSite]\n",
    "site_df.sort_index(inplace=True)\n",
    "\n",
    "site_df.head()"
   ]
  },
  {
   "cell_type": "code",
   "execution_count": 53,
   "id": "345612e9-c26c-4321-985e-be539d70b5b0",
   "metadata": {},
   "outputs": [],
   "source": [
    "site_df.to_csv('all_discos_launch-sites.csv')"
   ]
  },
  {
   "cell_type": "markdown",
   "id": "4c26b1d0-0a45-4712-8858-c6647c6f20f2",
   "metadata": {
    "jp-MarkdownHeadingCollapsed": true,
    "tags": []
   },
   "source": [
    "## Launch Vehicles"
   ]
  },
  {
   "cell_type": "code",
   "execution_count": 57,
   "id": "8d255ba4-396a-4822-a75c-00a6b6809442",
   "metadata": {},
   "outputs": [],
   "source": [
    "dataVehicle, _ = requestAllAndWait(pageName=\"/api/launch-vehicles\",include=\"engines,family,stages\")"
   ]
  },
  {
   "cell_type": "code",
   "execution_count": 58,
   "id": "962f245f-83f3-4346-8d15-2c45314470b5",
   "metadata": {},
   "outputs": [
    {
     "data": {
      "text/plain": [
       "358"
      ]
     },
     "execution_count": 58,
     "metadata": {},
     "output_type": "execute_result"
    }
   ],
   "source": [
    "len(dataVehicle)"
   ]
  },
  {
   "cell_type": "code",
   "execution_count": 63,
   "id": "f2a0b821-3b85-4679-a7ff-2b8a3da9bb85",
   "metadata": {},
   "outputs": [
    {
     "data": {
      "text/html": [
       "<div>\n",
       "<style scoped>\n",
       "    .dataframe tbody tr th:only-of-type {\n",
       "        vertical-align: middle;\n",
       "    }\n",
       "\n",
       "    .dataframe tbody tr th {\n",
       "        vertical-align: top;\n",
       "    }\n",
       "\n",
       "    .dataframe thead th {\n",
       "        text-align: right;\n",
       "    }\n",
       "</style>\n",
       "<table border=\"1\" class=\"dataframe\">\n",
       "  <thead>\n",
       "    <tr style=\"text-align: right;\">\n",
       "      <th></th>\n",
       "      <th>name</th>\n",
       "      <th>geoCapacity</th>\n",
       "      <th>leoCapacity</th>\n",
       "      <th>depth</th>\n",
       "      <th>ssoCapacity</th>\n",
       "      <th>span</th>\n",
       "      <th>height</th>\n",
       "      <th>escCapacity</th>\n",
       "      <th>gtoCapacity</th>\n",
       "      <th>numStages</th>\n",
       "      <th>successfulLaunches</th>\n",
       "      <th>failedLaunches</th>\n",
       "      <th>diameter</th>\n",
       "      <th>thrustLevel</th>\n",
       "      <th>width</th>\n",
       "      <th>mass</th>\n",
       "      <th>engines</th>\n",
       "      <th>family</th>\n",
       "      <th>stages</th>\n",
       "    </tr>\n",
       "  </thead>\n",
       "  <tbody>\n",
       "    <tr>\n",
       "      <th>1</th>\n",
       "      <td>Naro-1</td>\n",
       "      <td>NaN</td>\n",
       "      <td>100.0</td>\n",
       "      <td>None</td>\n",
       "      <td>NaN</td>\n",
       "      <td>NaN</td>\n",
       "      <td>NaN</td>\n",
       "      <td>NaN</td>\n",
       "      <td>NaN</td>\n",
       "      <td>2.0</td>\n",
       "      <td>1</td>\n",
       "      <td>2</td>\n",
       "      <td>3.0</td>\n",
       "      <td>1670000.0</td>\n",
       "      <td>NaN</td>\n",
       "      <td>140000.0</td>\n",
       "      <td>[1593, 1594]</td>\n",
       "      <td>1</td>\n",
       "      <td>[787, 788]</td>\n",
       "    </tr>\n",
       "    <tr>\n",
       "      <th>2</th>\n",
       "      <td>H-IIB</td>\n",
       "      <td>NaN</td>\n",
       "      <td>16500.0</td>\n",
       "      <td>None</td>\n",
       "      <td>NaN</td>\n",
       "      <td>NaN</td>\n",
       "      <td>NaN</td>\n",
       "      <td>NaN</td>\n",
       "      <td>8000.0</td>\n",
       "      <td>3.0</td>\n",
       "      <td>9</td>\n",
       "      <td>0</td>\n",
       "      <td>11.2</td>\n",
       "      <td>2256000.0</td>\n",
       "      <td>NaN</td>\n",
       "      <td>533400.0</td>\n",
       "      <td>[854, 855, 856]</td>\n",
       "      <td>2</td>\n",
       "      <td>[749, 350, 349]</td>\n",
       "    </tr>\n",
       "    <tr>\n",
       "      <th>3</th>\n",
       "      <td>Proton-M/DM-3</td>\n",
       "      <td>3200.0</td>\n",
       "      <td>20000.0</td>\n",
       "      <td>None</td>\n",
       "      <td>NaN</td>\n",
       "      <td>NaN</td>\n",
       "      <td>NaN</td>\n",
       "      <td>NaN</td>\n",
       "      <td>NaN</td>\n",
       "      <td>4.0</td>\n",
       "      <td>3</td>\n",
       "      <td>2</td>\n",
       "      <td>7.4</td>\n",
       "      <td>1670000.0</td>\n",
       "      <td>NaN</td>\n",
       "      <td>691400.0</td>\n",
       "      <td>[839, 1152, 1155, 1303]</td>\n",
       "      <td>3</td>\n",
       "      <td>[316, 317, 318, 786]</td>\n",
       "    </tr>\n",
       "    <tr>\n",
       "      <th>5</th>\n",
       "      <td>Long March (CZ) 11</td>\n",
       "      <td>NaN</td>\n",
       "      <td>700.0</td>\n",
       "      <td>None</td>\n",
       "      <td>350.0</td>\n",
       "      <td>NaN</td>\n",
       "      <td>NaN</td>\n",
       "      <td>NaN</td>\n",
       "      <td>NaN</td>\n",
       "      <td>4.0</td>\n",
       "      <td>13</td>\n",
       "      <td>0</td>\n",
       "      <td>2.0</td>\n",
       "      <td>NaN</td>\n",
       "      <td>NaN</td>\n",
       "      <td>58000.0</td>\n",
       "      <td>[1620, 1621, 1572, 1573]</td>\n",
       "      <td>5</td>\n",
       "      <td>[830, 831, 401, 416]</td>\n",
       "    </tr>\n",
       "    <tr>\n",
       "      <th>6</th>\n",
       "      <td>Ariane 40 H10+</td>\n",
       "      <td>NaN</td>\n",
       "      <td>4900.0</td>\n",
       "      <td>None</td>\n",
       "      <td>NaN</td>\n",
       "      <td>NaN</td>\n",
       "      <td>NaN</td>\n",
       "      <td>NaN</td>\n",
       "      <td>2050.0</td>\n",
       "      <td>3.0</td>\n",
       "      <td>1</td>\n",
       "      <td>0</td>\n",
       "      <td>4.0</td>\n",
       "      <td>752000.0</td>\n",
       "      <td>NaN</td>\n",
       "      <td>240000.0</td>\n",
       "      <td>[1494, 1446, 965]</td>\n",
       "      <td>6</td>\n",
       "      <td>[369, 370, 372]</td>\n",
       "    </tr>\n",
       "  </tbody>\n",
       "</table>\n",
       "</div>"
      ],
      "text/plain": [
       "                 name  geoCapacity  leoCapacity depth  ssoCapacity  span  \\\n",
       "1              Naro-1          NaN        100.0  None          NaN   NaN   \n",
       "2               H-IIB          NaN      16500.0  None          NaN   NaN   \n",
       "3       Proton-M/DM-3       3200.0      20000.0  None          NaN   NaN   \n",
       "5  Long March (CZ) 11          NaN        700.0  None        350.0   NaN   \n",
       "6      Ariane 40 H10+          NaN       4900.0  None          NaN   NaN   \n",
       "\n",
       "   height  escCapacity  gtoCapacity  numStages  successfulLaunches  \\\n",
       "1     NaN          NaN          NaN        2.0                   1   \n",
       "2     NaN          NaN       8000.0        3.0                   9   \n",
       "3     NaN          NaN          NaN        4.0                   3   \n",
       "5     NaN          NaN          NaN        4.0                  13   \n",
       "6     NaN          NaN       2050.0        3.0                   1   \n",
       "\n",
       "   failedLaunches  diameter  thrustLevel  width      mass  \\\n",
       "1               2       3.0    1670000.0    NaN  140000.0   \n",
       "2               0      11.2    2256000.0    NaN  533400.0   \n",
       "3               2       7.4    1670000.0    NaN  691400.0   \n",
       "5               0       2.0          NaN    NaN   58000.0   \n",
       "6               0       4.0     752000.0    NaN  240000.0   \n",
       "\n",
       "                    engines  family                stages  \n",
       "1              [1593, 1594]       1            [787, 788]  \n",
       "2           [854, 855, 856]       2       [749, 350, 349]  \n",
       "3   [839, 1152, 1155, 1303]       3  [316, 317, 318, 786]  \n",
       "5  [1620, 1621, 1572, 1573]       5  [830, 831, 401, 416]  \n",
       "6         [1494, 1446, 965]       6       [369, 370, 372]  "
      ]
     },
     "execution_count": 63,
     "metadata": {},
     "output_type": "execute_result"
    }
   ],
   "source": [
    "rel_att = ['engines', 'family', 'stages']\n",
    "vehicle_df = data2df(dataVehicle, rel_att)\n",
    "\n",
    "vehicle_df.head()"
   ]
  },
  {
   "cell_type": "code",
   "execution_count": 64,
   "id": "1688469f-addb-4697-8f57-262f4e138700",
   "metadata": {},
   "outputs": [],
   "source": [
    "vehicle_df.to_csv('all_discos_launch-vehicles.csv')"
   ]
  },
  {
   "cell_type": "markdown",
   "id": "6716771e-c219-4402-8a1b-bf9b15d6a9bf",
   "metadata": {
    "jp-MarkdownHeadingCollapsed": true,
    "tags": []
   },
   "source": [
    "## Vehicle Families"
   ]
  },
  {
   "cell_type": "code",
   "execution_count": 70,
   "id": "e7556cdc-3d02-42b0-aa42-34de257ab5c1",
   "metadata": {},
   "outputs": [],
   "source": [
    "dataFamily, _ = requestAllAndWait(pageName=\"/api/launch-vehicles/families\", include=\"system\")"
   ]
  },
  {
   "cell_type": "code",
   "execution_count": 71,
   "id": "ee2047d8-a648-4c46-8248-f2bbf43da3bb",
   "metadata": {},
   "outputs": [
    {
     "data": {
      "text/plain": [
       "{'type': 'vehicleFamily',\n",
       " 'id': '109',\n",
       " 'attributes': {'name': 'SS-5'},\n",
       " 'relationships': {'system': {'links': {'self': '/api/launch-vehicles/families/109/relationships/system',\n",
       "    'related': '/api/launch-vehicles/families/109/system'},\n",
       "   'data': {'type': 'launchSystem', 'id': '50'}},\n",
       "  'vehicles': {'links': {'self': '/api/launch-vehicles/families/109/relationships/vehicles',\n",
       "    'related': '/api/launch-vehicles/families/109/vehicles'}}},\n",
       " 'links': {'self': '/api/launch-vehicles/families/109'}}"
      ]
     },
     "execution_count": 71,
     "metadata": {},
     "output_type": "execute_result"
    }
   ],
   "source": [
    "dataFamily[0]"
   ]
  },
  {
   "cell_type": "code",
   "execution_count": 69,
   "id": "e4dc5920-6a2f-420f-8765-9e6bd22ce798",
   "metadata": {},
   "outputs": [
    {
     "data": {
      "text/plain": [
       "123"
      ]
     },
     "execution_count": 69,
     "metadata": {},
     "output_type": "execute_result"
    }
   ],
   "source": [
    "len(dataFamily)"
   ]
  },
  {
   "cell_type": "code",
   "execution_count": 74,
   "id": "f94aa421-e665-4f5d-870b-379b8f84114b",
   "metadata": {},
   "outputs": [
    {
     "data": {
      "text/html": [
       "<div>\n",
       "<style scoped>\n",
       "    .dataframe tbody tr th:only-of-type {\n",
       "        vertical-align: middle;\n",
       "    }\n",
       "\n",
       "    .dataframe tbody tr th {\n",
       "        vertical-align: top;\n",
       "    }\n",
       "\n",
       "    .dataframe thead th {\n",
       "        text-align: right;\n",
       "    }\n",
       "</style>\n",
       "<table border=\"1\" class=\"dataframe\">\n",
       "  <thead>\n",
       "    <tr style=\"text-align: right;\">\n",
       "      <th></th>\n",
       "      <th>name</th>\n",
       "      <th>system</th>\n",
       "    </tr>\n",
       "  </thead>\n",
       "  <tbody>\n",
       "    <tr>\n",
       "      <th>1</th>\n",
       "      <td>KSLV-1 (Naro)</td>\n",
       "      <td>1</td>\n",
       "    </tr>\n",
       "    <tr>\n",
       "      <th>2</th>\n",
       "      <td>H-II</td>\n",
       "      <td>2</td>\n",
       "    </tr>\n",
       "    <tr>\n",
       "      <th>3</th>\n",
       "      <td>Proton-M</td>\n",
       "      <td>3</td>\n",
       "    </tr>\n",
       "    <tr>\n",
       "      <th>4</th>\n",
       "      <td>SLV-P</td>\n",
       "      <td>4</td>\n",
       "    </tr>\n",
       "    <tr>\n",
       "      <th>5</th>\n",
       "      <td>Long March 11</td>\n",
       "      <td>5</td>\n",
       "    </tr>\n",
       "  </tbody>\n",
       "</table>\n",
       "</div>"
      ],
      "text/plain": [
       "            name  system\n",
       "1  KSLV-1 (Naro)       1\n",
       "2           H-II       2\n",
       "3       Proton-M       3\n",
       "4          SLV-P       4\n",
       "5  Long March 11       5"
      ]
     },
     "execution_count": 74,
     "metadata": {},
     "output_type": "execute_result"
    }
   ],
   "source": [
    "rel_att = ['system']\n",
    "family_df = data2df(dataFamily, rel_att)\n",
    "\n",
    "family_df.head()"
   ]
  },
  {
   "cell_type": "code",
   "execution_count": 75,
   "id": "0cf02ae1-5245-4170-940b-e432b4fd4842",
   "metadata": {},
   "outputs": [],
   "source": [
    "family_df.to_csv('all_discos_launch-vehicle-families.csv')"
   ]
  },
  {
   "cell_type": "markdown",
   "id": "0453539f-9e39-4e4d-9195-28023a39b6e6",
   "metadata": {
    "tags": []
   },
   "source": [
    "## Launch Systems"
   ]
  },
  {
   "cell_type": "code",
   "execution_count": 78,
   "id": "d19cb136-b95a-4da6-aa18-b0124633ff9b",
   "metadata": {},
   "outputs": [],
   "source": [
    "dataSystem, _ = requestAllAndWait(pageName=\"/api/launch-systems\",include=\"entities\")"
   ]
  },
  {
   "cell_type": "code",
   "execution_count": 79,
   "id": "60abaf6d-5113-4bf0-bd82-b90a86b9a955",
   "metadata": {},
   "outputs": [
    {
     "data": {
      "text/plain": [
       "{'type': 'launchSystem',\n",
       " 'id': '2',\n",
       " 'relationships': {'families': {'links': {'self': '/api/launch-systems/2/relationships/families',\n",
       "    'related': '/api/launch-systems/2/families'}},\n",
       "  'entities': {'links': {'self': '/api/launch-systems/2/relationships/entities',\n",
       "    'related': '/api/launch-systems/2/entities'},\n",
       "   'data': [{'type': 'country', 'id': '125'}]}},\n",
       " 'attributes': {'name': 'H-Vehicle'},\n",
       " 'links': {'self': '/api/launch-systems/2'}}"
      ]
     },
     "execution_count": 79,
     "metadata": {},
     "output_type": "execute_result"
    }
   ],
   "source": [
    "dataSystem[0]"
   ]
  },
  {
   "cell_type": "code",
   "execution_count": 80,
   "id": "ac615be4-61bd-419e-9cd5-48101955da0e",
   "metadata": {},
   "outputs": [
    {
     "data": {
      "text/plain": [
       "62"
      ]
     },
     "execution_count": 80,
     "metadata": {},
     "output_type": "execute_result"
    }
   ],
   "source": [
    "len(dataSystem)"
   ]
  },
  {
   "cell_type": "code",
   "execution_count": 81,
   "id": "c6d51573-0702-44f9-a517-057f4add44c2",
   "metadata": {},
   "outputs": [
    {
     "data": {
      "text/html": [
       "<div>\n",
       "<style scoped>\n",
       "    .dataframe tbody tr th:only-of-type {\n",
       "        vertical-align: middle;\n",
       "    }\n",
       "\n",
       "    .dataframe tbody tr th {\n",
       "        vertical-align: top;\n",
       "    }\n",
       "\n",
       "    .dataframe thead th {\n",
       "        text-align: right;\n",
       "    }\n",
       "</style>\n",
       "<table border=\"1\" class=\"dataframe\">\n",
       "  <thead>\n",
       "    <tr style=\"text-align: right;\">\n",
       "      <th></th>\n",
       "      <th>name</th>\n",
       "      <th>entities</th>\n",
       "    </tr>\n",
       "  </thead>\n",
       "  <tbody>\n",
       "    <tr>\n",
       "      <th>1</th>\n",
       "      <td>KSLV</td>\n",
       "      <td>[133]</td>\n",
       "    </tr>\n",
       "    <tr>\n",
       "      <th>2</th>\n",
       "      <td>H-Vehicle</td>\n",
       "      <td>[125]</td>\n",
       "    </tr>\n",
       "    <tr>\n",
       "      <th>3</th>\n",
       "      <td>Proton (UR-500)</td>\n",
       "      <td>[203]</td>\n",
       "    </tr>\n",
       "    <tr>\n",
       "      <th>4</th>\n",
       "      <td>SLV Series</td>\n",
       "      <td>[116]</td>\n",
       "    </tr>\n",
       "    <tr>\n",
       "      <th>5</th>\n",
       "      <td>Dong Feng</td>\n",
       "      <td>[50]</td>\n",
       "    </tr>\n",
       "  </tbody>\n",
       "</table>\n",
       "</div>"
      ],
      "text/plain": [
       "              name entities\n",
       "1             KSLV    [133]\n",
       "2        H-Vehicle    [125]\n",
       "3  Proton (UR-500)    [203]\n",
       "4       SLV Series    [116]\n",
       "5        Dong Feng     [50]"
      ]
     },
     "execution_count": 81,
     "metadata": {},
     "output_type": "execute_result"
    }
   ],
   "source": [
    "rel_att = ['entities']\n",
    "system_df = data2df(dataSystem, rel_att)\n",
    "\n",
    "system_df.head()"
   ]
  },
  {
   "cell_type": "code",
   "execution_count": 82,
   "id": "597f3867-ef20-4814-8741-2fd1b7a257e2",
   "metadata": {},
   "outputs": [],
   "source": [
    "system_df.to_csv('all_discos_launch-systems.csv')"
   ]
  },
  {
   "cell_type": "markdown",
   "id": "6c8124ba-40da-42a8-a0f4-cbaea004b192",
   "metadata": {
    "jp-MarkdownHeadingCollapsed": true,
    "tags": []
   },
   "source": [
    "## Vehicle Engines"
   ]
  },
  {
   "cell_type": "code",
   "execution_count": 83,
   "id": "b7578e82-63fa-454b-97bd-8e6b0ba9ee01",
   "metadata": {},
   "outputs": [],
   "source": [
    "dataEngine, _ = requestAllAndWait(pageName=\"/api/launch-vehicles/engines\")"
   ]
  },
  {
   "cell_type": "code",
   "execution_count": 84,
   "id": "b4211239-62fe-47a2-91b8-40ac85a6ad71",
   "metadata": {},
   "outputs": [
    {
     "data": {
      "text/plain": [
       "{'type': 'engine',\n",
       " 'attributes': {'span': None,\n",
       "  'thrustLevel': None,\n",
       "  'name': 'SS-520',\n",
       "  'width': None,\n",
       "  'depth': None,\n",
       "  'mass': 111.0,\n",
       "  'height': 1.7,\n",
       "  'maxIsp': None,\n",
       "  'diameter': 0.52},\n",
       " 'id': '81568',\n",
       " 'relationships': {'vehicles': {'links': {'self': '/api/launch-vehicles/engines/81568/relationships/vehicles',\n",
       "    'related': '/api/launch-vehicles/engines/81568/vehicles'}}},\n",
       " 'links': {'self': '/api/launch-vehicles/engines/81568'}}"
      ]
     },
     "execution_count": 84,
     "metadata": {},
     "output_type": "execute_result"
    }
   ],
   "source": [
    "dataEngine[0]"
   ]
  },
  {
   "cell_type": "code",
   "execution_count": 85,
   "id": "ce9e4a34-1c05-4fc8-a611-74061d73baac",
   "metadata": {},
   "outputs": [
    {
     "data": {
      "text/plain": [
       "847"
      ]
     },
     "execution_count": 85,
     "metadata": {},
     "output_type": "execute_result"
    }
   ],
   "source": [
    "len(dataEngine)"
   ]
  },
  {
   "cell_type": "code",
   "execution_count": 90,
   "id": "63539bf5-38f7-489d-920c-fded46d30eba",
   "metadata": {},
   "outputs": [
    {
     "data": {
      "text/html": [
       "<div>\n",
       "<style scoped>\n",
       "    .dataframe tbody tr th:only-of-type {\n",
       "        vertical-align: middle;\n",
       "    }\n",
       "\n",
       "    .dataframe tbody tr th {\n",
       "        vertical-align: top;\n",
       "    }\n",
       "\n",
       "    .dataframe thead th {\n",
       "        text-align: right;\n",
       "    }\n",
       "</style>\n",
       "<table border=\"1\" class=\"dataframe\">\n",
       "  <thead>\n",
       "    <tr style=\"text-align: right;\">\n",
       "      <th></th>\n",
       "      <th>span</th>\n",
       "      <th>thrustLevel</th>\n",
       "      <th>name</th>\n",
       "      <th>width</th>\n",
       "      <th>depth</th>\n",
       "      <th>mass</th>\n",
       "      <th>height</th>\n",
       "      <th>maxIsp</th>\n",
       "      <th>diameter</th>\n",
       "    </tr>\n",
       "  </thead>\n",
       "  <tbody>\n",
       "    <tr>\n",
       "      <th>836</th>\n",
       "      <td>NaN</td>\n",
       "      <td>509600.0</td>\n",
       "      <td>YF-77</td>\n",
       "      <td>NaN</td>\n",
       "      <td>None</td>\n",
       "      <td>2700.0</td>\n",
       "      <td>4.20</td>\n",
       "      <td>310.2</td>\n",
       "      <td>1.45</td>\n",
       "    </tr>\n",
       "    <tr>\n",
       "      <th>837</th>\n",
       "      <td>NaN</td>\n",
       "      <td>88260.0</td>\n",
       "      <td>YF-75D</td>\n",
       "      <td>NaN</td>\n",
       "      <td>None</td>\n",
       "      <td>550.0</td>\n",
       "      <td>2.80</td>\n",
       "      <td>442.0</td>\n",
       "      <td>1.50</td>\n",
       "    </tr>\n",
       "    <tr>\n",
       "      <th>838</th>\n",
       "      <td>NaN</td>\n",
       "      <td>1922000.0</td>\n",
       "      <td>RD-181</td>\n",
       "      <td>NaN</td>\n",
       "      <td>None</td>\n",
       "      <td>2200.0</td>\n",
       "      <td>3.68</td>\n",
       "      <td>311.9</td>\n",
       "      <td>2.21</td>\n",
       "    </tr>\n",
       "    <tr>\n",
       "      <th>839</th>\n",
       "      <td>NaN</td>\n",
       "      <td>1670000.0</td>\n",
       "      <td>RD-276</td>\n",
       "      <td>NaN</td>\n",
       "      <td>None</td>\n",
       "      <td>1280.0</td>\n",
       "      <td>2.72</td>\n",
       "      <td>288.0</td>\n",
       "      <td>1.50</td>\n",
       "    </tr>\n",
       "    <tr>\n",
       "      <th>840</th>\n",
       "      <td>NaN</td>\n",
       "      <td>1753800.0</td>\n",
       "      <td>AJ26-62</td>\n",
       "      <td>NaN</td>\n",
       "      <td>None</td>\n",
       "      <td>1235.0</td>\n",
       "      <td>3.70</td>\n",
       "      <td>331.0</td>\n",
       "      <td>2.00</td>\n",
       "    </tr>\n",
       "  </tbody>\n",
       "</table>\n",
       "</div>"
      ],
      "text/plain": [
       "     span  thrustLevel     name  width depth    mass  height  maxIsp  diameter\n",
       "836   NaN     509600.0    YF-77    NaN  None  2700.0    4.20   310.2      1.45\n",
       "837   NaN      88260.0   YF-75D    NaN  None   550.0    2.80   442.0      1.50\n",
       "838   NaN    1922000.0   RD-181    NaN  None  2200.0    3.68   311.9      2.21\n",
       "839   NaN    1670000.0   RD-276    NaN  None  1280.0    2.72   288.0      1.50\n",
       "840   NaN    1753800.0  AJ26-62    NaN  None  1235.0    3.70   331.0      2.00"
      ]
     },
     "execution_count": 90,
     "metadata": {},
     "output_type": "execute_result"
    }
   ],
   "source": [
    "rel_att = []\n",
    "engine_df = data2df(dataEngine, rel_att)\n",
    "\n",
    "engine_df.head()"
   ]
  },
  {
   "cell_type": "code",
   "execution_count": 91,
   "id": "d11a5de5-0b8d-41f1-8096-4699d6b5983d",
   "metadata": {},
   "outputs": [],
   "source": [
    "engine_df.to_csv('all_discos_launch-vehicle-engines.csv')"
   ]
  },
  {
   "cell_type": "markdown",
   "id": "70c89ab2-d61c-4087-af2b-6c846fd07c2c",
   "metadata": {
    "jp-MarkdownHeadingCollapsed": true,
    "tags": []
   },
   "source": [
    "## Vehicle Stages"
   ]
  },
  {
   "cell_type": "code",
   "execution_count": 95,
   "id": "b78d404e-7e0f-4df4-91c3-9afa6bafb4c7",
   "metadata": {},
   "outputs": [],
   "source": [
    "dataStage, _ = requestAllAndWait(pageName=\"/api/launch-vehicles/stages\", include=\"propellant\")"
   ]
  },
  {
   "cell_type": "code",
   "execution_count": 96,
   "id": "9265d7f7-ae85-4f54-b8fb-68aaeac1033a",
   "metadata": {},
   "outputs": [
    {
     "data": {
      "text/plain": [
       "{'type': 'stage',\n",
       " 'attributes': {'wetMass': 147000.0,\n",
       "  'span': None,\n",
       "  'oxidiserMass': None,\n",
       "  'fuelMass': None,\n",
       "  'name': 'CZ-NGLV-300',\n",
       "  'solidPropellantMass': None,\n",
       "  'width': None,\n",
       "  'depth': None,\n",
       "  'burnTime': 160.0,\n",
       "  'height': 26.3,\n",
       "  'dryMass': 12000.0,\n",
       "  'diameter': 3.35},\n",
       " 'relationships': {'propellant': {'links': {'self': '/api/launch-vehicles/stages/311/relationships/propellant',\n",
       "    'related': '/api/launch-vehicles/stages/311/propellant'},\n",
       "   'data': {'type': 'propellant', 'id': '1'}},\n",
       "  'vehicles': {'links': {'self': '/api/launch-vehicles/stages/311/relationships/vehicles',\n",
       "    'related': '/api/launch-vehicles/stages/311/vehicles'}}},\n",
       " 'id': '311',\n",
       " 'links': {'self': '/api/launch-vehicles/stages/311'}}"
      ]
     },
     "execution_count": 96,
     "metadata": {},
     "output_type": "execute_result"
    }
   ],
   "source": [
    "dataStage[0]"
   ]
  },
  {
   "cell_type": "code",
   "execution_count": 97,
   "id": "d84ff755-2347-41dc-8e8b-409db50e18d4",
   "metadata": {},
   "outputs": [
    {
     "data": {
      "text/plain": [
       "677"
      ]
     },
     "execution_count": 97,
     "metadata": {},
     "output_type": "execute_result"
    }
   ],
   "source": [
    "len(dataStage)"
   ]
  },
  {
   "cell_type": "code",
   "execution_count": 99,
   "id": "36abb046-0824-484c-a6a6-a300e372d8fe",
   "metadata": {},
   "outputs": [
    {
     "data": {
      "text/html": [
       "<div>\n",
       "<style scoped>\n",
       "    .dataframe tbody tr th:only-of-type {\n",
       "        vertical-align: middle;\n",
       "    }\n",
       "\n",
       "    .dataframe tbody tr th {\n",
       "        vertical-align: top;\n",
       "    }\n",
       "\n",
       "    .dataframe thead th {\n",
       "        text-align: right;\n",
       "    }\n",
       "</style>\n",
       "<table border=\"1\" class=\"dataframe\">\n",
       "  <thead>\n",
       "    <tr style=\"text-align: right;\">\n",
       "      <th></th>\n",
       "      <th>wetMass</th>\n",
       "      <th>span</th>\n",
       "      <th>oxidiserMass</th>\n",
       "      <th>fuelMass</th>\n",
       "      <th>name</th>\n",
       "      <th>solidPropellantMass</th>\n",
       "      <th>width</th>\n",
       "      <th>depth</th>\n",
       "      <th>burnTime</th>\n",
       "      <th>height</th>\n",
       "      <th>dryMass</th>\n",
       "      <th>diameter</th>\n",
       "      <th>propellant</th>\n",
       "    </tr>\n",
       "  </thead>\n",
       "  <tbody>\n",
       "    <tr>\n",
       "      <th>311</th>\n",
       "      <td>147000.0</td>\n",
       "      <td>NaN</td>\n",
       "      <td>NaN</td>\n",
       "      <td>NaN</td>\n",
       "      <td>CZ-NGLV-300</td>\n",
       "      <td>NaN</td>\n",
       "      <td>NaN</td>\n",
       "      <td>NaN</td>\n",
       "      <td>160.0</td>\n",
       "      <td>26.3</td>\n",
       "      <td>12000.0</td>\n",
       "      <td>3.35</td>\n",
       "      <td>1.0</td>\n",
       "    </tr>\n",
       "    <tr>\n",
       "      <th>312</th>\n",
       "      <td>175600.0</td>\n",
       "      <td>NaN</td>\n",
       "      <td>NaN</td>\n",
       "      <td>NaN</td>\n",
       "      <td>CZ-5-500</td>\n",
       "      <td>158500.0</td>\n",
       "      <td>NaN</td>\n",
       "      <td>NaN</td>\n",
       "      <td>480.0</td>\n",
       "      <td>33.2</td>\n",
       "      <td>18000.0</td>\n",
       "      <td>5.00</td>\n",
       "      <td>2.0</td>\n",
       "    </tr>\n",
       "    <tr>\n",
       "      <th>313</th>\n",
       "      <td>26300.0</td>\n",
       "      <td>10.6</td>\n",
       "      <td>NaN</td>\n",
       "      <td>NaN</td>\n",
       "      <td>CZ-5-HO</td>\n",
       "      <td>22900.0</td>\n",
       "      <td>NaN</td>\n",
       "      <td>NaN</td>\n",
       "      <td>700.0</td>\n",
       "      <td>10.6</td>\n",
       "      <td>3400.0</td>\n",
       "      <td>5.00</td>\n",
       "      <td>2.0</td>\n",
       "    </tr>\n",
       "    <tr>\n",
       "      <th>314</th>\n",
       "      <td>12000.0</td>\n",
       "      <td>4.0</td>\n",
       "      <td>NaN</td>\n",
       "      <td>NaN</td>\n",
       "      <td>YZ-2</td>\n",
       "      <td>NaN</td>\n",
       "      <td>NaN</td>\n",
       "      <td>NaN</td>\n",
       "      <td>1105.0</td>\n",
       "      <td>4.0</td>\n",
       "      <td>5000.0</td>\n",
       "      <td>3.80</td>\n",
       "      <td>3.0</td>\n",
       "    </tr>\n",
       "    <tr>\n",
       "      <th>315</th>\n",
       "      <td>262600.0</td>\n",
       "      <td>NaN</td>\n",
       "      <td>177260.0</td>\n",
       "      <td>64740.0</td>\n",
       "      <td>Antares-200 first stage (RD-181)</td>\n",
       "      <td>NaN</td>\n",
       "      <td>NaN</td>\n",
       "      <td>NaN</td>\n",
       "      <td>215.0</td>\n",
       "      <td>27.6</td>\n",
       "      <td>20600.0</td>\n",
       "      <td>3.90</td>\n",
       "      <td>4.0</td>\n",
       "    </tr>\n",
       "  </tbody>\n",
       "</table>\n",
       "</div>"
      ],
      "text/plain": [
       "      wetMass  span  oxidiserMass  fuelMass                              name  \\\n",
       "311  147000.0   NaN           NaN       NaN                       CZ-NGLV-300   \n",
       "312  175600.0   NaN           NaN       NaN                          CZ-5-500   \n",
       "313   26300.0  10.6           NaN       NaN                           CZ-5-HO   \n",
       "314   12000.0   4.0           NaN       NaN                              YZ-2   \n",
       "315  262600.0   NaN      177260.0   64740.0  Antares-200 first stage (RD-181)   \n",
       "\n",
       "     solidPropellantMass  width  depth  burnTime  height  dryMass  diameter  \\\n",
       "311                  NaN    NaN    NaN     160.0    26.3  12000.0      3.35   \n",
       "312             158500.0    NaN    NaN     480.0    33.2  18000.0      5.00   \n",
       "313              22900.0    NaN    NaN     700.0    10.6   3400.0      5.00   \n",
       "314                  NaN    NaN    NaN    1105.0     4.0   5000.0      3.80   \n",
       "315                  NaN    NaN    NaN     215.0    27.6  20600.0      3.90   \n",
       "\n",
       "     propellant  \n",
       "311         1.0  \n",
       "312         2.0  \n",
       "313         2.0  \n",
       "314         3.0  \n",
       "315         4.0  "
      ]
     },
     "execution_count": 99,
     "metadata": {},
     "output_type": "execute_result"
    }
   ],
   "source": [
    "rel_att = ['propellant']\n",
    "stage_df = data2df(dataStage, rel_att)\n",
    "\n",
    "stage_df.head()"
   ]
  },
  {
   "cell_type": "code",
   "execution_count": 100,
   "id": "ccf835f2-e4ba-4050-a285-b830908f6710",
   "metadata": {},
   "outputs": [],
   "source": [
    "stage_df.to_csv('all_discos_launch-vehicle-stages.csv')"
   ]
  },
  {
   "cell_type": "markdown",
   "id": "41527022-ce97-411c-b4fa-833f5e9cd638",
   "metadata": {
    "jp-MarkdownHeadingCollapsed": true,
    "tags": []
   },
   "source": [
    "## Propellants"
   ]
  },
  {
   "cell_type": "code",
   "execution_count": 102,
   "id": "56e836ce-5ed7-4b01-adb0-d64935ed48ae",
   "metadata": {},
   "outputs": [],
   "source": [
    "dataProp, _ = requestAllAndWait(pageName=\"/api/propellants\")"
   ]
  },
  {
   "cell_type": "code",
   "execution_count": 103,
   "id": "691d6705-9be2-4f69-9697-34ac8f51dd7a",
   "metadata": {},
   "outputs": [
    {
     "data": {
      "text/plain": [
       "{'type': 'propellant',\n",
       " 'relationships': {'stages': {'links': {'self': '/api/propellants/1/relationships/stages',\n",
       "    'related': '/api/propellants/1/stages'}}},\n",
       " 'id': '1',\n",
       " 'attributes': {'oxidiser': 'LOX',\n",
       "  'solidPropellant': None,\n",
       "  'fuel': 'Kerosene'},\n",
       " 'links': {'self': '/api/propellants/1'}}"
      ]
     },
     "execution_count": 103,
     "metadata": {},
     "output_type": "execute_result"
    }
   ],
   "source": [
    "dataProp[0]"
   ]
  },
  {
   "cell_type": "code",
   "execution_count": 104,
   "id": "9ac7d7b8-0792-48f9-984b-7d629e107852",
   "metadata": {},
   "outputs": [
    {
     "data": {
      "text/plain": [
       "42"
      ]
     },
     "execution_count": 104,
     "metadata": {},
     "output_type": "execute_result"
    }
   ],
   "source": [
    "len(dataProp)"
   ]
  },
  {
   "cell_type": "code",
   "execution_count": 105,
   "id": "37bc21fe-478a-4300-a871-6964ac7be891",
   "metadata": {},
   "outputs": [
    {
     "data": {
      "text/html": [
       "<div>\n",
       "<style scoped>\n",
       "    .dataframe tbody tr th:only-of-type {\n",
       "        vertical-align: middle;\n",
       "    }\n",
       "\n",
       "    .dataframe tbody tr th {\n",
       "        vertical-align: top;\n",
       "    }\n",
       "\n",
       "    .dataframe thead th {\n",
       "        text-align: right;\n",
       "    }\n",
       "</style>\n",
       "<table border=\"1\" class=\"dataframe\">\n",
       "  <thead>\n",
       "    <tr style=\"text-align: right;\">\n",
       "      <th></th>\n",
       "      <th>oxidiser</th>\n",
       "      <th>solidPropellant</th>\n",
       "      <th>fuel</th>\n",
       "    </tr>\n",
       "  </thead>\n",
       "  <tbody>\n",
       "    <tr>\n",
       "      <th>1</th>\n",
       "      <td>LOX</td>\n",
       "      <td>None</td>\n",
       "      <td>Kerosene</td>\n",
       "    </tr>\n",
       "    <tr>\n",
       "      <th>2</th>\n",
       "      <td>LOX</td>\n",
       "      <td>None</td>\n",
       "      <td>LH2 (Liquid Hydrogen)</td>\n",
       "    </tr>\n",
       "    <tr>\n",
       "      <th>3</th>\n",
       "      <td>N2O4</td>\n",
       "      <td>None</td>\n",
       "      <td>UDMH (Unsymmetrical Dimethyl Hydrazine)</td>\n",
       "    </tr>\n",
       "    <tr>\n",
       "      <th>4</th>\n",
       "      <td>LOX</td>\n",
       "      <td>None</td>\n",
       "      <td>RJ-1</td>\n",
       "    </tr>\n",
       "    <tr>\n",
       "      <th>5</th>\n",
       "      <td>None</td>\n",
       "      <td>TP-H8299</td>\n",
       "      <td>None</td>\n",
       "    </tr>\n",
       "  </tbody>\n",
       "</table>\n",
       "</div>"
      ],
      "text/plain": [
       "  oxidiser solidPropellant                                     fuel\n",
       "1      LOX            None                                 Kerosene\n",
       "2      LOX            None                    LH2 (Liquid Hydrogen)\n",
       "3     N2O4            None  UDMH (Unsymmetrical Dimethyl Hydrazine)\n",
       "4      LOX            None                                     RJ-1\n",
       "5     None        TP-H8299                                     None"
      ]
     },
     "execution_count": 105,
     "metadata": {},
     "output_type": "execute_result"
    }
   ],
   "source": [
    "rel_att = []\n",
    "prop_df = data2df(dataProp, rel_att)\n",
    "\n",
    "prop_df.head()"
   ]
  },
  {
   "cell_type": "code",
   "execution_count": 106,
   "id": "d55a9d48-f134-4953-a05e-762e54768b08",
   "metadata": {},
   "outputs": [],
   "source": [
    "prop_df.to_csv('all_discos_propellants.csv')"
   ]
  },
  {
   "cell_type": "markdown",
   "id": "4ff56c1a-3b6a-41cd-a16d-18408a2be4da",
   "metadata": {
    "jp-MarkdownHeadingCollapsed": true,
    "tags": []
   },
   "source": [
    "## Reentries"
   ]
  },
  {
   "cell_type": "code",
   "execution_count": 112,
   "id": "9b580a12-ec98-4d6d-a04a-9622c873174d",
   "metadata": {},
   "outputs": [
    {
     "data": {
      "application/vnd.jupyter.widget-view+json": {
       "model_id": "",
       "version_major": 2,
       "version_minor": 0
      },
      "text/plain": [
       "  0%|          | 0/61 [00:00<?, ?it/s]"
      ]
     },
     "metadata": {},
     "output_type": "display_data"
    },
    {
     "data": {
      "application/vnd.jupyter.widget-view+json": {
       "model_id": "",
       "version_major": 2,
       "version_minor": 0
      },
      "text/plain": [
       "  0%|          | 0/60 [00:00<?, ?it/s]"
      ]
     },
     "metadata": {},
     "output_type": "display_data"
    },
    {
     "data": {
      "application/vnd.jupyter.widget-view+json": {
       "model_id": "",
       "version_major": 2,
       "version_minor": 0
      },
      "text/plain": [
       "  0%|          | 0/61 [00:00<?, ?it/s]"
      ]
     },
     "metadata": {},
     "output_type": "display_data"
    },
    {
     "data": {
      "application/vnd.jupyter.widget-view+json": {
       "model_id": "",
       "version_major": 2,
       "version_minor": 0
      },
      "text/plain": [
       "  0%|          | 0/61 [00:00<?, ?it/s]"
      ]
     },
     "metadata": {},
     "output_type": "display_data"
    },
    {
     "data": {
      "application/vnd.jupyter.widget-view+json": {
       "model_id": "",
       "version_major": 2,
       "version_minor": 0
      },
      "text/plain": [
       "  0%|          | 0/61 [00:00<?, ?it/s]"
      ]
     },
     "metadata": {},
     "output_type": "display_data"
    },
    {
     "data": {
      "application/vnd.jupyter.widget-view+json": {
       "model_id": "",
       "version_major": 2,
       "version_minor": 0
      },
      "text/plain": [
       "  0%|          | 0/61 [00:00<?, ?it/s]"
      ]
     },
     "metadata": {},
     "output_type": "display_data"
    },
    {
     "data": {
      "application/vnd.jupyter.widget-view+json": {
       "model_id": "",
       "version_major": 2,
       "version_minor": 0
      },
      "text/plain": [
       "  0%|          | 0/60 [00:00<?, ?it/s]"
      ]
     },
     "metadata": {},
     "output_type": "display_data"
    },
    {
     "data": {
      "application/vnd.jupyter.widget-view+json": {
       "model_id": "",
       "version_major": 2,
       "version_minor": 0
      },
      "text/plain": [
       "  0%|          | 0/61 [00:00<?, ?it/s]"
      ]
     },
     "metadata": {},
     "output_type": "display_data"
    },
    {
     "data": {
      "application/vnd.jupyter.widget-view+json": {
       "model_id": "",
       "version_major": 2,
       "version_minor": 0
      },
      "text/plain": [
       "  0%|          | 0/61 [00:00<?, ?it/s]"
      ]
     },
     "metadata": {},
     "output_type": "display_data"
    },
    {
     "data": {
      "application/vnd.jupyter.widget-view+json": {
       "model_id": "",
       "version_major": 2,
       "version_minor": 0
      },
      "text/plain": [
       "  0%|          | 0/61 [00:00<?, ?it/s]"
      ]
     },
     "metadata": {},
     "output_type": "display_data"
    },
    {
     "data": {
      "application/vnd.jupyter.widget-view+json": {
       "model_id": "",
       "version_major": 2,
       "version_minor": 0
      },
      "text/plain": [
       "  0%|          | 0/61 [00:00<?, ?it/s]"
      ]
     },
     "metadata": {},
     "output_type": "display_data"
    },
    {
     "data": {
      "application/vnd.jupyter.widget-view+json": {
       "model_id": "",
       "version_major": 2,
       "version_minor": 0
      },
      "text/plain": [
       "  0%|          | 0/61 [00:00<?, ?it/s]"
      ]
     },
     "metadata": {},
     "output_type": "display_data"
    },
    {
     "data": {
      "application/vnd.jupyter.widget-view+json": {
       "model_id": "",
       "version_major": 2,
       "version_minor": 0
      },
      "text/plain": [
       "  0%|          | 0/60 [00:00<?, ?it/s]"
      ]
     },
     "metadata": {},
     "output_type": "display_data"
    }
   ],
   "source": [
    "dataReentry, _ = requestAllAndWait(pageName=\"/api/reentries\",include=\"objects\")"
   ]
  },
  {
   "cell_type": "code",
   "execution_count": 113,
   "id": "e9dad2c4-56d5-46b5-919b-d782e425b3a9",
   "metadata": {},
   "outputs": [
    {
     "data": {
      "text/plain": [
       "{'type': 'reentry',\n",
       " 'id': '29338',\n",
       " 'attributes': {'epoch': '2022-03-21'},\n",
       " 'relationships': {'objects': {'links': {'self': '/api/reentries/29338/relationships/objects',\n",
       "    'related': '/api/reentries/29338/objects'},\n",
       "   'data': [{'type': 'object', 'id': '16108'}]}},\n",
       " 'links': {'self': '/api/reentries/29338'}}"
      ]
     },
     "execution_count": 113,
     "metadata": {},
     "output_type": "execute_result"
    }
   ],
   "source": [
    "dataReentry[0]"
   ]
  },
  {
   "cell_type": "code",
   "execution_count": 114,
   "id": "a62a1633-3541-4b73-8c31-3438a6b8effe",
   "metadata": {},
   "outputs": [
    {
     "data": {
      "text/plain": [
       "27122"
      ]
     },
     "execution_count": 114,
     "metadata": {},
     "output_type": "execute_result"
    }
   ],
   "source": [
    "len(dataReentry)"
   ]
  },
  {
   "cell_type": "code",
   "execution_count": 116,
   "id": "34316076-15a7-4ff0-b9f0-3ffa59860591",
   "metadata": {},
   "outputs": [
    {
     "data": {
      "text/html": [
       "<div>\n",
       "<style scoped>\n",
       "    .dataframe tbody tr th:only-of-type {\n",
       "        vertical-align: middle;\n",
       "    }\n",
       "\n",
       "    .dataframe tbody tr th {\n",
       "        vertical-align: top;\n",
       "    }\n",
       "\n",
       "    .dataframe thead th {\n",
       "        text-align: right;\n",
       "    }\n",
       "</style>\n",
       "<table border=\"1\" class=\"dataframe\">\n",
       "  <thead>\n",
       "    <tr style=\"text-align: right;\">\n",
       "      <th></th>\n",
       "      <th>epoch</th>\n",
       "      <th>objects</th>\n",
       "    </tr>\n",
       "  </thead>\n",
       "  <tbody>\n",
       "    <tr>\n",
       "      <th>1</th>\n",
       "      <td>1957-12-01</td>\n",
       "      <td>[1]</td>\n",
       "    </tr>\n",
       "    <tr>\n",
       "      <th>2</th>\n",
       "      <td>1958-01-03</td>\n",
       "      <td>[2]</td>\n",
       "    </tr>\n",
       "    <tr>\n",
       "      <th>3</th>\n",
       "      <td>1958-04-14</td>\n",
       "      <td>[3]</td>\n",
       "    </tr>\n",
       "    <tr>\n",
       "      <th>4</th>\n",
       "      <td>1970-03-31</td>\n",
       "      <td>[4]</td>\n",
       "    </tr>\n",
       "    <tr>\n",
       "      <th>5</th>\n",
       "      <td>1958-06-28</td>\n",
       "      <td>[6]</td>\n",
       "    </tr>\n",
       "  </tbody>\n",
       "</table>\n",
       "</div>"
      ],
      "text/plain": [
       "        epoch objects\n",
       "1  1957-12-01     [1]\n",
       "2  1958-01-03     [2]\n",
       "3  1958-04-14     [3]\n",
       "4  1970-03-31     [4]\n",
       "5  1958-06-28     [6]"
      ]
     },
     "execution_count": 116,
     "metadata": {},
     "output_type": "execute_result"
    }
   ],
   "source": [
    "rel_att = ['objects']\n",
    "reentry_df = data2df(dataReentry, rel_att)\n",
    "\n",
    "reentry_df.head()"
   ]
  },
  {
   "cell_type": "code",
   "execution_count": 117,
   "id": "8c75ed19-7e2e-46d9-bdaa-fcc2db8a026f",
   "metadata": {},
   "outputs": [],
   "source": [
    "reentry_df.to_csv('all_discos_reentries.csv')"
   ]
  },
  {
   "cell_type": "markdown",
   "id": "5616b8cd-daad-4709-b530-2a20fa5b4c47",
   "metadata": {
    "tags": []
   },
   "source": [
    "## Entities"
   ]
  },
  {
   "cell_type": "code",
   "execution_count": 6,
   "id": "8e86121c-bc19-4729-ab2a-1b815ea1c3a7",
   "metadata": {},
   "outputs": [],
   "source": [
    "dataEntity, _ = requestAllAndWait(pageName=\"/api/entities\",include=\"launchSystems,hostCountry,launchSites\")"
   ]
  },
  {
   "cell_type": "code",
   "execution_count": 7,
   "id": "e71419e3-0c53-4638-b392-d194143248a1",
   "metadata": {},
   "outputs": [
    {
     "data": {
      "text/plain": [
       "{'type': 'organisation',\n",
       " 'relationships': {'launchSystems': {'links': {'self': '/api/entities/1229/relationships/launch-systems',\n",
       "    'related': '/api/entities/1229/launch-systems'},\n",
       "   'data': []},\n",
       "  'objects': {'links': {'self': '/api/entities/1229/relationships/objects',\n",
       "    'related': '/api/entities/1229/objects'}},\n",
       "  'launches': {'links': {'self': '/api/entities/1229/relationships/launches',\n",
       "    'related': '/api/entities/1229/launches'}},\n",
       "  'hostCountry': {'links': {'self': '/api/entities/1229/relationships/host-country',\n",
       "    'related': '/api/entities/1229/host-country'},\n",
       "   'data': None},\n",
       "  'launchSites': {'links': {'self': '/api/entities/1229/relationships/launch-sites',\n",
       "    'related': '/api/entities/1229/launch-sites'},\n",
       "   'data': []}},\n",
       " 'id': '1229',\n",
       " 'attributes': {'name': 'European Union',\n",
       "  'dateRange': {'upperInc': False,\n",
       "   'lower': '1952-07-23',\n",
       "   'lowerInc': True,\n",
       "   'upper': None,\n",
       "   'empty': False,\n",
       "   'display': '[1952-07-23,)'}},\n",
       " 'links': {'self': '/api/entities/1229'}}"
      ]
     },
     "execution_count": 16,
     "metadata": {},
     "output_type": "execute_result"
    }
   ],
   "source": [
    "dataEntity[0]"
   ]
  },
  {
   "cell_type": "code",
   "execution_count": 8,
   "id": "acc54394-8178-4a5e-bfb3-87ef6da145b8",
   "metadata": {},
   "outputs": [
    {
     "data": {
      "text/plain": [
       "1745"
      ]
     },
     "execution_count": 8,
     "metadata": {},
     "output_type": "execute_result"
    }
   ],
   "source": [
    "len(dataEntity)"
   ]
  },
  {
   "cell_type": "code",
   "execution_count": 26,
   "id": "3663e276-790b-457e-816d-29a7776392df",
   "metadata": {},
   "outputs": [
    {
     "data": {
      "text/html": [
       "<div>\n",
       "<style scoped>\n",
       "    .dataframe tbody tr th:only-of-type {\n",
       "        vertical-align: middle;\n",
       "    }\n",
       "\n",
       "    .dataframe tbody tr th {\n",
       "        vertical-align: top;\n",
       "    }\n",
       "\n",
       "    .dataframe thead th {\n",
       "        text-align: right;\n",
       "    }\n",
       "</style>\n",
       "<table border=\"1\" class=\"dataframe\">\n",
       "  <thead>\n",
       "    <tr style=\"text-align: right;\">\n",
       "      <th></th>\n",
       "      <th>name</th>\n",
       "      <th>dateRange</th>\n",
       "      <th>type</th>\n",
       "      <th>launchSystems</th>\n",
       "      <th>hostCountry</th>\n",
       "      <th>launchSites</th>\n",
       "    </tr>\n",
       "  </thead>\n",
       "  <tbody>\n",
       "    <tr>\n",
       "      <th>1</th>\n",
       "      <td>Afghanistan</td>\n",
       "      <td>NaN</td>\n",
       "      <td>country</td>\n",
       "      <td>None</td>\n",
       "      <td>NaN</td>\n",
       "      <td>None</td>\n",
       "    </tr>\n",
       "    <tr>\n",
       "      <th>2</th>\n",
       "      <td>Åland Islands</td>\n",
       "      <td>NaN</td>\n",
       "      <td>country</td>\n",
       "      <td>None</td>\n",
       "      <td>NaN</td>\n",
       "      <td>None</td>\n",
       "    </tr>\n",
       "    <tr>\n",
       "      <th>3</th>\n",
       "      <td>Albania</td>\n",
       "      <td>NaN</td>\n",
       "      <td>country</td>\n",
       "      <td>None</td>\n",
       "      <td>NaN</td>\n",
       "      <td>None</td>\n",
       "    </tr>\n",
       "    <tr>\n",
       "      <th>4</th>\n",
       "      <td>Algeria</td>\n",
       "      <td>NaN</td>\n",
       "      <td>country</td>\n",
       "      <td>None</td>\n",
       "      <td>NaN</td>\n",
       "      <td>[5]</td>\n",
       "    </tr>\n",
       "    <tr>\n",
       "      <th>5</th>\n",
       "      <td>American Samoa</td>\n",
       "      <td>NaN</td>\n",
       "      <td>country</td>\n",
       "      <td>None</td>\n",
       "      <td>NaN</td>\n",
       "      <td>None</td>\n",
       "    </tr>\n",
       "    <tr>\n",
       "      <th>...</th>\n",
       "      <td>...</td>\n",
       "      <td>...</td>\n",
       "      <td>...</td>\n",
       "      <td>...</td>\n",
       "      <td>...</td>\n",
       "      <td>...</td>\n",
       "    </tr>\n",
       "    <tr>\n",
       "      <th>2455</th>\n",
       "      <td>ACME AtronOmatic, LLC</td>\n",
       "      <td>{'upperInc': False, 'lower': '2006-01-01', 'lo...</td>\n",
       "      <td>organisation</td>\n",
       "      <td>None</td>\n",
       "      <td>259.0</td>\n",
       "      <td>None</td>\n",
       "    </tr>\n",
       "    <tr>\n",
       "      <th>2456</th>\n",
       "      <td>Astrix Astronautics</td>\n",
       "      <td>{'upperInc': False, 'lower': '2021-02-01', 'lo...</td>\n",
       "      <td>organisation</td>\n",
       "      <td>None</td>\n",
       "      <td>177.0</td>\n",
       "      <td>None</td>\n",
       "    </tr>\n",
       "    <tr>\n",
       "      <th>2457</th>\n",
       "      <td>Aurora Propulsion Technologies</td>\n",
       "      <td>{'upperInc': False, 'lower': '2018-01-01', 'lo...</td>\n",
       "      <td>organisation</td>\n",
       "      <td>None</td>\n",
       "      <td>83.0</td>\n",
       "      <td>None</td>\n",
       "    </tr>\n",
       "    <tr>\n",
       "      <th>2458</th>\n",
       "      <td>E-Space</td>\n",
       "      <td>{'upperInc': False, 'lower': '2020-01-01', 'lo...</td>\n",
       "      <td>organisation</td>\n",
       "      <td>None</td>\n",
       "      <td>259.0</td>\n",
       "      <td>None</td>\n",
       "    </tr>\n",
       "    <tr>\n",
       "      <th>2459</th>\n",
       "      <td>China 4D Mapping Tech Co. Ltd.</td>\n",
       "      <td>{'upperInc': False, 'lower': '2015-01-01', 'lo...</td>\n",
       "      <td>organisation</td>\n",
       "      <td>None</td>\n",
       "      <td>50.0</td>\n",
       "      <td>None</td>\n",
       "    </tr>\n",
       "  </tbody>\n",
       "</table>\n",
       "<p>1745 rows × 6 columns</p>\n",
       "</div>"
      ],
      "text/plain": [
       "                                name  \\\n",
       "1                        Afghanistan   \n",
       "2                      Åland Islands   \n",
       "3                            Albania   \n",
       "4                            Algeria   \n",
       "5                     American Samoa   \n",
       "...                              ...   \n",
       "2455           ACME AtronOmatic, LLC   \n",
       "2456             Astrix Astronautics   \n",
       "2457  Aurora Propulsion Technologies   \n",
       "2458                         E-Space   \n",
       "2459  China 4D Mapping Tech Co. Ltd.   \n",
       "\n",
       "                                              dateRange          type  \\\n",
       "1                                                   NaN       country   \n",
       "2                                                   NaN       country   \n",
       "3                                                   NaN       country   \n",
       "4                                                   NaN       country   \n",
       "5                                                   NaN       country   \n",
       "...                                                 ...           ...   \n",
       "2455  {'upperInc': False, 'lower': '2006-01-01', 'lo...  organisation   \n",
       "2456  {'upperInc': False, 'lower': '2021-02-01', 'lo...  organisation   \n",
       "2457  {'upperInc': False, 'lower': '2018-01-01', 'lo...  organisation   \n",
       "2458  {'upperInc': False, 'lower': '2020-01-01', 'lo...  organisation   \n",
       "2459  {'upperInc': False, 'lower': '2015-01-01', 'lo...  organisation   \n",
       "\n",
       "     launchSystems  hostCountry launchSites  \n",
       "1             None          NaN        None  \n",
       "2             None          NaN        None  \n",
       "3             None          NaN        None  \n",
       "4             None          NaN         [5]  \n",
       "5             None          NaN        None  \n",
       "...            ...          ...         ...  \n",
       "2455          None        259.0        None  \n",
       "2456          None        177.0        None  \n",
       "2457          None         83.0        None  \n",
       "2458          None        259.0        None  \n",
       "2459          None         50.0        None  \n",
       "\n",
       "[1745 rows x 6 columns]"
      ]
     },
     "execution_count": 26,
     "metadata": {},
     "output_type": "execute_result"
    }
   ],
   "source": [
    "rel_att = ['launchSystems', 'hostCountry', 'launchSites']\n",
    "\n",
    "ind = [int(d['id']) for d in dataEntity]\n",
    "attributes = [d['attributes'] for d in dataEntity]\n",
    "entity_df = pd.DataFrame(attributes,index=ind)\n",
    "\n",
    "entity_df['type'] = [d['type'] for d in dataEntity]\n",
    "\n",
    "for att in rel_att:\n",
    "    if att=='hostCountry':\n",
    "        entity_df[att] = [ getRelDataID(data['relationships'][att]['data']) if data['type']=='organisation' else None for data in dataEntity]\n",
    "    else:\n",
    "        entity_df[att] = [ getRelDataID(data['relationships'][att]['data']) for data in dataEntity]\n",
    "entity_df.sort_index(inplace=True)\n",
    "\n",
    "entity_df"
   ]
  },
  {
   "cell_type": "code",
   "execution_count": 27,
   "id": "04b43f0c-2751-410b-bd99-dd7b1d4634d5",
   "metadata": {},
   "outputs": [
    {
     "data": {
      "text/plain": [
       "count       15\n",
       "unique      15\n",
       "top       [37]\n",
       "freq         1\n",
       "Name: launchSystems, dtype: object"
      ]
     },
     "execution_count": 27,
     "metadata": {},
     "output_type": "execute_result"
    }
   ],
   "source": [
    "entity_df.launchSystems.describe()"
   ]
  },
  {
   "cell_type": "code",
   "execution_count": 28,
   "id": "47b89dbc-436b-47ae-99b7-8b6018e19e51",
   "metadata": {},
   "outputs": [],
   "source": [
    "entity_df.to_csv('all_discos_entities.csv')"
   ]
  },
  {
   "cell_type": "markdown",
   "id": "9bbf985c-cc82-4787-85f9-fd69b264486d",
   "metadata": {
    "jp-MarkdownHeadingCollapsed": true,
    "tags": []
   },
   "source": [
    "## Initial Orbits"
   ]
  },
  {
   "cell_type": "code",
   "execution_count": 24,
   "id": "8a78f491-bb47-49af-91db-b29314acd08e",
   "metadata": {},
   "outputs": [
    {
     "data": {
      "application/vnd.jupyter.widget-view+json": {
       "model_id": "",
       "version_major": 2,
       "version_minor": 0
      },
      "text/plain": [
       "  0%|          | 0/60 [00:00<?, ?it/s]"
      ]
     },
     "metadata": {},
     "output_type": "display_data"
    },
    {
     "data": {
      "application/vnd.jupyter.widget-view+json": {
       "model_id": "",
       "version_major": 2,
       "version_minor": 0
      },
      "text/plain": [
       "  0%|          | 0/61 [00:00<?, ?it/s]"
      ]
     },
     "metadata": {},
     "output_type": "display_data"
    },
    {
     "data": {
      "application/vnd.jupyter.widget-view+json": {
       "model_id": "",
       "version_major": 2,
       "version_minor": 0
      },
      "text/plain": [
       "  0%|          | 0/60 [00:00<?, ?it/s]"
      ]
     },
     "metadata": {},
     "output_type": "display_data"
    },
    {
     "data": {
      "application/vnd.jupyter.widget-view+json": {
       "model_id": "",
       "version_major": 2,
       "version_minor": 0
      },
      "text/plain": [
       "  0%|          | 0/60 [00:00<?, ?it/s]"
      ]
     },
     "metadata": {},
     "output_type": "display_data"
    },
    {
     "data": {
      "application/vnd.jupyter.widget-view+json": {
       "model_id": "",
       "version_major": 2,
       "version_minor": 0
      },
      "text/plain": [
       "  0%|          | 0/61 [00:00<?, ?it/s]"
      ]
     },
     "metadata": {},
     "output_type": "display_data"
    },
    {
     "data": {
      "application/vnd.jupyter.widget-view+json": {
       "model_id": "",
       "version_major": 2,
       "version_minor": 0
      },
      "text/plain": [
       "  0%|          | 0/61 [00:00<?, ?it/s]"
      ]
     },
     "metadata": {},
     "output_type": "display_data"
    },
    {
     "data": {
      "application/vnd.jupyter.widget-view+json": {
       "model_id": "",
       "version_major": 2,
       "version_minor": 0
      },
      "text/plain": [
       "  0%|          | 0/61 [00:00<?, ?it/s]"
      ]
     },
     "metadata": {},
     "output_type": "display_data"
    },
    {
     "data": {
      "application/vnd.jupyter.widget-view+json": {
       "model_id": "",
       "version_major": 2,
       "version_minor": 0
      },
      "text/plain": [
       "  0%|          | 0/60 [00:00<?, ?it/s]"
      ]
     },
     "metadata": {},
     "output_type": "display_data"
    },
    {
     "data": {
      "application/vnd.jupyter.widget-view+json": {
       "model_id": "",
       "version_major": 2,
       "version_minor": 0
      },
      "text/plain": [
       "  0%|          | 0/61 [00:00<?, ?it/s]"
      ]
     },
     "metadata": {},
     "output_type": "display_data"
    },
    {
     "data": {
      "application/vnd.jupyter.widget-view+json": {
       "model_id": "",
       "version_major": 2,
       "version_minor": 0
      },
      "text/plain": [
       "  0%|          | 0/61 [00:00<?, ?it/s]"
      ]
     },
     "metadata": {},
     "output_type": "display_data"
    },
    {
     "data": {
      "application/vnd.jupyter.widget-view+json": {
       "model_id": "",
       "version_major": 2,
       "version_minor": 0
      },
      "text/plain": [
       "  0%|          | 0/61 [00:00<?, ?it/s]"
      ]
     },
     "metadata": {},
     "output_type": "display_data"
    },
    {
     "data": {
      "application/vnd.jupyter.widget-view+json": {
       "model_id": "",
       "version_major": 2,
       "version_minor": 0
      },
      "text/plain": [
       "  0%|          | 0/60 [00:00<?, ?it/s]"
      ]
     },
     "metadata": {},
     "output_type": "display_data"
    },
    {
     "data": {
      "application/vnd.jupyter.widget-view+json": {
       "model_id": "",
       "version_major": 2,
       "version_minor": 0
      },
      "text/plain": [
       "  0%|          | 0/60 [00:00<?, ?it/s]"
      ]
     },
     "metadata": {},
     "output_type": "display_data"
    },
    {
     "data": {
      "application/vnd.jupyter.widget-view+json": {
       "model_id": "",
       "version_major": 2,
       "version_minor": 0
      },
      "text/plain": [
       "  0%|          | 0/60 [00:00<?, ?it/s]"
      ]
     },
     "metadata": {},
     "output_type": "display_data"
    },
    {
     "data": {
      "application/vnd.jupyter.widget-view+json": {
       "model_id": "",
       "version_major": 2,
       "version_minor": 0
      },
      "text/plain": [
       "  0%|          | 0/61 [00:00<?, ?it/s]"
      ]
     },
     "metadata": {},
     "output_type": "display_data"
    },
    {
     "data": {
      "application/vnd.jupyter.widget-view+json": {
       "model_id": "",
       "version_major": 2,
       "version_minor": 0
      },
      "text/plain": [
       "  0%|          | 0/61 [00:00<?, ?it/s]"
      ]
     },
     "metadata": {},
     "output_type": "display_data"
    },
    {
     "data": {
      "application/vnd.jupyter.widget-view+json": {
       "model_id": "",
       "version_major": 2,
       "version_minor": 0
      },
      "text/plain": [
       "  0%|          | 0/61 [00:00<?, ?it/s]"
      ]
     },
     "metadata": {},
     "output_type": "display_data"
    },
    {
     "data": {
      "application/vnd.jupyter.widget-view+json": {
       "model_id": "",
       "version_major": 2,
       "version_minor": 0
      },
      "text/plain": [
       "  0%|          | 0/61 [00:00<?, ?it/s]"
      ]
     },
     "metadata": {},
     "output_type": "display_data"
    },
    {
     "data": {
      "application/vnd.jupyter.widget-view+json": {
       "model_id": "",
       "version_major": 2,
       "version_minor": 0
      },
      "text/plain": [
       "  0%|          | 0/61 [00:00<?, ?it/s]"
      ]
     },
     "metadata": {},
     "output_type": "display_data"
    },
    {
     "data": {
      "application/vnd.jupyter.widget-view+json": {
       "model_id": "",
       "version_major": 2,
       "version_minor": 0
      },
      "text/plain": [
       "  0%|          | 0/60 [00:00<?, ?it/s]"
      ]
     },
     "metadata": {},
     "output_type": "display_data"
    },
    {
     "data": {
      "application/vnd.jupyter.widget-view+json": {
       "model_id": "",
       "version_major": 2,
       "version_minor": 0
      },
      "text/plain": [
       "  0%|          | 0/61 [00:00<?, ?it/s]"
      ]
     },
     "metadata": {},
     "output_type": "display_data"
    },
    {
     "data": {
      "application/vnd.jupyter.widget-view+json": {
       "model_id": "",
       "version_major": 2,
       "version_minor": 0
      },
      "text/plain": [
       "  0%|          | 0/61 [00:00<?, ?it/s]"
      ]
     },
     "metadata": {},
     "output_type": "display_data"
    }
   ],
   "source": [
    "dataInitOrbit, _ = requestAllAndWait(pageName=\"/api/initial-orbits\",sort='id',include=\"object\")"
   ]
  },
  {
   "cell_type": "code",
   "execution_count": 31,
   "id": "089ed200-26e3-415d-97fa-46867638dd53",
   "metadata": {},
   "outputs": [
    {
     "name": "stdout",
     "output_type": "stream",
     "text": [
      "[{'attributes': {'aPer': 39.0,\n",
      "                 'ecc': 0.008,\n",
      "                 'epoch': '1965-05-30',\n",
      "                 'frame': 'J2000',\n",
      "                 'inc': 51.82,\n",
      "                 'mAno': None,\n",
      "                 'raan': None,\n",
      "                 'sma': 6621000.0},\n",
      "  'id': '5',\n",
      "  'links': {'self': '/api/initial-orbits/5'},\n",
      "  'relationships': {'object': {'data': {'id': '1383', 'type': 'object'},\n",
      "                               'links': {'related': '/api/initial-orbits/5/object',\n",
      "                                         'self': '/api/initial-orbits/5/relationships/object'}}},\n",
      "  'type': 'initialOrbit'}]\n"
     ]
    }
   ],
   "source": [
    "data_same = []\n",
    "for d in dataInitOrbit:\n",
    "    if d['id']=='5':\n",
    "        data_same.append(d)\n",
    "        \n",
    "pprint(data_same)"
   ]
  },
  {
   "cell_type": "code",
   "execution_count": 28,
   "id": "6b78cba0-4cd6-486d-9e37-153808b1e57c",
   "metadata": {},
   "outputs": [
    {
     "data": {
      "text/plain": [
       "44809"
      ]
     },
     "execution_count": 28,
     "metadata": {},
     "output_type": "execute_result"
    }
   ],
   "source": [
    "len(dataInitOrbit)"
   ]
  },
  {
   "cell_type": "code",
   "execution_count": 29,
   "id": "b126fd4a-fbef-4c49-90ce-6cbce4687c6a",
   "metadata": {},
   "outputs": [
    {
     "data": {
      "text/html": [
       "<div>\n",
       "<style scoped>\n",
       "    .dataframe tbody tr th:only-of-type {\n",
       "        vertical-align: middle;\n",
       "    }\n",
       "\n",
       "    .dataframe tbody tr th {\n",
       "        vertical-align: top;\n",
       "    }\n",
       "\n",
       "    .dataframe thead th {\n",
       "        text-align: right;\n",
       "    }\n",
       "</style>\n",
       "<table border=\"1\" class=\"dataframe\">\n",
       "  <thead>\n",
       "    <tr style=\"text-align: right;\">\n",
       "      <th></th>\n",
       "      <th>inc</th>\n",
       "      <th>raan</th>\n",
       "      <th>mAno</th>\n",
       "      <th>aPer</th>\n",
       "      <th>frame</th>\n",
       "      <th>ecc</th>\n",
       "      <th>sma</th>\n",
       "      <th>epoch</th>\n",
       "      <th>object</th>\n",
       "    </tr>\n",
       "  </thead>\n",
       "  <tbody>\n",
       "    <tr>\n",
       "      <th>1</th>\n",
       "      <td>63.44</td>\n",
       "      <td>NaN</td>\n",
       "      <td>NaN</td>\n",
       "      <td>64.0</td>\n",
       "      <td>J2000</td>\n",
       "      <td>0.011</td>\n",
       "      <td>6608000.0</td>\n",
       "      <td>1965-09-14</td>\n",
       "      <td>1451</td>\n",
       "    </tr>\n",
       "    <tr>\n",
       "      <th>2</th>\n",
       "      <td>70.18</td>\n",
       "      <td>NaN</td>\n",
       "      <td>NaN</td>\n",
       "      <td>85.0</td>\n",
       "      <td>J2000</td>\n",
       "      <td>0.003</td>\n",
       "      <td>6870000.0</td>\n",
       "      <td>1965-07-22</td>\n",
       "      <td>1447</td>\n",
       "    </tr>\n",
       "    <tr>\n",
       "      <th>3</th>\n",
       "      <td>31.74</td>\n",
       "      <td>NaN</td>\n",
       "      <td>NaN</td>\n",
       "      <td>254.0</td>\n",
       "      <td>J2000</td>\n",
       "      <td>0.016</td>\n",
       "      <td>7002000.0</td>\n",
       "      <td>1965-06-07</td>\n",
       "      <td>1385</td>\n",
       "    </tr>\n",
       "    <tr>\n",
       "      <th>4</th>\n",
       "      <td>51.81</td>\n",
       "      <td>NaN</td>\n",
       "      <td>NaN</td>\n",
       "      <td>40.0</td>\n",
       "      <td>J2000</td>\n",
       "      <td>0.011</td>\n",
       "      <td>6651000.0</td>\n",
       "      <td>1965-05-27</td>\n",
       "      <td>1382</td>\n",
       "    </tr>\n",
       "    <tr>\n",
       "      <th>5</th>\n",
       "      <td>51.82</td>\n",
       "      <td>NaN</td>\n",
       "      <td>NaN</td>\n",
       "      <td>39.0</td>\n",
       "      <td>J2000</td>\n",
       "      <td>0.008</td>\n",
       "      <td>6621000.0</td>\n",
       "      <td>1965-05-30</td>\n",
       "      <td>1383</td>\n",
       "    </tr>\n",
       "  </tbody>\n",
       "</table>\n",
       "</div>"
      ],
      "text/plain": [
       "     inc  raan  mAno   aPer  frame    ecc        sma       epoch  object\n",
       "1  63.44   NaN   NaN   64.0  J2000  0.011  6608000.0  1965-09-14    1451\n",
       "2  70.18   NaN   NaN   85.0  J2000  0.003  6870000.0  1965-07-22    1447\n",
       "3  31.74   NaN   NaN  254.0  J2000  0.016  7002000.0  1965-06-07    1385\n",
       "4  51.81   NaN   NaN   40.0  J2000  0.011  6651000.0  1965-05-27    1382\n",
       "5  51.82   NaN   NaN   39.0  J2000  0.008  6621000.0  1965-05-30    1383"
      ]
     },
     "execution_count": 29,
     "metadata": {},
     "output_type": "execute_result"
    }
   ],
   "source": [
    "rel_att = ['object']\n",
    "init_orbit_df = data2df(dataInitOrbit, rel_att)\n",
    "\n",
    "init_orbit_df.head()"
   ]
  },
  {
   "cell_type": "code",
   "execution_count": 9,
   "id": "45ead5a1-fc35-49c1-bbf5-65a8d0149120",
   "metadata": {},
   "outputs": [
    {
     "data": {
      "text/html": [
       "<div>\n",
       "<style scoped>\n",
       "    .dataframe tbody tr th:only-of-type {\n",
       "        vertical-align: middle;\n",
       "    }\n",
       "\n",
       "    .dataframe tbody tr th {\n",
       "        vertical-align: top;\n",
       "    }\n",
       "\n",
       "    .dataframe thead th {\n",
       "        text-align: right;\n",
       "    }\n",
       "</style>\n",
       "<table border=\"1\" class=\"dataframe\">\n",
       "  <thead>\n",
       "    <tr style=\"text-align: right;\">\n",
       "      <th></th>\n",
       "      <th>inc</th>\n",
       "      <th>raan</th>\n",
       "      <th>mAno</th>\n",
       "      <th>aPer</th>\n",
       "      <th>frame</th>\n",
       "      <th>ecc</th>\n",
       "      <th>sma</th>\n",
       "      <th>epoch</th>\n",
       "      <th>object</th>\n",
       "    </tr>\n",
       "  </thead>\n",
       "  <tbody>\n",
       "    <tr>\n",
       "      <th>1</th>\n",
       "      <td>63.44</td>\n",
       "      <td>NaN</td>\n",
       "      <td>NaN</td>\n",
       "      <td>64.0</td>\n",
       "      <td>J2000</td>\n",
       "      <td>0.011</td>\n",
       "      <td>6608000.0</td>\n",
       "      <td>1965-09-14</td>\n",
       "      <td>1451</td>\n",
       "    </tr>\n",
       "    <tr>\n",
       "      <th>2</th>\n",
       "      <td>70.18</td>\n",
       "      <td>NaN</td>\n",
       "      <td>NaN</td>\n",
       "      <td>85.0</td>\n",
       "      <td>J2000</td>\n",
       "      <td>0.003</td>\n",
       "      <td>6870000.0</td>\n",
       "      <td>1965-07-22</td>\n",
       "      <td>1447</td>\n",
       "    </tr>\n",
       "    <tr>\n",
       "      <th>2</th>\n",
       "      <td>70.18</td>\n",
       "      <td>NaN</td>\n",
       "      <td>NaN</td>\n",
       "      <td>85.0</td>\n",
       "      <td>J2000</td>\n",
       "      <td>0.003</td>\n",
       "      <td>6870000.0</td>\n",
       "      <td>1965-07-22</td>\n",
       "      <td>1447</td>\n",
       "    </tr>\n",
       "    <tr>\n",
       "      <th>3</th>\n",
       "      <td>31.74</td>\n",
       "      <td>NaN</td>\n",
       "      <td>NaN</td>\n",
       "      <td>254.0</td>\n",
       "      <td>J2000</td>\n",
       "      <td>0.016</td>\n",
       "      <td>7002000.0</td>\n",
       "      <td>1965-06-07</td>\n",
       "      <td>1385</td>\n",
       "    </tr>\n",
       "    <tr>\n",
       "      <th>3</th>\n",
       "      <td>31.74</td>\n",
       "      <td>NaN</td>\n",
       "      <td>NaN</td>\n",
       "      <td>254.0</td>\n",
       "      <td>J2000</td>\n",
       "      <td>0.016</td>\n",
       "      <td>7002000.0</td>\n",
       "      <td>1965-06-07</td>\n",
       "      <td>1385</td>\n",
       "    </tr>\n",
       "  </tbody>\n",
       "</table>\n",
       "</div>"
      ],
      "text/plain": [
       "     inc  raan  mAno   aPer  frame    ecc        sma       epoch  object\n",
       "1  63.44   NaN   NaN   64.0  J2000  0.011  6608000.0  1965-09-14    1451\n",
       "2  70.18   NaN   NaN   85.0  J2000  0.003  6870000.0  1965-07-22    1447\n",
       "2  70.18   NaN   NaN   85.0  J2000  0.003  6870000.0  1965-07-22    1447\n",
       "3  31.74   NaN   NaN  254.0  J2000  0.016  7002000.0  1965-06-07    1385\n",
       "3  31.74   NaN   NaN  254.0  J2000  0.016  7002000.0  1965-06-07    1385"
      ]
     },
     "execution_count": 9,
     "metadata": {},
     "output_type": "execute_result"
    }
   ],
   "source": [
    "rel_att = ['object']\n",
    "init_orbit_df = data2df(dataInitOrbit, rel_att)\n",
    "\n",
    "init_orbit_df.head()"
   ]
  },
  {
   "cell_type": "code",
   "execution_count": 30,
   "id": "9eb99d77-27b3-4fc8-b3e9-589f02f1a8a5",
   "metadata": {},
   "outputs": [],
   "source": [
    "init_orbit_df.to_csv('all_discos_initial-orbits.csv')"
   ]
  },
  {
   "cell_type": "markdown",
   "id": "d936780d-c93c-4087-942b-7c8f7ff693cb",
   "metadata": {
    "tags": []
   },
   "source": [
    "## Destination Orbits"
   ]
  },
  {
   "cell_type": "code",
   "execution_count": 32,
   "id": "6cc18b35-2cdf-41c1-9ca6-3c4139f192d1",
   "metadata": {},
   "outputs": [
    {
     "data": {
      "application/vnd.jupyter.widget-view+json": {
       "model_id": "",
       "version_major": 2,
       "version_minor": 0
      },
      "text/plain": [
       "  0%|          | 0/61 [00:00<?, ?it/s]"
      ]
     },
     "metadata": {},
     "output_type": "display_data"
    },
    {
     "data": {
      "application/vnd.jupyter.widget-view+json": {
       "model_id": "",
       "version_major": 2,
       "version_minor": 0
      },
      "text/plain": [
       "  0%|          | 0/61 [00:00<?, ?it/s]"
      ]
     },
     "metadata": {},
     "output_type": "display_data"
    },
    {
     "data": {
      "application/vnd.jupyter.widget-view+json": {
       "model_id": "",
       "version_major": 2,
       "version_minor": 0
      },
      "text/plain": [
       "  0%|          | 0/61 [00:00<?, ?it/s]"
      ]
     },
     "metadata": {},
     "output_type": "display_data"
    },
    {
     "data": {
      "application/vnd.jupyter.widget-view+json": {
       "model_id": "",
       "version_major": 2,
       "version_minor": 0
      },
      "text/plain": [
       "  0%|          | 0/60 [00:00<?, ?it/s]"
      ]
     },
     "metadata": {},
     "output_type": "display_data"
    }
   ],
   "source": [
    "dataDestOrbit, _ = requestAllAndWait(pageName=\"/api/destination-orbits\",sort='id',include=\"object\")"
   ]
  },
  {
   "cell_type": "code",
   "execution_count": 33,
   "id": "24ae750f-f7ab-454e-b5e0-39ee9db76010",
   "metadata": {},
   "outputs": [
    {
     "data": {
      "text/plain": [
       "{'type': 'destinationOrbit',\n",
       " 'id': '36231',\n",
       " 'attributes': {'inc': 52.0,\n",
       "  'raan': 0.0,\n",
       "  'mAno': None,\n",
       "  'aPer': 0.0,\n",
       "  'frame': 'J2000',\n",
       "  'ecc': 0.00011,\n",
       "  'sma': 7791700.0,\n",
       "  'epoch': '1999-10-22'},\n",
       " 'relationships': {'object': {'links': {'self': '/api/destination-orbits/36231/relationships/object',\n",
       "    'related': '/api/destination-orbits/36231/object'},\n",
       "   'data': {'type': 'object', 'id': '25941'}}},\n",
       " 'links': {'self': '/api/destination-orbits/36231'}}"
      ]
     },
     "execution_count": 33,
     "metadata": {},
     "output_type": "execute_result"
    }
   ],
   "source": [
    "dataDestOrbit[0]"
   ]
  },
  {
   "cell_type": "code",
   "execution_count": 34,
   "id": "175003bb-d284-4a4e-8041-a9add29ddb0a",
   "metadata": {},
   "outputs": [
    {
     "data": {
      "text/plain": [
       "9847"
      ]
     },
     "execution_count": 34,
     "metadata": {},
     "output_type": "execute_result"
    }
   ],
   "source": [
    "len(dataDestOrbit)"
   ]
  },
  {
   "cell_type": "code",
   "execution_count": 35,
   "id": "0d6a1832-d762-4f8c-9bfc-c3c96664a1c4",
   "metadata": {},
   "outputs": [
    {
     "data": {
      "text/html": [
       "<div>\n",
       "<style scoped>\n",
       "    .dataframe tbody tr th:only-of-type {\n",
       "        vertical-align: middle;\n",
       "    }\n",
       "\n",
       "    .dataframe tbody tr th {\n",
       "        vertical-align: top;\n",
       "    }\n",
       "\n",
       "    .dataframe thead th {\n",
       "        text-align: right;\n",
       "    }\n",
       "</style>\n",
       "<table border=\"1\" class=\"dataframe\">\n",
       "  <thead>\n",
       "    <tr style=\"text-align: right;\">\n",
       "      <th></th>\n",
       "      <th>inc</th>\n",
       "      <th>raan</th>\n",
       "      <th>mAno</th>\n",
       "      <th>aPer</th>\n",
       "      <th>frame</th>\n",
       "      <th>ecc</th>\n",
       "      <th>sma</th>\n",
       "      <th>epoch</th>\n",
       "      <th>object</th>\n",
       "    </tr>\n",
       "  </thead>\n",
       "  <tbody>\n",
       "    <tr>\n",
       "      <th>36231</th>\n",
       "      <td>52.0</td>\n",
       "      <td>0.0</td>\n",
       "      <td>NaN</td>\n",
       "      <td>0.0</td>\n",
       "      <td>J2000</td>\n",
       "      <td>0.00011</td>\n",
       "      <td>7791700.0</td>\n",
       "      <td>1999-10-22</td>\n",
       "      <td>25941</td>\n",
       "    </tr>\n",
       "    <tr>\n",
       "      <th>36232</th>\n",
       "      <td>52.0</td>\n",
       "      <td>0.0</td>\n",
       "      <td>NaN</td>\n",
       "      <td>0.0</td>\n",
       "      <td>J2000</td>\n",
       "      <td>0.00305</td>\n",
       "      <td>7299200.0</td>\n",
       "      <td>1999-11-29</td>\n",
       "      <td>25960</td>\n",
       "    </tr>\n",
       "    <tr>\n",
       "      <th>36233</th>\n",
       "      <td>98.1</td>\n",
       "      <td>0.0</td>\n",
       "      <td>NaN</td>\n",
       "      <td>0.0</td>\n",
       "      <td>J2000</td>\n",
       "      <td>0.00124</td>\n",
       "      <td>7029600.0</td>\n",
       "      <td>1999-12-10</td>\n",
       "      <td>25975</td>\n",
       "    </tr>\n",
       "    <tr>\n",
       "      <th>36234</th>\n",
       "      <td>45.0</td>\n",
       "      <td>0.0</td>\n",
       "      <td>NaN</td>\n",
       "      <td>0.0</td>\n",
       "      <td>J2000</td>\n",
       "      <td>0.00062</td>\n",
       "      <td>7200300.0</td>\n",
       "      <td>1999-12-09</td>\n",
       "      <td>25977</td>\n",
       "    </tr>\n",
       "    <tr>\n",
       "      <th>36235</th>\n",
       "      <td>45.0</td>\n",
       "      <td>0.0</td>\n",
       "      <td>NaN</td>\n",
       "      <td>0.0</td>\n",
       "      <td>J2000</td>\n",
       "      <td>0.00062</td>\n",
       "      <td>7200200.0</td>\n",
       "      <td>1999-12-09</td>\n",
       "      <td>25982</td>\n",
       "    </tr>\n",
       "  </tbody>\n",
       "</table>\n",
       "</div>"
      ],
      "text/plain": [
       "        inc  raan  mAno  aPer  frame      ecc        sma       epoch  object\n",
       "36231  52.0   0.0   NaN   0.0  J2000  0.00011  7791700.0  1999-10-22   25941\n",
       "36232  52.0   0.0   NaN   0.0  J2000  0.00305  7299200.0  1999-11-29   25960\n",
       "36233  98.1   0.0   NaN   0.0  J2000  0.00124  7029600.0  1999-12-10   25975\n",
       "36234  45.0   0.0   NaN   0.0  J2000  0.00062  7200300.0  1999-12-09   25977\n",
       "36235  45.0   0.0   NaN   0.0  J2000  0.00062  7200200.0  1999-12-09   25982"
      ]
     },
     "execution_count": 35,
     "metadata": {},
     "output_type": "execute_result"
    }
   ],
   "source": [
    "rel_att = ['object']\n",
    "dest_orbit_df = data2df(dataDestOrbit, rel_att)\n",
    "\n",
    "dest_orbit_df.head()"
   ]
  },
  {
   "cell_type": "code",
   "execution_count": 40,
   "id": "a14fcdec-1cc8-4c41-ba00-ef19ffadab9e",
   "metadata": {},
   "outputs": [],
   "source": [
    "dest_orbit_df.to_csv('all_discos_destination-orbits.csv')"
   ]
  },
  {
   "cell_type": "code",
   "execution_count": null,
   "id": "c10013c7-6d32-4e29-bc12-2e9bfdb72b55",
   "metadata": {},
   "outputs": [],
   "source": []
  }
 ],
 "metadata": {
  "kernelspec": {
   "display_name": "Python 3 (ipykernel)",
   "language": "python",
   "name": "python3"
  },
  "language_info": {
   "codemirror_mode": {
    "name": "ipython",
    "version": 3
   },
   "file_extension": ".py",
   "mimetype": "text/x-python",
   "name": "python",
   "nbconvert_exporter": "python",
   "pygments_lexer": "ipython3",
   "version": "3.7.13"
  }
 },
 "nbformat": 4,
 "nbformat_minor": 5
}
