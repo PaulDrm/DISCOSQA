{
 "cells": [
  {
   "cell_type": "markdown",
   "id": "0d36497d-2f2f-4a53-af0b-d838a47616c4",
   "metadata": {},
   "source": [
    "# Get SCOS Info"
   ]
  },
  {
   "cell_type": "code",
   "execution_count": null,
   "id": "f0f10f86-a30b-4e42-ac38-54ab4770a0cb",
   "metadata": {},
   "outputs": [],
   "source": [
    "import numpy as np\n",
    "import pandas as pd\n",
    "import pickle\n",
    "from tqdm.notebook import tqdm,trange\n",
    "from pprint import pprint\n",
    "import pdb"
   ]
  },
  {
   "cell_type": "code",
   "execution_count": null,
   "id": "54137ee1-562b-4c3e-a31d-af3b541b9c8f",
   "metadata": {},
   "outputs": [],
   "source": [
    "fpath = '/mnt/esa-ocai/ioa/karel'\n",
    "fpath_remote = '../ioa/karel'"
   ]
  },
  {
   "cell_type": "markdown",
   "id": "c1499826-5455-4ce9-9ed4-c0200852201f",
   "metadata": {},
   "source": [
    "## GAIA"
   ]
  },
  {
   "cell_type": "code",
   "execution_count": null,
   "id": "1eff8275-35cc-409e-b162-a5ec6dc4538c",
   "metadata": {},
   "outputs": [],
   "source": [
    "gaia_parse = pickle.load(open('gaia_parsers.pkl','rb'))"
   ]
  },
  {
   "cell_type": "code",
   "execution_count": null,
   "id": "862c0055-54e6-47cc-a032-cc196c367b0c",
   "metadata": {},
   "outputs": [],
   "source": [
    "def get_single_parent(parents):\n",
    "    p_list = ['aocs','stracker','gyro','fss','cps']\n",
    "    for p in p_list:\n",
    "        if len(parents)==1:\n",
    "            return parents[0] if parents[0]!='stracker' else 'str'\n",
    "        if p in val:\n",
    "            parents.remove(p)\n",
    "            return get_single_parent(parents)\n",
    "    \n",
    "    p_join = ''\n",
    "    for p in parents:\n",
    "        p_join += p\n",
    "        \n",
    "    if 'fss' in p_join:\n",
    "        return 'fss'\n",
    "    if 'cps' in p_join:\n",
    "        return 'cps'\n",
    "    \n",
    "    return p_join"
   ]
  },
  {
   "cell_type": "markdown",
   "id": "3115176d-d35a-4019-a0e1-7ce185d4cccc",
   "metadata": {
    "jp-MarkdownHeadingCollapsed": true,
    "tags": []
   },
   "source": [
    "### ReportingData"
   ]
  },
  {
   "cell_type": "code",
   "execution_count": null,
   "id": "e1b2b90c-4fce-4853-aaf4-811f555cc3be",
   "metadata": {},
   "outputs": [],
   "source": [
    "colnames_pcf = ['PCF_NAME', 'PCF_DESCR', 'PCF_PID', 'PCF_UNIT', 'PCF_PTC', \n",
    "                'PCF_PFC', 'PCF_WIDTH', 'PCF_VALID', 'PCF_RELATED', 'PCF_CATEG', \n",
    "                'PCF_NATUR', 'PCF_CURTX', 'PCF_INTER', 'PCF_USCON', 'PCF_DECIM',\n",
    "                'PCF_PARVAL', 'PCF_SUBSYS', 'PCF_VALPAR', 'PCF_SPTYPE', 'PCF_CORR',\n",
    "                'PCF_OBTID', 'PCF_DARC', 'PCF_ENDIAN']"
   ]
  },
  {
   "cell_type": "code",
   "execution_count": null,
   "id": "e70bbc6f-a428-4bf5-a462-9657c5b42509",
   "metadata": {},
   "outputs": [],
   "source": [
    "fname_gaia = fpath + '/gaia/s2k_mib/pcf.dat'\n",
    "data_report_gaia = pd.read_csv(fname_gaia, sep='\\t', names=colnames_pcf, index_col=False, usecols=[0,1,2,3,16])\n",
    "data_report_gaia"
   ]
  },
  {
   "cell_type": "code",
   "execution_count": null,
   "id": "ecf612d9-a0b3-47f3-9541-5a2dc864aec9",
   "metadata": {},
   "outputs": [],
   "source": [
    "data_report_gaia['PCF_UNIT'].unique()"
   ]
  },
  {
   "cell_type": "code",
   "execution_count": null,
   "id": "8eaff535-8d86-410e-90f5-84e38e856c7f",
   "metadata": {},
   "outputs": [],
   "source": [
    "parse_rd = gaia_parse['ReportingData']\n",
    "parse_rd"
   ]
  },
  {
   "cell_type": "code",
   "execution_count": null,
   "id": "10616466-d6cf-461c-a64e-520db2f200be",
   "metadata": {},
   "outputs": [],
   "source": [
    "data_report_gaia['parents'] = [[] for _ in range(len(data_report_gaia))]\n",
    "parent_masks = {}\n",
    "\n",
    "for parse,parent in tqdm(zip(parse_rd['parser'], parse_rd['parent']), total=len(parse_rd['parent'])):\n",
    "    parse_str = [p.decode(\"utf-8\").strip('\\'') for p in parse]\n",
    "    parent_str = parent.decode(\"utf-8\")\n",
    "    \n",
    "    name_mask = data_report_gaia['PCF_NAME'].str.contains(parse_str[0], regex=True, na=False)\n",
    "    descr_mask = data_report_gaia['PCF_DESCR'].str.contains(parse_str[1], regex=True, na=False)\n",
    "    subsys_mask = data_report_gaia['PCF_SUBSYS'].str.contains(parse_str[2], regex=True, na=False)\n",
    "    \n",
    "    parent_masks[parent_str] = name_mask & descr_mask & subsys_mask\n",
    "    \n",
    "    for ind in data_report_gaia.loc[name_mask & descr_mask & subsys_mask].index:\n",
    "        data_report_gaia.loc[ind,'parents'].append(parent_str)"
   ]
  },
  {
   "cell_type": "code",
   "execution_count": null,
   "id": "30e9410b-8e00-4201-95f6-3d5e0665e62e",
   "metadata": {},
   "outputs": [],
   "source": [
    "data_out = data_report_gaia.loc[data_report_gaia['parents'].map(len)>0].copy()\n",
    "data_out"
   ]
  },
  {
   "cell_type": "code",
   "execution_count": null,
   "id": "795f7512-6095-48cd-a2e7-614d6cff99dc",
   "metadata": {},
   "outputs": [],
   "source": [
    "data_out['parents'].map(len).value_counts()"
   ]
  },
  {
   "cell_type": "code",
   "execution_count": null,
   "id": "51132c9a-2278-491c-ad2e-d3c445b1f45c",
   "metadata": {},
   "outputs": [],
   "source": [
    "data_out['single_parent'] = ['' for _ in range(len(data_out))]\n",
    "\n",
    "for i, val in data_out['parents'].items():\n",
    "    data_out.loc[i,'single_parent'] = [get_single_parent(val)]"
   ]
  },
  {
   "cell_type": "code",
   "execution_count": null,
   "id": "de2681c6-b8ef-4273-aace-0ca6a9d41dac",
   "metadata": {},
   "outputs": [],
   "source": [
    "data_out.single_parent.value_counts()"
   ]
  },
  {
   "cell_type": "code",
   "execution_count": null,
   "id": "32f1d6fe-5192-4171-b584-6af24822be38",
   "metadata": {},
   "outputs": [],
   "source": [
    "data_out"
   ]
  },
  {
   "cell_type": "code",
   "execution_count": null,
   "id": "e243ca5a-a435-4dc8-9e30-967f82d538c0",
   "metadata": {},
   "outputs": [],
   "source": [
    "data_out.loc[data_out.single_parent.str.contains(\"fss.*fss\",regex=True,na=False)]"
   ]
  },
  {
   "cell_type": "code",
   "execution_count": null,
   "id": "6f729ff8-94a3-45e7-a136-b676df42e359",
   "metadata": {},
   "outputs": [],
   "source": [
    "data_out.loc[data_out.single_parent.str.contains(\"cps.*cps\",regex=True,na=False)]"
   ]
  },
  {
   "cell_type": "markdown",
   "id": "d76cac9c-e2b3-4817-9672-fd136b67d88d",
   "metadata": {},
   "source": [
    "Example issues"
   ]
  },
  {
   "cell_type": "code",
   "execution_count": null,
   "id": "04ecaa81-9bb3-471d-8f0c-9c1973e38b72",
   "metadata": {},
   "outputs": [],
   "source": [
    "data_report_gaia.loc[(parent_masks['cpsa'] & parent_masks['cpsb']), 'PCF_DESCR'].values"
   ]
  },
  {
   "cell_type": "code",
   "execution_count": null,
   "id": "f701fd75-05c5-4205-b34b-6eacb5f9fb07",
   "metadata": {},
   "outputs": [],
   "source": [
    "descr_cpsa = data_report_gaia['PCF_DESCR'].str.contains(\".*CPS.*A.*\", regex=True, na=False)\n",
    "subsys_cpsa = data_report_gaia['PCF_SUBSYS'].str.contains('CPS', regex=True, na=False)\n",
    "\n",
    "data_report_gaia.loc[descr_cpsa & subsys_cpsa]"
   ]
  },
  {
   "cell_type": "markdown",
   "id": "377f0205-a10e-4c85-b36d-c99269af3172",
   "metadata": {
    "jp-MarkdownHeadingCollapsed": true,
    "tags": []
   },
   "source": [
    "### Activity"
   ]
  },
  {
   "cell_type": "code",
   "execution_count": null,
   "id": "59fce13a-201d-406f-840e-cce9efda2961",
   "metadata": {},
   "outputs": [],
   "source": [
    "colnames_ccf = ['CCF_CNAME', 'CCF_DESCR', 'CCF_DESCR2', 'CCF_CTYPE', 'CCF_CRITICAL', \n",
    "                'CCF_PKTID', 'CCF_TYPE', 'CCF_STYPE', 'CCF_APID', 'CCF_NPARS', \n",
    "                'CCF_PLAN', 'CCF_EXEC', 'CCF_ILSCOPE', 'CCF_ILSTAGE', 'CCF_SUBSYS',\n",
    "                'CCF_HIPRI', 'CCF_MAPID', 'CCF_DEFSET', 'CCF_RAPID', 'CCF_ACK',\n",
    "                'CCF_SUBSCHEDID']"
   ]
  },
  {
   "cell_type": "code",
   "execution_count": null,
   "id": "eae313f4-c388-4929-9293-f4d48f3c9011",
   "metadata": {},
   "outputs": [],
   "source": [
    "fname_gaia = fpath + '/gaia/s2k_mib/ccf.dat'\n",
    "data_activity_gaia = pd.read_csv(fname_gaia, sep='\\t', names=colnames_ccf, index_col=False, usecols=[0,1,2,6,7,8,14,20])\n",
    "data_activity_gaia"
   ]
  },
  {
   "cell_type": "code",
   "execution_count": null,
   "id": "38419144-dbd0-4998-9d6b-95dd9cfa6f7d",
   "metadata": {},
   "outputs": [],
   "source": [
    "parse_act = gaia_parse['Activity']\n",
    "parse_act"
   ]
  },
  {
   "cell_type": "code",
   "execution_count": null,
   "id": "6760f18e-e2e8-4d32-ab06-2b9f84136123",
   "metadata": {},
   "outputs": [],
   "source": [
    "data_activity_gaia['parents'] = [[] for _ in range(len(data_activity_gaia))]\n",
    "parent_masks = {}\n",
    "\n",
    "for parse,parent in tqdm(zip(parse_act['parser'], parse_act['parent']), total=len(parse_act['parent'])):\n",
    "    parse_str = [p.decode(\"utf-8\").strip('\\'') for p in parse]\n",
    "    parent_str = parent.decode(\"utf-8\")\n",
    "    \n",
    "    name_mask = data_activity_gaia['CCF_CNAME'].str.contains(parse_str[0], regex=True, na=False)\n",
    "    descr_mask = data_activity_gaia['CCF_DESCR'].str.contains(parse_str[1], regex=True, na=False)\n",
    "    type_mask = ~data_activity_gaia['CCF_TYPE'].isnull()\n",
    "    stype_mask = ~data_activity_gaia['CCF_STYPE'].isnull()\n",
    "    apid_mask = ~data_activity_gaia['CCF_APID'].isnull()\n",
    "    \n",
    "    parent_masks[parent_str] = name_mask & descr_mask & type_mask & stype_mask & apid_mask\n",
    "    \n",
    "    for ind in data_activity_gaia.loc[name_mask & descr_mask & type_mask & stype_mask & apid_mask].index:\n",
    "        data_activity_gaia.loc[ind,'parents'].append(parent_str)"
   ]
  },
  {
   "cell_type": "code",
   "execution_count": null,
   "id": "1a82d37d-34ba-4d45-98c3-8823b64917f5",
   "metadata": {},
   "outputs": [],
   "source": [
    "data_out_act = data_activity_gaia.loc[data_activity_gaia['parents'].map(len)>0].copy()\n",
    "data_out_act"
   ]
  },
  {
   "cell_type": "code",
   "execution_count": null,
   "id": "17716cc1-f0ef-4398-8e39-58952789792d",
   "metadata": {},
   "outputs": [],
   "source": [
    "data_out_act['parents'].map(len).value_counts()"
   ]
  },
  {
   "cell_type": "code",
   "execution_count": null,
   "id": "780b9c85-b3e8-408c-9f54-357cb7a759af",
   "metadata": {},
   "outputs": [],
   "source": [
    "data_out_act['single_parent'] = ['' for _ in range(len(data_out_act))]\n",
    "\n",
    "for i, val in data_out_act['parents'].items():\n",
    "    data_out_act.loc[i,'single_parent'] = get_single_parent(val)"
   ]
  },
  {
   "cell_type": "code",
   "execution_count": null,
   "id": "416fa74b-c70c-4a2e-9ccc-321564271d89",
   "metadata": {},
   "outputs": [],
   "source": [
    "data_out_act.single_parent.value_counts()"
   ]
  },
  {
   "cell_type": "code",
   "execution_count": null,
   "id": "5b8e05a5-7b61-4524-ab5f-8f2752cef6a6",
   "metadata": {},
   "outputs": [],
   "source": [
    "data_out_act"
   ]
  },
  {
   "cell_type": "markdown",
   "id": "6939c158-bed2-433a-8a57-d8abb7ab850e",
   "metadata": {
    "jp-MarkdownHeadingCollapsed": true,
    "tags": []
   },
   "source": [
    "### Event"
   ]
  },
  {
   "cell_type": "code",
   "execution_count": null,
   "id": "d42301dc-8f54-4250-a27b-aeaa33bc9ab2",
   "metadata": {},
   "outputs": [],
   "source": [
    "colnames_pid = ['PID_TYPE', 'PID_STYPE', 'PID_APID', 'PID_PI1_VAL', 'PID_PI2_VAL',\n",
    "                'PID_SPID', 'PID_DESCR', 'PID_UNIT', 'PID_TPSD', 'PID_DFHSIZE',\n",
    "                'PID_TIME', 'PID_INTER', 'PID_VALID', 'PID_CHECK', 'PID_EVENT',\n",
    "                'PID_EVID']"
   ]
  },
  {
   "cell_type": "code",
   "execution_count": null,
   "id": "799ff656-d273-485f-bd3e-bc5c0678ae13",
   "metadata": {},
   "outputs": [],
   "source": [
    "fname_gaia = fpath + '/gaia/s2k_mib/pid.dat'\n",
    "data_event_gaia = pd.read_csv(fname_gaia, sep='\\t', names=colnames_pid, index_col=False, usecols=[0,1,2,6,7])\n",
    "data_event_gaia"
   ]
  },
  {
   "cell_type": "code",
   "execution_count": null,
   "id": "bd66f8e2-0065-4ed8-aba5-29de064c0273",
   "metadata": {},
   "outputs": [],
   "source": [
    "parse_ev = gaia_parse['Event']\n",
    "parse_ev"
   ]
  },
  {
   "cell_type": "code",
   "execution_count": null,
   "id": "c6659170-1d66-4d91-bc46-e8cc0a505185",
   "metadata": {},
   "outputs": [],
   "source": [
    "data_event_gaia['parents'] = [[] for _ in range(len(data_event_gaia))]\n",
    "parent_masks = {}\n",
    "\n",
    "for parse,parent in tqdm(zip(parse_ev['parser'], parse_ev['parent']), total=len(parse_ev['parent'])):\n",
    "    parse_str = [p.decode(\"utf-8\").strip('\\'') for p in parse]\n",
    "    parent_str = parent.decode(\"utf-8\")\n",
    "\n",
    "    type_mask = ~data_event_gaia['PID_TYPE'].isnull()\n",
    "    stype_mask = ~data_event_gaia['PID_STYPE'].isnull()\n",
    "    apid_mask = ~data_event_gaia['PID_APID'].isnull()\n",
    "    descr_mask = data_event_gaia['PID_DESCR'].str.contains(parse_str[3], regex=True, na=False)\n",
    "    \n",
    "    parent_masks[parent_str] = type_mask & stype_mask & apid_mask & descr_mask\n",
    "    \n",
    "    for ind in data_event_gaia.loc[type_mask & stype_mask & apid_mask & descr_mask].index:\n",
    "        data_event_gaia.loc[ind,'parents'].append(parent_str)"
   ]
  },
  {
   "cell_type": "code",
   "execution_count": null,
   "id": "f78923c0-4f01-4cdb-aa76-5e4f8612fbaa",
   "metadata": {},
   "outputs": [],
   "source": [
    "data_out_ev = data_event_gaia.loc[data_event_gaia['parents'].map(len)>0].copy()\n",
    "data_out_ev"
   ]
  },
  {
   "cell_type": "code",
   "execution_count": null,
   "id": "a3adc8ff-145f-4e85-85c1-4a5d450e3b21",
   "metadata": {},
   "outputs": [],
   "source": [
    "data_out_ev['parents'].map(len).value_counts()"
   ]
  },
  {
   "cell_type": "code",
   "execution_count": null,
   "id": "ff080702-0b3d-447e-b5b4-260b5b62a142",
   "metadata": {},
   "outputs": [],
   "source": [
    "data_out_ev['single_parent'] = ['' for _ in range(len(data_out_ev))]\n",
    "\n",
    "for i, val in data_out_ev['parents'].items():\n",
    "    data_out_ev.loc[i,'single_parent'] = get_single_parent(val)"
   ]
  },
  {
   "cell_type": "code",
   "execution_count": null,
   "id": "4b6f6074-b768-41b0-af73-10562cb16724",
   "metadata": {},
   "outputs": [],
   "source": [
    "data_out_ev.single_parent.value_counts()"
   ]
  },
  {
   "cell_type": "code",
   "execution_count": null,
   "id": "e2f70662-14f0-488c-8000-b8e3452f2db0",
   "metadata": {},
   "outputs": [],
   "source": [
    "data_out_ev"
   ]
  },
  {
   "cell_type": "code",
   "execution_count": null,
   "id": "e8499665-13b4-4880-b015-ab982b121877",
   "metadata": {},
   "outputs": [],
   "source": []
  },
  {
   "cell_type": "markdown",
   "id": "2329405a-53b1-4954-9652-faa37e179d6c",
   "metadata": {
    "jp-MarkdownHeadingCollapsed": true,
    "tags": []
   },
   "source": [
    "## Cluster"
   ]
  },
  {
   "cell_type": "code",
   "execution_count": null,
   "id": "8756a98b-4da9-47f9-be17-514b5d91cc5c",
   "metadata": {},
   "outputs": [],
   "source": [
    "colnames_clu = ['PCF_NAME', 'PCF_DESCR', 'PCF_UNIT', 'PCF_VALID', 'PCF_CATEG',\n",
    "                'PCF_WIDTH', 'PCF_NATUR', 'PCF_CODIN', 'PCF_CURTX', 'PCF_INTER',\n",
    "                'PCF_USCON', 'PCF_CTSPE', 'PCF_CTREL', 'PCF_CTDIS', 'PCF_CTPRO',\n",
    "                'PCF_DECIM', 'PCF_PARVAL', 'extra1']"
   ]
  },
  {
   "cell_type": "code",
   "execution_count": null,
   "id": "5aba42a4-ea1e-4b14-b2c1-e99b5f3cfc1d",
   "metadata": {},
   "outputs": [],
   "source": [
    "fname_clu = fpath + '/cluster/mib/clu2/PCF.dat'\n",
    "data_report_cluster = pd.read_csv(fname_clu, names=colnames_clu ,index_col=False)\n",
    "data_report_cluster"
   ]
  },
  {
   "cell_type": "code",
   "execution_count": null,
   "id": "d838960e-667f-46da-89a7-590a1d3228df",
   "metadata": {},
   "outputs": [],
   "source": [
    "data_report_cluster['PCF_UNIT'].unique()"
   ]
  },
  {
   "cell_type": "code",
   "execution_count": null,
   "id": "0759a561-3228-4711-95d3-e776f7e06f16",
   "metadata": {},
   "outputs": [],
   "source": [
    "data_report_cluster.loc[1993:2000,:]"
   ]
  },
  {
   "cell_type": "code",
   "execution_count": null,
   "id": "c63615f5-eac8-48bb-968d-07b83080485a",
   "metadata": {},
   "outputs": [],
   "source": []
  }
 ],
 "metadata": {
  "kernelspec": {
   "display_name": "Python 3 (ipykernel)",
   "language": "python",
   "name": "python3"
  },
  "language_info": {
   "codemirror_mode": {
    "name": "ipython",
    "version": 3
   },
   "file_extension": ".py",
   "mimetype": "text/x-python",
   "name": "python",
   "nbconvert_exporter": "python",
   "pygments_lexer": "ipython3",
   "version": "3.7.13"
  }
 },
 "nbformat": 4,
 "nbformat_minor": 5
}
