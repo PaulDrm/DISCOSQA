{
 "cells": [
  {
   "cell_type": "markdown",
   "id": "0d36497d-2f2f-4a53-af0b-d838a47616c4",
   "metadata": {},
   "source": [
    "# Get SCOS Info"
   ]
  },
  {
   "cell_type": "code",
   "execution_count": null,
   "id": "7618a4a2-367f-46c0-b957-e9133b1d3a78",
   "metadata": {},
   "outputs": [],
   "source": [
    "%load_ext autoreload\n",
    "%autoreload 2"
   ]
  },
  {
   "cell_type": "code",
   "execution_count": null,
   "id": "f0f10f86-a30b-4e42-ac38-54ab4770a0cb",
   "metadata": {},
   "outputs": [],
   "source": [
    "import numpy as np\n",
    "import pandas as pd\n",
    "import pickle\n",
    "from tqdm.notebook import tqdm,trange\n",
    "from pprint import pprint\n",
    "import pdb"
   ]
  },
  {
   "cell_type": "code",
   "execution_count": null,
   "id": "7c2dbde6-5203-4f70-9c2b-900b4af701c9",
   "metadata": {},
   "outputs": [],
   "source": [
    "from convert_scos import *"
   ]
  },
  {
   "cell_type": "code",
   "execution_count": null,
   "id": "54137ee1-562b-4c3e-a31d-af3b541b9c8f",
   "metadata": {},
   "outputs": [],
   "source": [
    "fpath = '/mnt/esa-ocai/ioa/karel'\n",
    "fpath_remote = '../ioa/karel'"
   ]
  },
  {
   "cell_type": "code",
   "execution_count": null,
   "id": "b8ead828-38b4-47d4-9f09-4c2a41908894",
   "metadata": {},
   "outputs": [],
   "source": [
    "prefixes = [\"\"\"@base <http://ioa-graph/resource/> .\n",
    "@prefix ioa: <http://www.semanticweb.org/esa-ioa/ontologies/2022/ioa-wiki-ontology#> .\n",
    "@prefix pred: <http://www.semanticweb.org/esa-ioa/ontologies/2022/predicates-ontology#> .\n",
    "@prefix rdfs: <http://www.w3.org/2000/01/rdf-schema#> .\n",
    "@prefix xsd: <http://www.w3.org/2001/XMLSchema#> .\"\"\"]"
   ]
  },
  {
   "cell_type": "markdown",
   "id": "c1499826-5455-4ce9-9ed4-c0200852201f",
   "metadata": {
    "jp-MarkdownHeadingCollapsed": true,
    "tags": []
   },
   "source": [
    "## GAIA"
   ]
  },
  {
   "cell_type": "code",
   "execution_count": null,
   "id": "1eff8275-35cc-409e-b162-a5ec6dc4538c",
   "metadata": {},
   "outputs": [],
   "source": [
    "gaia_parse = pickle.load(open('gaia_parsers.pkl','rb'))"
   ]
  },
  {
   "cell_type": "code",
   "execution_count": null,
   "id": "862c0055-54e6-47cc-a032-cc196c367b0c",
   "metadata": {},
   "outputs": [],
   "source": [
    "def get_single_parent(parents):\n",
    "    p_list = ['aocs','stracker','gyro','fss','cps']\n",
    "    for p in p_list:\n",
    "        if len(parents)==1:\n",
    "            return parents[0] if parents[0]!='stracker' else 'str'\n",
    "        if p in val:\n",
    "            parents.remove(p)\n",
    "            return get_single_parent(parents)\n",
    "    \n",
    "    p_join = ''\n",
    "    for p in parents:\n",
    "        p_join += p\n",
    "        \n",
    "    if 'fss' in p_join:\n",
    "        return 'fss'\n",
    "    if 'cps' in p_join:\n",
    "        return 'cps'\n",
    "    \n",
    "    return p_join"
   ]
  },
  {
   "cell_type": "markdown",
   "id": "3115176d-d35a-4019-a0e1-7ce185d4cccc",
   "metadata": {
    "tags": []
   },
   "source": [
    "### ReportingData"
   ]
  },
  {
   "cell_type": "code",
   "execution_count": null,
   "id": "e1b2b90c-4fce-4853-aaf4-811f555cc3be",
   "metadata": {},
   "outputs": [],
   "source": [
    "colnames_pcf = ['PCF_NAME', 'PCF_DESCR', 'PCF_PID', 'PCF_UNIT', 'PCF_PTC', \n",
    "                'PCF_PFC', 'PCF_WIDTH', 'PCF_VALID', 'PCF_RELATED', 'PCF_CATEG', \n",
    "                'PCF_NATUR', 'PCF_CURTX', 'PCF_INTER', 'PCF_USCON', 'PCF_DECIM',\n",
    "                'PCF_PARVAL', 'PCF_SUBSYS', 'PCF_VALPAR', 'PCF_SPTYPE', 'PCF_CORR',\n",
    "                'PCF_OBTID', 'PCF_DARC', 'PCF_ENDIAN']"
   ]
  },
  {
   "cell_type": "code",
   "execution_count": null,
   "id": "e70bbc6f-a428-4bf5-a462-9657c5b42509",
   "metadata": {},
   "outputs": [],
   "source": [
    "fname_gaia = fpath + '/gaia/s2k_mib/pcf.dat'\n",
    "data_report_gaia = pd.read_csv(fname_gaia, sep='\\t', names=colnames_pcf, index_col=False, usecols=[0,1,2,3,16])\n",
    "data_report_gaia"
   ]
  },
  {
   "cell_type": "code",
   "execution_count": null,
   "id": "ecf612d9-a0b3-47f3-9541-5a2dc864aec9",
   "metadata": {},
   "outputs": [],
   "source": [
    "data_report_gaia['PCF_UNIT'].unique()"
   ]
  },
  {
   "cell_type": "code",
   "execution_count": null,
   "id": "10616466-d6cf-461c-a64e-520db2f200be",
   "metadata": {},
   "outputs": [],
   "source": [
    "parse_rd = gaia_parse['ReportingData']\n",
    "data_report_gaia['parents'] = [[] for _ in range(len(data_report_gaia))]\n",
    "parent_masks = {}\n",
    "\n",
    "for parse,parent in tqdm(zip(parse_rd['parser'], parse_rd['parent']), total=len(parse_rd['parent'])):\n",
    "    parse_str = [p.decode(\"utf-8\").strip('\\'') for p in parse]\n",
    "    parent_str = parent.decode(\"utf-8\")\n",
    "    \n",
    "    name_mask = data_report_gaia['PCF_NAME'].str.contains(parse_str[0], regex=True, na=False)\n",
    "    descr_mask = data_report_gaia['PCF_DESCR'].str.contains(parse_str[1], regex=True, na=False)\n",
    "    subsys_mask = data_report_gaia['PCF_SUBSYS'].str.contains(parse_str[2], regex=True, na=False)\n",
    "    \n",
    "    parent_masks[parent_str] = name_mask & descr_mask & subsys_mask\n",
    "    \n",
    "    for ind in data_report_gaia.loc[name_mask & descr_mask & subsys_mask].index:\n",
    "        data_report_gaia.loc[ind,'parents'].append(parent_str)"
   ]
  },
  {
   "cell_type": "code",
   "execution_count": null,
   "id": "795f7512-6095-48cd-a2e7-614d6cff99dc",
   "metadata": {},
   "outputs": [],
   "source": [
    "data_report_gaia['parents'].map(len).value_counts()"
   ]
  },
  {
   "cell_type": "code",
   "execution_count": null,
   "id": "51132c9a-2278-491c-ad2e-d3c445b1f45c",
   "metadata": {},
   "outputs": [],
   "source": [
    "data_report_gaia['parent_name'] = ['' for _ in range(len(data_report_gaia))]\n",
    "\n",
    "for i, val in tqdm(data_report_gaia['parents'].items(),total=len(data_report_gaia)):\n",
    "    data_report_gaia.loc[i,'parent_name'] = 'gaia_' + get_single_parent(val)"
   ]
  },
  {
   "cell_type": "code",
   "execution_count": null,
   "id": "77baf7bf-8f10-4f45-9162-dd0c43269e88",
   "metadata": {},
   "outputs": [],
   "source": [
    "data_report_gaia['parent_name'] = data_report_gaia['parent_name'].map(lambda s: s + 'sc' if s.endswith('_') else s)\n",
    "data_report_gaia"
   ]
  },
  {
   "cell_type": "code",
   "execution_count": null,
   "id": "b73c64be-aac1-4d55-9538-98975afc22c9",
   "metadata": {},
   "outputs": [],
   "source": [
    "data_report_gaia.loc[data_report_gaia['parents'].map(len)>0]"
   ]
  },
  {
   "cell_type": "code",
   "execution_count": null,
   "id": "61e5bd36-dc13-4d21-b281-99e58369fd94",
   "metadata": {},
   "outputs": [],
   "source": [
    "data_report_gaia['PCF_NAME'].describe()"
   ]
  },
  {
   "cell_type": "code",
   "execution_count": null,
   "id": "c2267a55-e732-4f0d-8ac4-f592d5f6be02",
   "metadata": {},
   "outputs": [],
   "source": [
    "data_report_gaia.to_csv('reporting_data_gaia.csv', index=False)"
   ]
  },
  {
   "cell_type": "markdown",
   "id": "6926d820-7131-49a9-94be-46086a90ddc3",
   "metadata": {},
   "source": [
    "Convert to rdf"
   ]
  },
  {
   "cell_type": "code",
   "execution_count": null,
   "id": "f5347073-d6da-48a3-9ebe-9d4fe54f1430",
   "metadata": {},
   "outputs": [],
   "source": [
    "gaia_rd = pd.read_csv('reporting_data_gaia.csv')\n",
    "gaia_rd"
   ]
  },
  {
   "cell_type": "code",
   "execution_count": null,
   "id": "a534ef59-3785-4c3c-9427-cccd68513892",
   "metadata": {},
   "outputs": [],
   "source": [
    "test_str = row2rdf_reportingdata(gaia_rd.loc[4291],'gaia')\n",
    "pprint(test_str)"
   ]
  },
  {
   "cell_type": "code",
   "execution_count": null,
   "id": "d5f030ac-67c7-4533-8c9e-85c31e333547",
   "metadata": {},
   "outputs": [],
   "source": [
    "gaia_rd_rdf = prefixes.copy()\n",
    "\n",
    "for index, row in tqdm(gaia_rd.iterrows(), total=len(gaia_rd)):\n",
    "    gaia_rd_rdf.append(row2rdf_reportingdata(row,'gaia'))"
   ]
  },
  {
   "cell_type": "code",
   "execution_count": null,
   "id": "fc99a1e7-5efa-4f01-b70b-de8cd23d5621",
   "metadata": {},
   "outputs": [],
   "source": [
    "with open('gaia_reporting_data.ttl', 'w') as f:\n",
    "    f.write('\\n\\n'.join(gaia_rd_rdf))"
   ]
  },
  {
   "cell_type": "markdown",
   "id": "d76cac9c-e2b3-4817-9672-fd136b67d88d",
   "metadata": {},
   "source": [
    "Example issues"
   ]
  },
  {
   "cell_type": "code",
   "execution_count": null,
   "id": "04ecaa81-9bb3-471d-8f0c-9c1973e38b72",
   "metadata": {},
   "outputs": [],
   "source": [
    "data_report_gaia.loc[(parent_masks['cpsa'] & parent_masks['cpsb']), 'PCF_DESCR'].values"
   ]
  },
  {
   "cell_type": "code",
   "execution_count": null,
   "id": "f701fd75-05c5-4205-b34b-6eacb5f9fb07",
   "metadata": {},
   "outputs": [],
   "source": [
    "descr_cpsa = data_report_gaia['PCF_DESCR'].str.contains(\".*CPS.*A.*\", regex=True, na=False)\n",
    "subsys_cpsa = data_report_gaia['PCF_SUBSYS'].str.contains('CPS', regex=True, na=False)\n",
    "\n",
    "data_report_gaia.loc[descr_cpsa & subsys_cpsa]"
   ]
  },
  {
   "cell_type": "markdown",
   "id": "377f0205-a10e-4c85-b36d-c99269af3172",
   "metadata": {
    "tags": []
   },
   "source": [
    "### Activity"
   ]
  },
  {
   "cell_type": "code",
   "execution_count": null,
   "id": "59fce13a-201d-406f-840e-cce9efda2961",
   "metadata": {},
   "outputs": [],
   "source": [
    "colnames_ccf = ['CCF_CNAME', 'CCF_DESCR', 'CCF_DESCR2', 'CCF_CTYPE', 'CCF_CRITICAL', \n",
    "                'CCF_PKTID', 'CCF_TYPE', 'CCF_STYPE', 'CCF_APID', 'CCF_NPARS', \n",
    "                'CCF_PLAN', 'CCF_EXEC', 'CCF_ILSCOPE', 'CCF_ILSTAGE', 'CCF_SUBSYS',\n",
    "                'CCF_HIPRI', 'CCF_MAPID', 'CCF_DEFSET', 'CCF_RAPID', 'CCF_ACK',\n",
    "                'CCF_SUBSCHEDID']"
   ]
  },
  {
   "cell_type": "code",
   "execution_count": null,
   "id": "eae313f4-c388-4929-9293-f4d48f3c9011",
   "metadata": {},
   "outputs": [],
   "source": [
    "fname_gaia = fpath + '/gaia/s2k_mib/ccf.dat'\n",
    "data_activity_gaia = pd.read_csv(fname_gaia, sep='\\t', names=colnames_ccf, index_col=False, usecols=[0,1,2,6,7,8,14,20])\n",
    "data_activity_gaia"
   ]
  },
  {
   "cell_type": "code",
   "execution_count": null,
   "id": "38419144-dbd0-4998-9d6b-95dd9cfa6f7d",
   "metadata": {},
   "outputs": [],
   "source": [
    "parse_act = gaia_parse['Activity']\n",
    "parse_act"
   ]
  },
  {
   "cell_type": "code",
   "execution_count": null,
   "id": "6760f18e-e2e8-4d32-ab06-2b9f84136123",
   "metadata": {},
   "outputs": [],
   "source": [
    "data_activity_gaia['parents'] = [[] for _ in range(len(data_activity_gaia))]\n",
    "parent_masks = {}\n",
    "\n",
    "for parse,parent in tqdm(zip(parse_act['parser'], parse_act['parent']), total=len(parse_act['parent'])):\n",
    "    parse_str = [p.decode(\"utf-8\").strip('\\'') for p in parse]\n",
    "    parent_str = parent.decode(\"utf-8\")\n",
    "    \n",
    "    name_mask = data_activity_gaia['CCF_CNAME'].str.contains(parse_str[0], regex=True, na=False)\n",
    "    descr_mask = data_activity_gaia['CCF_DESCR'].str.contains(parse_str[1], regex=True, na=False)\n",
    "    type_mask = ~data_activity_gaia['CCF_TYPE'].isnull()\n",
    "    stype_mask = ~data_activity_gaia['CCF_STYPE'].isnull()\n",
    "    apid_mask = ~data_activity_gaia['CCF_APID'].isnull()\n",
    "    \n",
    "    parent_masks[parent_str] = name_mask & descr_mask & type_mask & stype_mask & apid_mask\n",
    "    \n",
    "    for ind in data_activity_gaia.loc[name_mask & descr_mask & type_mask & stype_mask & apid_mask].index:\n",
    "        data_activity_gaia.loc[ind,'parents'].append(parent_str)"
   ]
  },
  {
   "cell_type": "code",
   "execution_count": null,
   "id": "7932bbb3-dd86-4601-8fbe-75583b22ca56",
   "metadata": {},
   "outputs": [],
   "source": [
    "data_activity_gaia['parents'].map(len).value_counts()"
   ]
  },
  {
   "cell_type": "code",
   "execution_count": null,
   "id": "2bc6467e-03fa-4565-89e8-5769de67eeb5",
   "metadata": {},
   "outputs": [],
   "source": [
    "data_activity_gaia['parent_name'] = ['' for _ in range(len(data_activity_gaia))]\n",
    "\n",
    "for i, val in tqdm(data_activity_gaia['parents'].items(),total=len(data_activity_gaia)):\n",
    "    data_activity_gaia.loc[i,'parent_name'] = 'gaia_' + get_single_parent(val)"
   ]
  },
  {
   "cell_type": "code",
   "execution_count": null,
   "id": "701c7e05-0079-4017-b096-4dad6fc325a4",
   "metadata": {},
   "outputs": [],
   "source": [
    "data_activity_gaia['parent_name'] = data_activity_gaia['parent_name'].map(lambda s: s + 'sc' if s.endswith('_') else s)\n",
    "data_activity_gaia"
   ]
  },
  {
   "cell_type": "code",
   "execution_count": null,
   "id": "416fa74b-c70c-4a2e-9ccc-321564271d89",
   "metadata": {},
   "outputs": [],
   "source": [
    "data_activity_gaia.parent_name.value_counts()"
   ]
  },
  {
   "cell_type": "code",
   "execution_count": null,
   "id": "8fa69974-1fae-4052-b6ca-9f80641924be",
   "metadata": {},
   "outputs": [],
   "source": [
    "data_activity_gaia.to_csv('activity_gaia.csv', index=False)"
   ]
  },
  {
   "cell_type": "markdown",
   "id": "262b962a-fc9c-48ee-9bf7-3e15e8214cd1",
   "metadata": {},
   "source": [
    "Convert to rdf"
   ]
  },
  {
   "cell_type": "code",
   "execution_count": null,
   "id": "ead30416-f9eb-49d0-a40a-ff9ea52c6a28",
   "metadata": {},
   "outputs": [],
   "source": [
    "gaia_act = pd.read_csv('activity_gaia.csv')\n",
    "gaia_act"
   ]
  },
  {
   "cell_type": "code",
   "execution_count": null,
   "id": "22017b1d-6d8a-4c44-88eb-feb6ba334f6a",
   "metadata": {},
   "outputs": [],
   "source": [
    "test_str = row2rdf_activity(gaia_act.loc[2137])\n",
    "pprint(test_str)"
   ]
  },
  {
   "cell_type": "code",
   "execution_count": null,
   "id": "4cfc53bf-d59e-4114-bc33-77ed1cefa0e2",
   "metadata": {},
   "outputs": [],
   "source": [
    "gaia_act_rdf = prefixes.copy()\n",
    "\n",
    "for index, row in tqdm(gaia_act.iterrows(), total=len(gaia_act)):\n",
    "    gaia_act_rdf.append(row2rdf_activity(row))"
   ]
  },
  {
   "cell_type": "code",
   "execution_count": null,
   "id": "bd37c507-1ceb-405d-8f95-a81d0c47b3b9",
   "metadata": {},
   "outputs": [],
   "source": [
    "with open('gaia_activity.ttl', 'w') as f:\n",
    "    f.write('\\n\\n'.join(gaia_act_rdf))"
   ]
  },
  {
   "cell_type": "markdown",
   "id": "6939c158-bed2-433a-8a57-d8abb7ab850e",
   "metadata": {
    "tags": []
   },
   "source": [
    "### Event"
   ]
  },
  {
   "cell_type": "code",
   "execution_count": null,
   "id": "d42301dc-8f54-4250-a27b-aeaa33bc9ab2",
   "metadata": {},
   "outputs": [],
   "source": [
    "colnames_pid = ['PID_TYPE', 'PID_STYPE', 'PID_APID', 'PID_PI1_VAL', 'PID_PI2_VAL',\n",
    "                'PID_SPID', 'PID_DESCR', 'PID_UNIT', 'PID_TPSD', 'PID_DFHSIZE',\n",
    "                'PID_TIME', 'PID_INTER', 'PID_VALID', 'PID_CHECK', 'PID_EVENT',\n",
    "                'PID_EVID']"
   ]
  },
  {
   "cell_type": "code",
   "execution_count": null,
   "id": "799ff656-d273-485f-bd3e-bc5c0678ae13",
   "metadata": {},
   "outputs": [],
   "source": [
    "fname_gaia = fpath + '/gaia/s2k_mib/pid.dat'\n",
    "data_event_gaia = pd.read_csv(fname_gaia, sep='\\t', names=colnames_pid, index_col=False, usecols=[0,1,2,6,7])\n",
    "data_event_gaia"
   ]
  },
  {
   "cell_type": "code",
   "execution_count": null,
   "id": "bd66f8e2-0065-4ed8-aba5-29de064c0273",
   "metadata": {},
   "outputs": [],
   "source": [
    "parse_ev = gaia_parse['Event']\n",
    "parse_ev"
   ]
  },
  {
   "cell_type": "code",
   "execution_count": null,
   "id": "c6659170-1d66-4d91-bc46-e8cc0a505185",
   "metadata": {},
   "outputs": [],
   "source": [
    "data_event_gaia['parents'] = [[] for _ in range(len(data_event_gaia))]\n",
    "parent_masks = {}\n",
    "\n",
    "for parse,parent in tqdm(zip(parse_ev['parser'], parse_ev['parent']), total=len(parse_ev['parent'])):\n",
    "    parse_str = [p.decode(\"utf-8\").strip('\\'') for p in parse]\n",
    "    parent_str = parent.decode(\"utf-8\")\n",
    "\n",
    "    type_mask = ~data_event_gaia['PID_TYPE'].isnull()\n",
    "    stype_mask = ~data_event_gaia['PID_STYPE'].isnull()\n",
    "    apid_mask = ~data_event_gaia['PID_APID'].isnull()\n",
    "    descr_mask = data_event_gaia['PID_DESCR'].str.contains(parse_str[3], regex=True, na=False)\n",
    "    \n",
    "    parent_masks[parent_str] = type_mask & stype_mask & apid_mask & descr_mask\n",
    "    \n",
    "    for ind in data_event_gaia.loc[type_mask & stype_mask & apid_mask & descr_mask].index:\n",
    "        data_event_gaia.loc[ind,'parents'].append(parent_str)"
   ]
  },
  {
   "cell_type": "code",
   "execution_count": null,
   "id": "a3adc8ff-145f-4e85-85c1-4a5d450e3b21",
   "metadata": {},
   "outputs": [],
   "source": [
    "data_event_gaia['parents'].map(len).value_counts()"
   ]
  },
  {
   "cell_type": "code",
   "execution_count": null,
   "id": "ff080702-0b3d-447e-b5b4-260b5b62a142",
   "metadata": {},
   "outputs": [],
   "source": [
    "data_event_gaia['parent_name'] = ['' for _ in range(len(data_event_gaia))]\n",
    "\n",
    "for i, val in tqdm(data_event_gaia['parents'].items(),total=len(data_event_gaia)):\n",
    "    data_event_gaia.loc[i,'parent_name'] = 'gaia_' + get_single_parent(val)"
   ]
  },
  {
   "cell_type": "code",
   "execution_count": null,
   "id": "eb6320eb-0e51-41f3-8f72-b4ab11d59561",
   "metadata": {},
   "outputs": [],
   "source": [
    "data_event_gaia['parent_name'] = data_event_gaia['parent_name'].map(lambda s: s + 'sc' if s.endswith('_') else s)\n",
    "data_event_gaia"
   ]
  },
  {
   "cell_type": "code",
   "execution_count": null,
   "id": "4b6f6074-b768-41b0-af73-10562cb16724",
   "metadata": {},
   "outputs": [],
   "source": [
    "data_event_gaia.parent_name.value_counts()"
   ]
  },
  {
   "cell_type": "code",
   "execution_count": null,
   "id": "c39e449d-c900-4bb6-9e27-85734c3d72ee",
   "metadata": {},
   "outputs": [],
   "source": [
    "data_event_gaia.to_csv('event_gaia.csv',index=False)"
   ]
  },
  {
   "cell_type": "markdown",
   "id": "d5a59762-7d2f-4ffa-a903-19c1fac63114",
   "metadata": {},
   "source": [
    "Convert to rdf"
   ]
  },
  {
   "cell_type": "code",
   "execution_count": null,
   "id": "e3d6830b-3b62-46bc-a14d-133c886b1163",
   "metadata": {},
   "outputs": [],
   "source": [
    "gaia_event = pd.read_csv('event_gaia.csv')\n",
    "gaia_event"
   ]
  },
  {
   "cell_type": "code",
   "execution_count": null,
   "id": "b7c7cd1b-7a3f-45a4-8d71-c20f8cdbbd96",
   "metadata": {},
   "outputs": [],
   "source": [
    "test_str = row2rdf_event(gaia_event.loc[4],'gaia')\n",
    "pprint(test_str)"
   ]
  },
  {
   "cell_type": "code",
   "execution_count": null,
   "id": "84a67a0e-d524-4c25-ae89-c384007715f6",
   "metadata": {},
   "outputs": [],
   "source": [
    "gaia_event_rdf = prefixes.copy()\n",
    "\n",
    "for index, row in tqdm(gaia_event.iterrows(), total=len(gaia_event)):\n",
    "    gaia_event_rdf.append(row2rdf_event(row,'gaia'))"
   ]
  },
  {
   "cell_type": "code",
   "execution_count": null,
   "id": "f6ea582b-4dc3-4a67-bb8a-b3683b6774ce",
   "metadata": {},
   "outputs": [],
   "source": [
    "with open('gaia_event.ttl', 'w') as f:\n",
    "    f.write('\\n\\n'.join(gaia_event_rdf))"
   ]
  },
  {
   "cell_type": "markdown",
   "id": "2329405a-53b1-4954-9652-faa37e179d6c",
   "metadata": {
    "tags": []
   },
   "source": [
    "## Cluster"
   ]
  },
  {
   "cell_type": "markdown",
   "id": "2e80b798-f99c-4c0e-a0ef-2cb1fe18ff3b",
   "metadata": {},
   "source": [
    "### Reporting Data"
   ]
  },
  {
   "cell_type": "code",
   "execution_count": null,
   "id": "8756a98b-4da9-47f9-be17-514b5d91cc5c",
   "metadata": {},
   "outputs": [],
   "source": [
    "colnames_pcf = ['PCF_NAME', 'PCF_DESCR', 'PCF_UNIT', 'PCF_VALID', 'PCF_CATEG',\n",
    "                'PCF_WIDTH', 'PCF_NATUR', 'PCF_CODIN', 'PCF_CURTX', 'PCF_INTER',\n",
    "                'PCF_USCON', 'PCF_CTSPE', 'PCF_CTREL', 'PCF_CTDIS', 'PCF_CTPRO',\n",
    "                'PCF_DECIM', 'PCF_PARVAL', 'extra1']"
   ]
  },
  {
   "cell_type": "code",
   "execution_count": null,
   "id": "5aba42a4-ea1e-4b14-b2c1-e99b5f3cfc1d",
   "metadata": {},
   "outputs": [],
   "source": [
    "sc_name = 'clu2'\n",
    "\n",
    "fname_clu = fpath + '/cluster/mib/'+sc_name+'/PCF.dat'\n",
    "data_report_cluster = pd.read_csv(fname_clu, names=colnames_pcf, index_col=False, skiprows=1)\n",
    "data_report_cluster"
   ]
  },
  {
   "cell_type": "code",
   "execution_count": null,
   "id": "d838960e-667f-46da-89a7-590a1d3228df",
   "metadata": {},
   "outputs": [],
   "source": [
    "data_report_cluster['PCF_UNIT'].unique()"
   ]
  },
  {
   "cell_type": "code",
   "execution_count": null,
   "id": "065c4e8b-efe1-4a0b-87ad-b20dcc9479ac",
   "metadata": {},
   "outputs": [],
   "source": [
    "data_report_cluster['parent_name'] = [sc_name for _ in range(len(data_report_cluster))]\n",
    "data_report_cluster"
   ]
  },
  {
   "cell_type": "markdown",
   "id": "bf9ee3f3-0bea-4977-806b-02cf7d75fc67",
   "metadata": {
    "tags": []
   },
   "source": [
    "### Activity"
   ]
  },
  {
   "cell_type": "code",
   "execution_count": null,
   "id": "c63615f5-eac8-48bb-968d-07b83080485a",
   "metadata": {},
   "outputs": [],
   "source": []
  },
  {
   "cell_type": "markdown",
   "id": "a343e0ba-6493-4ced-9d15-4c7c25978886",
   "metadata": {
    "tags": []
   },
   "source": [
    "### Event"
   ]
  },
  {
   "cell_type": "code",
   "execution_count": null,
   "id": "1afd5fb4-ed1a-46ea-8e55-7c7f396bbc45",
   "metadata": {},
   "outputs": [],
   "source": []
  }
 ],
 "metadata": {
  "kernelspec": {
   "display_name": "Python 3 (ipykernel)",
   "language": "python",
   "name": "python3"
  },
  "language_info": {
   "codemirror_mode": {
    "name": "ipython",
    "version": 3
   },
   "file_extension": ".py",
   "mimetype": "text/x-python",
   "name": "python",
   "nbconvert_exporter": "python",
   "pygments_lexer": "ipython3",
   "version": "3.7.13"
  }
 },
 "nbformat": 4,
 "nbformat_minor": 5
}
