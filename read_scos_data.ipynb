{
 "cells": [
  {
   "cell_type": "markdown",
   "id": "0d36497d-2f2f-4a53-af0b-d838a47616c4",
   "metadata": {},
   "source": [
    "# Get SCOS Info"
   ]
  },
  {
   "cell_type": "code",
   "execution_count": null,
   "id": "f0f10f86-a30b-4e42-ac38-54ab4770a0cb",
   "metadata": {},
   "outputs": [],
   "source": [
    "import numpy as np\n",
    "import pandas as pd\n",
    "from pprint import pprint"
   ]
  },
  {
   "cell_type": "code",
   "execution_count": null,
   "id": "54137ee1-562b-4c3e-a31d-af3b541b9c8f",
   "metadata": {},
   "outputs": [],
   "source": [
    "fpath = '/mnt/esa-ocai/ioa/karel'\n",
    "fname = fpath + '/gaia/s2k_mib/pcf.dat'"
   ]
  },
  {
   "cell_type": "markdown",
   "id": "c1499826-5455-4ce9-9ed4-c0200852201f",
   "metadata": {},
   "source": [
    "## GAIA"
   ]
  },
  {
   "cell_type": "code",
   "execution_count": null,
   "id": "e1b2b90c-4fce-4853-aaf4-811f555cc3be",
   "metadata": {},
   "outputs": [],
   "source": [
    "colnames_pcf = ['PCF_NAME', 'PCF_DESCR', 'PCF_PID', 'PCF_UNIT', 'PCF_PTC', \n",
    "                'PCF_PFC', 'PCF_WIDTH', 'PCF_VALID', 'PCF_RELATED', 'PCF_CATEG', \n",
    "                'PCF_NATUR', 'PCF_CURTX', 'PCF_INTER', 'PCF_USCON', 'PCF_DECIM',\n",
    "                'PCF_PARVAL', 'PCF_SUBSYS', 'PCF_VALPAR', 'PCF_SPTYPE', 'PCF_CORR',\n",
    "                'PCF_OBTID', 'PCF_DARC', 'PCF_ENDIAN']"
   ]
  },
  {
   "cell_type": "code",
   "execution_count": null,
   "id": "54739f98-bf64-4afb-83ef-59e3467aa722",
   "metadata": {},
   "outputs": [],
   "source": [
    "colnames_pcf[18]"
   ]
  },
  {
   "cell_type": "code",
   "execution_count": null,
   "id": "e70bbc6f-a428-4bf5-a462-9657c5b42509",
   "metadata": {},
   "outputs": [],
   "source": [
    "data_report = pd.read_csv(fname, sep='\\t', names=colnames_pcf, index_col=False, usecols=[0,1,2,3,16])\n",
    "data_report"
   ]
  },
  {
   "cell_type": "code",
   "execution_count": null,
   "id": "ecf612d9-a0b3-47f3-9541-5a2dc864aec9",
   "metadata": {},
   "outputs": [],
   "source": [
    "data_report['PCF_UNIT'].unique()"
   ]
  },
  {
   "cell_type": "code",
   "execution_count": null,
   "id": "7bec8e9a-67ab-4d2a-9d0b-82afa3c31a44",
   "metadata": {},
   "outputs": [],
   "source": [
    "item_no = 1\n",
    "data_report.loc[data_report['PCF_DESCR'].str.contains(f'.*FSS{item_no}.*', regex=True)]"
   ]
  },
  {
   "cell_type": "code",
   "execution_count": null,
   "id": "9f86dc71-c08d-4ec6-b673-81f400eb770b",
   "metadata": {},
   "outputs": [],
   "source": [
    "item_no = 2\n",
    "data_report.loc[data_report['PCF_DESCR'].str.contains(f'.*FSS{item_no}.*', regex=True)]"
   ]
  },
  {
   "cell_type": "markdown",
   "id": "2329405a-53b1-4954-9652-faa37e179d6c",
   "metadata": {},
   "source": [
    "## Cluster"
   ]
  },
  {
   "cell_type": "code",
   "execution_count": null,
   "id": "8756a98b-4da9-47f9-be17-514b5d91cc5c",
   "metadata": {},
   "outputs": [],
   "source": [
    "colnames_clu = ['PCF_NAME', 'PCF_DESCR', 'PCF_UNIT', 'PCF_VALID', 'PCF_CATEG',\n",
    "                'PCF_WIDTH', 'PCF_NATUR', 'PCF_CODIN', 'PCF_CURTX', 'PCF_INTER',\n",
    "                'PCF_USCON', 'PCF_CTSPE', 'PCF_CTREL', 'PCF_CTDIS', 'PCF_CTPRO',\n",
    "                'PCF_DECIM', 'PCF_PARVAL', 'extra1']"
   ]
  },
  {
   "cell_type": "code",
   "execution_count": null,
   "id": "5aba42a4-ea1e-4b14-b2c1-e99b5f3cfc1d",
   "metadata": {},
   "outputs": [],
   "source": [
    "fname_clu = fpath + '/cluster/mib/clu2/PCF.dat'\n",
    "data_report_cluster = pd.read_csv(fname_clu, names=colnames_clu ,index_col=False)\n",
    "data_report_cluster"
   ]
  },
  {
   "cell_type": "code",
   "execution_count": null,
   "id": "d838960e-667f-46da-89a7-590a1d3228df",
   "metadata": {},
   "outputs": [],
   "source": [
    "data_report_cluster['PCF_UNIT'].unique()"
   ]
  },
  {
   "cell_type": "code",
   "execution_count": null,
   "id": "3df25114-0022-4e1c-a12b-c6a4a9d287a5",
   "metadata": {},
   "outputs": [],
   "source": [
    "data_report_cluster.loc[data_report_cluster['PCF_UNIT'].str.contains('=TRUE', na=False)]"
   ]
  },
  {
   "cell_type": "code",
   "execution_count": null,
   "id": "0759a561-3228-4711-95d3-e776f7e06f16",
   "metadata": {},
   "outputs": [],
   "source": [
    "data_report_cluster.loc[(1993,1994),:]"
   ]
  },
  {
   "cell_type": "code",
   "execution_count": null,
   "id": "c63615f5-eac8-48bb-968d-07b83080485a",
   "metadata": {},
   "outputs": [],
   "source": []
  }
 ],
 "metadata": {
  "kernelspec": {
   "display_name": "Python 3 (ipykernel)",
   "language": "python",
   "name": "python3"
  },
  "language_info": {
   "codemirror_mode": {
    "name": "ipython",
    "version": 3
   },
   "file_extension": ".py",
   "mimetype": "text/x-python",
   "name": "python",
   "nbconvert_exporter": "python",
   "pygments_lexer": "ipython3",
   "version": "3.7.13"
  }
 },
 "nbformat": 4,
 "nbformat_minor": 5
}
