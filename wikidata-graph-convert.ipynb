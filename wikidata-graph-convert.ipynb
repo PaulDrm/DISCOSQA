{
 "cells": [
  {
   "cell_type": "markdown",
   "id": "d4af66cc-d7f1-4ba8-8ae0-48318e7cfb03",
   "metadata": {},
   "source": [
    "# Converting JSON Mapping"
   ]
  },
  {
   "cell_type": "code",
   "execution_count": 1,
   "id": "f3676f5f-4f0b-402d-86f4-e702fb587063",
   "metadata": {},
   "outputs": [],
   "source": [
    "import json\n",
    "from pprint import pprint\n",
    "import pandas as pd\n",
    "import pdb"
   ]
  },
  {
   "cell_type": "code",
   "execution_count": 2,
   "id": "ab6abd25-5328-4e20-b145-060ad5af4017",
   "metadata": {},
   "outputs": [],
   "source": [
    "from convert_mapping import *"
   ]
  },
  {
   "cell_type": "code",
   "execution_count": null,
   "id": "690a5721-a8d1-4ea0-9e92-0cc6eab803a8",
   "metadata": {},
   "outputs": [],
   "source": [
    "from convert_mapping import f_prefix, f_property, f_colname, f_dtype\n",
    "from convert_mapping import get_unique_bnode_dict, get_value_bnode_relation, get_new_relation\n",
    "from convert_mapping import all_blank_nodes, all_blank_nodes_units, all_blank_nodes_relations,  new_properties"
   ]
  },
  {
   "cell_type": "markdown",
   "id": "930d220d-5fd7-4e44-8e0d-030384f8d583",
   "metadata": {
    "jp-MarkdownHeadingCollapsed": true,
    "tags": []
   },
   "source": [
    "## Exploring wdt examples"
   ]
  },
  {
   "cell_type": "code",
   "execution_count": null,
   "id": "6acfddbe-e74f-4f10-ba26-1fadccbc9269",
   "metadata": {},
   "outputs": [],
   "source": [
    "with open('kb.json', 'r') as f:\n",
    "    data = json.load(f)"
   ]
  },
  {
   "cell_type": "code",
   "execution_count": null,
   "id": "06644325-5cec-4679-a5fc-e030f3c97dde",
   "metadata": {},
   "outputs": [],
   "source": [
    "with open('statements.rj', 'r') as f:\n",
    "    data_ioa = json.load(f)"
   ]
  },
  {
   "cell_type": "code",
   "execution_count": null,
   "id": "d0195821-8292-425d-b266-680a11c105da",
   "metadata": {},
   "outputs": [],
   "source": [
    "type(data)"
   ]
  },
  {
   "cell_type": "code",
   "execution_count": null,
   "id": "3c4f62ae-53dc-4552-b965-9a3def8d5392",
   "metadata": {},
   "outputs": [],
   "source": [
    "data.keys()"
   ]
  },
  {
   "cell_type": "code",
   "execution_count": null,
   "id": "33609178-4fc1-43ca-b772-139efaa29e22",
   "metadata": {},
   "outputs": [],
   "source": [
    "len(data['concepts'])"
   ]
  },
  {
   "cell_type": "code",
   "execution_count": null,
   "id": "c692c938-6823-4258-91f5-b5c88d60f260",
   "metadata": {},
   "outputs": [],
   "source": [
    "len(data['entities'])"
   ]
  },
  {
   "cell_type": "code",
   "execution_count": null,
   "id": "b72b2582-3268-49a2-b0fc-4870c342bff3",
   "metadata": {},
   "outputs": [],
   "source": [
    "k"
   ]
  },
  {
   "cell_type": "code",
   "execution_count": null,
   "id": "56278ae8-fc55-4c65-b434-52591daa4532",
   "metadata": {},
   "outputs": [],
   "source": [
    "key_sat = 'Q26540'\n",
    "key_nasa = 'Q23548'\n",
    "key_cosb = 'Q48711'\n",
    "key_orbit = 'Q4130'"
   ]
  },
  {
   "cell_type": "code",
   "execution_count": null,
   "id": "77ed199a-ac57-434c-b0eb-3908b8ef4dcf",
   "metadata": {
    "scrolled": true,
    "tags": []
   },
   "outputs": [],
   "source": [
    "pprint(data['entities'][key_nasa])"
   ]
  },
  {
   "cell_type": "code",
   "execution_count": null,
   "id": "8e9d38f6-d2cd-4704-ba05-cd6aab3880e0",
   "metadata": {},
   "outputs": [],
   "source": [
    "len(data_ioa)"
   ]
  },
  {
   "cell_type": "code",
   "execution_count": null,
   "id": "c41933f3-714c-41a8-858c-c0dfbb13b155",
   "metadata": {},
   "outputs": [],
   "source": [
    "for i, k in enumerate(data_ioa):\n",
    "    if i<1000:\n",
    "        continue\n",
    "    print(k)\n",
    "    break"
   ]
  },
  {
   "cell_type": "code",
   "execution_count": null,
   "id": "d2ad6127-2920-42ef-a8d5-6b7f537a4ba8",
   "metadata": {},
   "outputs": [],
   "source": [
    "len(data_ioa['http://ioa-graph/resource/entity632'])"
   ]
  },
  {
   "cell_type": "code",
   "execution_count": null,
   "id": "8499a047-4cc2-4f17-a83d-62962bb2a1fd",
   "metadata": {},
   "outputs": [],
   "source": [
    "pprint(data_ioa['http://ioa-graph/resource/entity632'])"
   ]
  },
  {
   "cell_type": "code",
   "execution_count": null,
   "id": "31727b24-072b-44fd-b8b4-4d459f2e100e",
   "metadata": {},
   "outputs": [],
   "source": [
    "with open('train.json', 'r') as f:\n",
    "    data = json.load(f)"
   ]
  },
  {
   "cell_type": "code",
   "execution_count": null,
   "id": "18970886-7d10-4199-b1a8-d4a4165d2cfc",
   "metadata": {},
   "outputs": [],
   "source": [
    "data[0]"
   ]
  },
  {
   "cell_type": "code",
   "execution_count": null,
   "id": "aee27faf-90cf-4311-a768-2d2e234d70d4",
   "metadata": {},
   "outputs": [],
   "source": [
    "train_df = pd.DataFrame(data[:500], columns=['question', 'sparql'])\n",
    "train_df.to_csv('train_sparql.csv')"
   ]
  },
  {
   "cell_type": "code",
   "execution_count": null,
   "id": "fc5d001c-33f2-4458-8d5c-bfc5040d75da",
   "metadata": {},
   "outputs": [],
   "source": [
    "pprint(data[14]['question'])"
   ]
  },
  {
   "cell_type": "code",
   "execution_count": null,
   "id": "c8d114b9-f315-4e4a-b5b3-df7188f34c7f",
   "metadata": {},
   "outputs": [],
   "source": [
    "pprint(data[14]['sparql'])"
   ]
  },
  {
   "cell_type": "markdown",
   "id": "85909807-ecdf-4c9d-bc83-73291b3d9553",
   "metadata": {},
   "source": [
    "## All new object mappings"
   ]
  },
  {
   "cell_type": "markdown",
   "id": "2dfaa382-c878-42c1-a813-6849baf152d9",
   "metadata": {
    "jp-MarkdownHeadingCollapsed": true,
    "tags": []
   },
   "source": [
    "### Objects"
   ]
  },
  {
   "cell_type": "code",
   "execution_count": 3,
   "id": "a3a3e42d-dd69-45b7-a05a-5fd7ec24e615",
   "metadata": {},
   "outputs": [
    {
     "data": {
      "text/plain": [
       "18"
      ]
     },
     "execution_count": 3,
     "metadata": {},
     "output_type": "execute_result"
    }
   ],
   "source": [
    "tabname = 'objects'\n",
    "fname_load = f'AllMappingsJson/mapping-{tabname}.json'\n",
    "fname_save = f'NewMappings/mapping-{tabname}-update.json'\n",
    "\n",
    "with open(fname_load, 'r') as f:\n",
    "    data_map = json.load(f)\n",
    "\n",
    "data_prop = data_map['subjectMappings'][0]['propertyMappings']\n",
    "len(data_prop)"
   ]
  },
  {
   "cell_type": "code",
   "execution_count": 4,
   "id": "3977c255-00e6-489b-af69-98f76a8d4cd2",
   "metadata": {},
   "outputs": [
    {
     "name": "stdout",
     "output_type": "stream",
     "text": [
      "{'property': {'transformation': {'expression': 'ioa', 'language': 'prefix'},\n",
      "              'valueSource': {'constant': 'Name', 'source': 'constant'}},\n",
      " 'values': [{'valueSource': {'columnName': 'name', 'source': 'column'},\n",
      "             'valueType': {'datatype': {'transformation': {'expression': 'xsd',\n",
      "                                                           'language': 'prefix'},\n",
      "                                        'valueSource': {'constant': 'string',\n",
      "                                                        'source': 'constant'}},\n",
      "                           'type': 'datatype_literal'}}]}\n"
     ]
    }
   ],
   "source": [
    "pprint(data_prop[0])"
   ]
  },
  {
   "cell_type": "code",
   "execution_count": 5,
   "id": "e5846554-9f29-4c85-8d14-949206717c41",
   "metadata": {},
   "outputs": [
    {
     "name": "stdout",
     "output_type": "stream",
     "text": [
      "['Name',\n",
      " 'Width',\n",
      " 'Mass',\n",
      " 'Height',\n",
      " 'label',\n",
      " 'Shape',\n",
      " 'MeanCrossSection',\n",
      " 'MaxCrossSection',\n",
      " 'CosparID',\n",
      " 'Depth',\n",
      " 'Satno',\n",
      " 'Diameter',\n",
      " 'Span',\n",
      " 'MinCrossSection',\n",
      " 'VimpelID',\n",
      " 'hasOperator',\n",
      " 'hasState',\n",
      " 'DiscosID']\n"
     ]
    }
   ],
   "source": [
    "pre_all = []\n",
    "prop_all = []\n",
    "for p in data_prop:\n",
    "    pre_all.append(f_prefix(p))\n",
    "    prop_all.append(f_property(p))\n",
    "pprint(prop_all)"
   ]
  },
  {
   "cell_type": "code",
   "execution_count": 6,
   "id": "4d49e95c-f19b-4260-9a52-0668093d264b",
   "metadata": {},
   "outputs": [],
   "source": [
    "prop_transform = {\n",
    "    'Width': 'width',\n",
    "    'Mass': 'mass',\n",
    "    'Height': 'height',\n",
    "    'Shape': 'shape',\n",
    "    'AvgCrossSection': 'average_cross_section',\n",
    "    'MaxCrossSection': 'max_cross_section',\n",
    "    'CosparID': 'cospar_id',\n",
    "    'Depth': 'depth',\n",
    "    'Satno': 'satno',\n",
    "    'Diameter': 'diameter',\n",
    "    'Span': 'span',\n",
    "    'MinCrossSection': 'min_cross_section',\n",
    "    'VimpelID': 'vimpel_id',\n",
    "    'DiscosID': 'discos_id'\n",
    "}"
   ]
  },
  {
   "cell_type": "code",
   "execution_count": 7,
   "id": "b89e5382-e1cb-4b72-ba51-d0699eda22fc",
   "metadata": {},
   "outputs": [],
   "source": [
    "unit_transform = {\n",
    "    'Width': 'm',\n",
    "    'Mass': 'kg',\n",
    "    'Height': 'm',\n",
    "    'Shape': None,\n",
    "    'AvgCrossSection': 'm^2',\n",
    "    'MaxCrossSection': 'm^2',\n",
    "    'CosparID': None,\n",
    "    'Depth': 'm',\n",
    "    'Satno': None,\n",
    "    'Diameter': 'm',\n",
    "    'Span': 'm',\n",
    "    'MinCrossSection': 'm^2',\n",
    "    'VimpelID': None,\n",
    "    'DiscosID': None\n",
    "}"
   ]
  },
  {
   "cell_type": "code",
   "execution_count": 8,
   "id": "7a28a55e-3373-4676-9779-d9465e14b7b5",
   "metadata": {},
   "outputs": [],
   "source": [
    "rel_transform = {\n",
    "    'hasOperator': {'name':'operator', 'direction':'forward', 'qual':None},\n",
    "    'hasState': {'name':'state', 'direction': 'forward', 'qual':None},\n",
    "}"
   ]
  },
  {
   "cell_type": "code",
   "execution_count": 9,
   "id": "3241b985-541c-4dd2-b449-6363b08faf33",
   "metadata": {},
   "outputs": [],
   "source": [
    "blank_nodes = all_blank_nodes_units(data_prop,prop_transform,unit_transform)\n",
    "rel_nodes = all_blank_nodes_relations(data_prop,rel_transform)\n",
    "new_map = new_properties(blank_nodes, fname_load, rel_nodes, prop_rm=[k for k in rel_transform], pred_name=True)"
   ]
  },
  {
   "cell_type": "code",
   "execution_count": 10,
   "id": "853119bc-3b7e-488d-af22-2f66a8c53fb9",
   "metadata": {},
   "outputs": [],
   "source": [
    "with open(fname_save, 'w') as f:\n",
    "    json.dump(new_map, f)"
   ]
  },
  {
   "cell_type": "markdown",
   "id": "80a64c72-88f9-418f-afc4-214fe75d9377",
   "metadata": {
    "jp-MarkdownHeadingCollapsed": true,
    "tags": []
   },
   "source": [
    "### Initial Orbits"
   ]
  },
  {
   "cell_type": "code",
   "execution_count": 3,
   "id": "c157a691-05ab-4a2f-93fc-4a11fd8a3c7c",
   "metadata": {},
   "outputs": [
    {
     "data": {
      "text/plain": [
       "11"
      ]
     },
     "execution_count": 3,
     "metadata": {},
     "output_type": "execute_result"
    }
   ],
   "source": [
    "tabname = 'init-orbit'\n",
    "fname_load = f'AllMappingsJson/mapping-{tabname}.json'\n",
    "fname_save = f'NewMappings/mapping-{tabname}-update.json'\n",
    "\n",
    "with open(fname_load, 'r') as f:\n",
    "    data_map = json.load(f)\n",
    "\n",
    "data_prop = data_map['subjectMappings'][0]['propertyMappings']\n",
    "len(data_prop)"
   ]
  },
  {
   "cell_type": "code",
   "execution_count": 4,
   "id": "a6e51120-9b24-4115-a06f-39bd0905ca3c",
   "metadata": {},
   "outputs": [
    {
     "name": "stdout",
     "output_type": "stream",
     "text": [
      "{'property': {'transformation': {'expression': 'ioa', 'language': 'prefix'},\n",
      "              'valueSource': {'constant': 'ArgOfPeriapsis',\n",
      "                              'source': 'constant'}},\n",
      " 'values': [{'valueSource': {'columnName': 'aPer', 'source': 'column'},\n",
      "             'valueType': {'datatype': {'transformation': {'expression': 'xsd',\n",
      "                                                           'language': 'prefix'},\n",
      "                                        'valueSource': {'constant': 'float',\n",
      "                                                        'source': 'constant'}},\n",
      "                           'type': 'datatype_literal'}}]}\n"
     ]
    }
   ],
   "source": [
    "pprint(data_prop[3])"
   ]
  },
  {
   "cell_type": "code",
   "execution_count": 5,
   "id": "48ea3395-f00c-48b8-aed5-77fb2293c0c8",
   "metadata": {},
   "outputs": [
    {
     "name": "stdout",
     "output_type": "stream",
     "text": [
      "['Inclination',\n",
      " 'RAAN',\n",
      " 'MeanAnomaly',\n",
      " 'ArgOfPeriapsis',\n",
      " 'hasFrame',\n",
      " 'Eccentricity',\n",
      " 'SemimajorAxis',\n",
      " 'Epoch',\n",
      " 'isInitialOrbitOf',\n",
      " 'HeightofPericentre',\n",
      " 'HeightofApocentre']\n"
     ]
    }
   ],
   "source": [
    "pre_all = []\n",
    "prop_all = []\n",
    "for p in data_prop:\n",
    "    pre_all.append(f_prefix(p))\n",
    "    prop_all.append(f_property(p))\n",
    "pprint(prop_all)"
   ]
  },
  {
   "cell_type": "code",
   "execution_count": 6,
   "id": "2fa1e8ba-7ff7-4ce5-aa3e-009db5e43e01",
   "metadata": {},
   "outputs": [],
   "source": [
    "prop_transform = {\n",
    "    'Inclination': 'inclination',\n",
    "    'RAAN': 'raan',\n",
    "    'MeanAnomaly': 'mean_anomaly',\n",
    "    'ArgOfPeriapsis': 'arg_of_periapsis',\n",
    "    'Eccentricity': 'eccentricity',\n",
    "    'SemimajorAxis': 'semimajor_axis',\n",
    "    'Epoch': 'epoch',\n",
    "    'HeightofPericentre': 'height_of_pericentre',\n",
    "    'HeightofApocentre': 'height_of_centre',\n",
    "}"
   ]
  },
  {
   "cell_type": "code",
   "execution_count": 7,
   "id": "02cc0e02-2c15-4110-b626-2c640dbf2707",
   "metadata": {},
   "outputs": [],
   "source": [
    "unit_transform = {\n",
    "    'Inclination': 'deg',\n",
    "    'RAAN': 'deg',\n",
    "    'MeanAnomaly': 'deg',\n",
    "    'ArgOfPeriapsis': 'deg',\n",
    "    'Eccentricity': None,\n",
    "    'SemimajorAxis': 'km',\n",
    "    'Epoch': None,\n",
    "    'HeightofPericentre': 'm',\n",
    "    'HeightofApocentre': 'm',\n",
    "}"
   ]
  },
  {
   "cell_type": "code",
   "execution_count": null,
   "id": "72a61d4a-386e-4b91-b981-e4bddad15479",
   "metadata": {},
   "outputs": [],
   "source": [
    "#TODO: rel transform"
   ]
  },
  {
   "cell_type": "code",
   "execution_count": 8,
   "id": "7374db14-c7f5-4d81-aa46-49039ce64dbc",
   "metadata": {},
   "outputs": [
    {
     "data": {
      "text/plain": [
       "[{'property': {'transformation': {'expression': 'pred', 'language': 'prefix'},\n",
       "   'valueSource': {'constant': 'instance_of', 'source': 'constant'}},\n",
       "  'values': [{'transformation': {'expression': 'ioa', 'language': 'prefix'},\n",
       "    'valueSource': {'source': 'constant', 'constant': 'InitialOrbit'},\n",
       "    'valueType': {'propertyMappings': [],\n",
       "     'type': 'iri',\n",
       "     'typeMappings': []}}]},\n",
       " {'property': {'transformation': {'expression': 'pred', 'language': 'prefix'},\n",
       "   'valueSource': {'constant': 'instance_of', 'source': 'constant'}},\n",
       "  'values': [{'transformation': {'expression': 'ioa', 'language': 'prefix'},\n",
       "    'valueSource': {'columnName': 'orbitClass', 'source': 'column'},\n",
       "    'valueType': {'propertyMappings': [],\n",
       "     'type': 'iri',\n",
       "     'typeMappings': []}}]}]"
      ]
     },
     "execution_count": 8,
     "metadata": {},
     "output_type": "execute_result"
    }
   ],
   "source": [
    "prop_new = []\n",
    "with open(fname_load, 'r') as f:\n",
    "    data_map_new = json.load(f)\n",
    "for type_map in data_map_new['subjectMappings'][0]['typeMappings']:\n",
    "    prop_new.append( new_type_pred(type_map) )\n",
    "    \n",
    "prop_new"
   ]
  },
  {
   "cell_type": "code",
   "execution_count": 9,
   "id": "d34e510e-6a1c-4e2b-b27f-e9844ac57494",
   "metadata": {},
   "outputs": [],
   "source": [
    "blank_nodes = all_blank_nodes_units(data_prop,prop_transform,unit_transform)\n",
    "new_map = new_properties(blank_nodes, fname_load)"
   ]
  },
  {
   "cell_type": "code",
   "execution_count": 9,
   "id": "156f5031-d7d5-4928-afd2-e044dcff301d",
   "metadata": {},
   "outputs": [],
   "source": [
    "blank_nodes = all_blank_nodes_units(data_prop,prop_transform,unit_transform)\n",
    "rel_nodes = all_blank_nodes_relations(data_prop,rel_transform)\n",
    "new_map = new_properties(blank_nodes, fname_load, rel_nodes, prop_rm=[k for k in rel_transform], pred_name=True)"
   ]
  },
  {
   "cell_type": "code",
   "execution_count": 10,
   "id": "a3df9f22-7c93-4e6a-875e-22d5d05339d7",
   "metadata": {},
   "outputs": [],
   "source": [
    "with open('init-orbit-qual.json', 'r') as f:\n",
    "    data_qual_map = json.load(f)\n",
    "new_map['subjectMappings'].append(data_qual_map['subjectMappings'][1])"
   ]
  },
  {
   "cell_type": "code",
   "execution_count": 11,
   "id": "5c881210-d1e5-4998-b084-342d34c29c31",
   "metadata": {},
   "outputs": [],
   "source": [
    "with open(fname_save, 'w') as f:\n",
    "    json.dump(new_map, f)"
   ]
  },
  {
   "cell_type": "markdown",
   "id": "71ab64bf-0b41-4a38-a340-e7f155863165",
   "metadata": {
    "jp-MarkdownHeadingCollapsed": true,
    "tags": []
   },
   "source": [
    "### Destination Orbits"
   ]
  },
  {
   "cell_type": "code",
   "execution_count": 4,
   "id": "fce024e1-8429-44fe-aaf2-06287401d66f",
   "metadata": {},
   "outputs": [
    {
     "data": {
      "text/plain": [
       "11"
      ]
     },
     "execution_count": 4,
     "metadata": {},
     "output_type": "execute_result"
    }
   ],
   "source": [
    "tabname = 'dest-orbit'\n",
    "fname_load = f'AllMappingsJson/mapping-{tabname}.json'\n",
    "fname_save = f'NewMappings/mapping-{tabname}-update.json'\n",
    "\n",
    "with open(fname_load, 'r') as f:\n",
    "    data_map = json.load(f)\n",
    "\n",
    "data_prop = data_map['subjectMappings'][0]['propertyMappings']\n",
    "len(data_prop)"
   ]
  },
  {
   "cell_type": "code",
   "execution_count": 5,
   "id": "0f1a553c-faaa-49b6-9684-0fc1372fc8b2",
   "metadata": {},
   "outputs": [
    {
     "name": "stdout",
     "output_type": "stream",
     "text": [
      "{'property': {'transformation': {'expression': 'ioa', 'language': 'prefix'},\n",
      "              'valueSource': {'constant': 'ArgOfPeriapsis',\n",
      "                              'source': 'constant'}},\n",
      " 'values': [{'valueSource': {'columnName': 'aPer', 'source': 'column'},\n",
      "             'valueType': {'datatype': {'transformation': {'expression': 'xsd',\n",
      "                                                           'language': 'prefix'},\n",
      "                                        'valueSource': {'constant': 'float',\n",
      "                                                        'source': 'constant'}},\n",
      "                           'type': 'datatype_literal'}}]}\n"
     ]
    }
   ],
   "source": [
    "pprint(data_prop[3])"
   ]
  },
  {
   "cell_type": "code",
   "execution_count": 6,
   "id": "698fa080-4561-491a-9357-1cc3fb22c72c",
   "metadata": {},
   "outputs": [
    {
     "name": "stdout",
     "output_type": "stream",
     "text": [
      "['Inclination',\n",
      " 'RAAN',\n",
      " 'MeanAnomaly',\n",
      " 'ArgOfPeriapsis',\n",
      " 'hasFrame',\n",
      " 'Eccentricity',\n",
      " 'SemimajorAxis',\n",
      " 'Epoch',\n",
      " 'isDestinationOrbitOf',\n",
      " 'HeightofPericentre',\n",
      " 'HeightofApocentre']\n"
     ]
    }
   ],
   "source": [
    "pre_all = []\n",
    "prop_all = []\n",
    "for p in data_prop:\n",
    "    pre_all.append(f_prefix(p))\n",
    "    prop_all.append(f_property(p))\n",
    "pprint(prop_all)"
   ]
  },
  {
   "cell_type": "code",
   "execution_count": 7,
   "id": "55aa088e-ba65-4ce7-b542-aeafce0ea9f1",
   "metadata": {},
   "outputs": [],
   "source": [
    "prop_transform = {\n",
    "    'Inclination': 'inclination',\n",
    "    'RAAN': 'raan',\n",
    "    'MeanAnomaly': 'mean_anomaly',\n",
    "    'ArgOfPeriapsis': 'arg_of_periapsis',\n",
    "    'Eccentricity': 'eccentricity',\n",
    "    'SemimajorAxis': 'semimajor_axis',\n",
    "    'Epoch': 'epoch',\n",
    "    'HeightofPericentre': 'height_of_pericentre',\n",
    "    'HeightofApocentre': 'height_of_centre',\n",
    "}"
   ]
  },
  {
   "cell_type": "code",
   "execution_count": 8,
   "id": "57cf7785-e77c-472b-b1ff-1d22f58da8f7",
   "metadata": {},
   "outputs": [],
   "source": [
    "unit_transform = {\n",
    "    'Inclination': 'deg',\n",
    "    'RAAN': 'deg',\n",
    "    'MeanAnomaly': 'deg',\n",
    "    'ArgOfPeriapsis': 'deg',\n",
    "    'Eccentricity': None,\n",
    "    'SemimajorAxis': 'km',\n",
    "    'Epoch': None,\n",
    "    'HeightofPericentre': 'm',\n",
    "    'HeightofApocentre': 'm',\n",
    "}"
   ]
  },
  {
   "cell_type": "code",
   "execution_count": null,
   "id": "c56e6283-9c09-4b9c-95d4-fdbe97a24ad4",
   "metadata": {},
   "outputs": [],
   "source": [
    "#TODO: rel transform"
   ]
  },
  {
   "cell_type": "code",
   "execution_count": 9,
   "id": "453d74e2-c942-467b-a3a4-98ac98f6c522",
   "metadata": {},
   "outputs": [],
   "source": [
    "blank_nodes = all_blank_nodes_units(data_prop,prop_transform,unit_transform)\n",
    "new_map = new_properties(blank_nodes, fname_load)"
   ]
  },
  {
   "cell_type": "code",
   "execution_count": 10,
   "id": "77abbbb7-c3c7-4e7e-822c-e1ac391f0057",
   "metadata": {},
   "outputs": [],
   "source": [
    "with open(fname_save, 'w') as f:\n",
    "    json.dump(new_map, f)"
   ]
  },
  {
   "cell_type": "markdown",
   "id": "f468ddb5-bbee-4b0c-8eab-172732c8c6a7",
   "metadata": {
    "jp-MarkdownHeadingCollapsed": true,
    "tags": []
   },
   "source": [
    "### Launches"
   ]
  },
  {
   "cell_type": "code",
   "execution_count": 3,
   "id": "7d68da0c-6098-406b-a926-4cc86c099776",
   "metadata": {},
   "outputs": [
    {
     "data": {
      "text/plain": [
       "8"
      ]
     },
     "execution_count": 3,
     "metadata": {},
     "output_type": "execute_result"
    }
   ],
   "source": [
    "tabname = 'launch'\n",
    "fname_load = f'AllMappingsJson/mapping-{tabname}.json'\n",
    "fname_save = f'NewMappings/mapping-{tabname}-update.json'\n",
    "\n",
    "with open(fname_load, 'r') as f:\n",
    "    data_map = json.load(f)\n",
    "\n",
    "data_prop = data_map['subjectMappings'][0]['propertyMappings']\n",
    "len(data_prop)"
   ]
  },
  {
   "cell_type": "code",
   "execution_count": 4,
   "id": "462e2805-2e00-41db-8e3c-107deaa6c977",
   "metadata": {},
   "outputs": [
    {
     "name": "stdout",
     "output_type": "stream",
     "text": [
      "{'property': {'transformation': {'expression': 'ioa', 'language': 'prefix'},\n",
      "              'valueSource': {'constant': 'Failure', 'source': 'constant'}},\n",
      " 'values': [{'valueSource': {'columnName': 'failure', 'source': 'column'},\n",
      "             'valueType': {'datatype': {'transformation': {'expression': 'xsd',\n",
      "                                                           'language': 'prefix'},\n",
      "                                        'valueSource': {'constant': 'boolean',\n",
      "                                                        'source': 'constant'}},\n",
      "                           'type': 'datatype_literal'}}]}\n"
     ]
    }
   ],
   "source": [
    "pprint(data_prop[3])"
   ]
  },
  {
   "cell_type": "code",
   "execution_count": 5,
   "id": "7990e759-fff5-436e-987f-0718e5218f5a",
   "metadata": {},
   "outputs": [],
   "source": [
    "pre_all = []\n",
    "prop_all = []\n",
    "for p in data_prop:\n",
    "    pre_all.append(f_prefix(p))\n",
    "    prop_all.append(f_property(p))"
   ]
  },
  {
   "cell_type": "code",
   "execution_count": 6,
   "id": "4b5e07fd-ffff-4a65-98b9-a1a2d49f0abf",
   "metadata": {},
   "outputs": [
    {
     "data": {
      "text/plain": [
       "['CosparLaunchNo',\n",
       " 'FlightNo',\n",
       " 'Epoch',\n",
       " 'Failure',\n",
       " 'hasEntity',\n",
       " 'isLaunchOf',\n",
       " 'hasLaunchSite',\n",
       " 'hasLaunchVehicle']"
      ]
     },
     "execution_count": 6,
     "metadata": {},
     "output_type": "execute_result"
    }
   ],
   "source": [
    "prop_all"
   ]
  },
  {
   "cell_type": "code",
   "execution_count": 7,
   "id": "9ef35f3b-f409-4861-b3fd-24b0ea13297b",
   "metadata": {},
   "outputs": [],
   "source": [
    "prop_transform = {\n",
    "    'CosparLaunchNo': 'cospar_launch_number',\n",
    "    'FlightNo': 'flight_number',\n",
    "    'Epoch': 'epoch',\n",
    "    'Failure': 'failure',\n",
    "}\n",
    "unit_transform = {}\n",
    "rel_transform = {\n",
    "    'hasEntity': {'name':'entity', 'direction':'forward', 'qual':None},\n",
    "    'hasLaunchSite': {'name':'launch_site', 'direction': 'forward', 'qual':None},\n",
    "    'hasLaunchVehicle': {'name':'launch_vehicle', 'direction':'forward', 'qual':None},\n",
    "    'isLaunchOf': {'name':'launch',\n",
    "                   'direction':'backward',\n",
    "                   'qual':{'name':['date'],'column':['epoch'],'prefix':['pred'],'dtype':['dateTime'],\n",
    "                           'grel':\"cells['Column'].value + 'date'\"}}\n",
    "}"
   ]
  },
  {
   "cell_type": "code",
   "execution_count": null,
   "id": "e6961d3c-28b2-4c2b-92c2-02e1bafedb73",
   "metadata": {},
   "outputs": [],
   "source": [
    "#TODO: rerun with names etc"
   ]
  },
  {
   "cell_type": "code",
   "execution_count": 11,
   "id": "7a5f9b3b-6827-4a52-b698-98e89a474b47",
   "metadata": {},
   "outputs": [],
   "source": [
    "blank_nodes = all_blank_nodes_units(data_prop,prop_transform,unit_transform)\n",
    "rel_nodes = all_blank_nodes_relations(data_prop,rel_transform)\n",
    "new_map = new_properties(blank_nodes, fname_load, rel_nodes, prop_rm=[k for k in rel_transform])"
   ]
  },
  {
   "cell_type": "code",
   "execution_count": 15,
   "id": "4360c9ba-9454-4b98-a5dc-2aa14d66b0b7",
   "metadata": {},
   "outputs": [],
   "source": [
    "with open(fname_save, 'w') as f:\n",
    "    json.dump(new_map, f)"
   ]
  },
  {
   "cell_type": "markdown",
   "id": "a87c0a6f-0713-4d70-a678-7b3c07a0d0e5",
   "metadata": {
    "jp-MarkdownHeadingCollapsed": true,
    "tags": []
   },
   "source": [
    "### Launch Vehicles"
   ]
  },
  {
   "cell_type": "code",
   "execution_count": 4,
   "id": "ee7dfbd7-53e2-4654-9038-bf643029f284",
   "metadata": {},
   "outputs": [
    {
     "data": {
      "text/plain": [
       "20"
      ]
     },
     "execution_count": 4,
     "metadata": {},
     "output_type": "execute_result"
    }
   ],
   "source": [
    "tabname = 'vehicle'\n",
    "fname_load = f'AllMappingsJson/mapping-{tabname}.json'\n",
    "fname_save = f'NewMappings/mapping-{tabname}-update.json'\n",
    "\n",
    "with open(fname_load, 'r') as f:\n",
    "    data_map = json.load(f)\n",
    "\n",
    "data_prop = data_map['subjectMappings'][0]['propertyMappings']\n",
    "len(data_prop)"
   ]
  },
  {
   "cell_type": "code",
   "execution_count": 5,
   "id": "3f930410-e7ed-4144-9751-e9e4eea10f5d",
   "metadata": {},
   "outputs": [
    {
     "name": "stdout",
     "output_type": "stream",
     "text": [
      "{'property': {'transformation': {'expression': 'ioa', 'language': 'prefix'},\n",
      "              'valueSource': {'constant': 'LeoCapacity', 'source': 'constant'}},\n",
      " 'values': [{'valueSource': {'columnName': 'leoCapacity', 'source': 'column'},\n",
      "             'valueType': {'datatype': {'transformation': {'expression': 'xsd',\n",
      "                                                           'language': 'prefix'},\n",
      "                                        'valueSource': {'constant': 'float',\n",
      "                                                        'source': 'constant'}},\n",
      "                           'type': 'datatype_literal'}}]}\n"
     ]
    }
   ],
   "source": [
    "pprint(data_prop[3])"
   ]
  },
  {
   "cell_type": "code",
   "execution_count": 6,
   "id": "ae85c115-6cce-4959-a586-f5756061e258",
   "metadata": {},
   "outputs": [],
   "source": [
    "pre_all = []\n",
    "prop_all = []\n",
    "for p in data_prop:\n",
    "    pre_all.append(f_prefix(p))\n",
    "    prop_all.append(f_property(p))"
   ]
  },
  {
   "cell_type": "code",
   "execution_count": 7,
   "id": "04119250-aa45-4ed1-94dc-f661dcb14498",
   "metadata": {},
   "outputs": [
    {
     "data": {
      "text/plain": [
       "['Name',\n",
       " 'label',\n",
       " 'GeoCapacity',\n",
       " 'LeoCapacity',\n",
       " 'Depth',\n",
       " 'SsoCapacity',\n",
       " 'Span',\n",
       " 'Height',\n",
       " 'EscCapacity',\n",
       " 'GtoCapacity',\n",
       " 'NumStages',\n",
       " 'SuccessfulLaunches',\n",
       " 'FailedLaunches',\n",
       " 'Diameter',\n",
       " 'ThrustLevel',\n",
       " 'Width',\n",
       " 'Mass',\n",
       " 'hasLaunchVehicleEngine',\n",
       " 'hasLaunchVehicleFamily',\n",
       " 'hasLaunchVehicleStage']"
      ]
     },
     "execution_count": 7,
     "metadata": {},
     "output_type": "execute_result"
    }
   ],
   "source": [
    "prop_all"
   ]
  },
  {
   "cell_type": "code",
   "execution_count": 8,
   "id": "ea1b8958-3ac8-4ec1-9bbb-f353e0ef1587",
   "metadata": {},
   "outputs": [],
   "source": [
    "prop_transform = {\n",
    "    'GeoCapacity': 'geo_capacity',\n",
    "    'LeoCapacity': 'leo_capacity',\n",
    "    'Depth': 'depth',\n",
    "    'SsoCapacity': 'sso_capacity',\n",
    "    'Span': 'span',\n",
    "    'Height': 'height',\n",
    "    'EscCapacity': 'esc_capacity',\n",
    "    'GtoCapacity': 'gto_capacity',\n",
    "    'NumStages': 'number_of_stages',\n",
    "    'SuccessfulLaunches': 'successful_launches',\n",
    "    'FailedLaunches': 'failed_launches',\n",
    "    'Diameter': 'diameter',\n",
    "    'ThrustLevel': 'thrust_level',\n",
    "    'Width': 'width',\n",
    "    'Mass': 'mass',\n",
    "}\n",
    "unit_transform = {\n",
    "    'GeoCapacity': 'kg',\n",
    "    'LeoCapacity': 'kg',\n",
    "    'Depth': 'm',\n",
    "    'SsoCapacity': 'kg',\n",
    "    'Span': 'm',\n",
    "    'Height': 'm',\n",
    "    'EscCapacity': 'kg',\n",
    "    'GtoCapacity': 'kg',\n",
    "    'NumStages': '1',\n",
    "    'SuccessfulLaunches': '1',\n",
    "    'FailedLaunches': '1',\n",
    "    'Diameter': 'm',\n",
    "    'ThrustLevel': 'kN',\n",
    "    'Width': 'm',\n",
    "    'Mass': 'kg'\n",
    "}"
   ]
  },
  {
   "cell_type": "code",
   "execution_count": null,
   "id": "9b276a57-f505-4825-9ac8-11d5abade9bc",
   "metadata": {},
   "outputs": [],
   "source": [
    "#TODO: rel transform"
   ]
  },
  {
   "cell_type": "code",
   "execution_count": 9,
   "id": "28be2f55-e761-4fd7-9f3b-9b1ef032b4b5",
   "metadata": {},
   "outputs": [],
   "source": [
    "blank_nodes = all_blank_nodes_units(data_prop,prop_transform,unit_transform)\n",
    "new_map = new_properties(blank_nodes, fname_load)"
   ]
  },
  {
   "cell_type": "code",
   "execution_count": 10,
   "id": "3076e987-5430-4db2-9d57-bd1f3f515133",
   "metadata": {},
   "outputs": [],
   "source": [
    "with open(fname_save, 'w') as f:\n",
    "    json.dump(new_map, f)"
   ]
  },
  {
   "cell_type": "markdown",
   "id": "758f1a6b-d9f7-4f53-9874-ddfe931fc835",
   "metadata": {
    "tags": []
   },
   "source": [
    "## Test JSON"
   ]
  },
  {
   "cell_type": "code",
   "execution_count": 4,
   "id": "382ac172-70f7-4c5d-8a70-f92f89c3cbd5",
   "metadata": {},
   "outputs": [],
   "source": [
    "with open('statements.jsonld', 'r') as f:\n",
    "    data_json = json.load(f)"
   ]
  },
  {
   "cell_type": "code",
   "execution_count": 12,
   "id": "4039cdc1-1566-482e-90e1-00ffaacc007f",
   "metadata": {},
   "outputs": [
    {
     "data": {
      "text/plain": [
       "dict_keys(['@graph', '@id'])"
      ]
     },
     "execution_count": 12,
     "metadata": {},
     "output_type": "execute_result"
    }
   ],
   "source": [
    "data_json[0].keys()"
   ]
  },
  {
   "cell_type": "code",
   "execution_count": 13,
   "id": "a2fd0ac6-2831-4828-a34d-4deb26e1b065",
   "metadata": {},
   "outputs": [
    {
     "data": {
      "text/plain": [
       "'http://ioa-graph/resource/'"
      ]
     },
     "execution_count": 13,
     "metadata": {},
     "output_type": "execute_result"
    }
   ],
   "source": [
    "data_json[0]['@id']"
   ]
  },
  {
   "cell_type": "code",
   "execution_count": 9,
   "id": "f6ba7438-40a1-4de1-bc1f-71be093d83df",
   "metadata": {},
   "outputs": [
    {
     "data": {
      "text/plain": [
       "5"
      ]
     },
     "execution_count": 9,
     "metadata": {},
     "output_type": "execute_result"
    }
   ],
   "source": [
    "len(data_json[0]['@graph'][0])"
   ]
  },
  {
   "cell_type": "code",
   "execution_count": 12,
   "id": "4bf18055-d36a-405f-bb45-a97947725542",
   "metadata": {},
   "outputs": [
    {
     "data": {
      "text/plain": [
       "{'@id': '_:genid-baddf7bedecc4e65991744bb4e98c77b-launch1000date',\n",
       " 'http://www.semanticweb.org/esa-ioa/ontologies/2022/ioa-wiki-ontology#pred_date': [{'@value': '1974-06-06T06:20:00Z'}],\n",
       " 'http://www.semanticweb.org/esa-ioa/ontologies/2022/ioa-wiki-ontology#pred_fact_h': [{'@id': 'http://ioa-wiki-graph/resource/obj7326'},\n",
       "  {'@id': 'http://ioa-wiki-graph/resource/obj7327'}],\n",
       " 'http://www.semanticweb.org/esa-ioa/ontologies/2022/ioa-wiki-ontology#pred_fact_r': [{'@id': 'http://www.semanticweb.org/esa-ioa/ontologies/2022/ioa-wiki-ontology#launch'}],\n",
       " 'http://www.semanticweb.org/esa-ioa/ontologies/2022/ioa-wiki-ontology#pred_fact_t': [{'@id': 'http://ioa-wiki-graph/resource/launch1000'}]}"
      ]
     },
     "execution_count": 12,
     "metadata": {},
     "output_type": "execute_result"
    }
   ],
   "source": [
    "data_json[0]['@graph'][0]"
   ]
  },
  {
   "cell_type": "code",
   "execution_count": null,
   "id": "3d91e465-5385-4cdf-b140-8e5887773e74",
   "metadata": {},
   "outputs": [],
   "source": []
  }
 ],
 "metadata": {
  "kernelspec": {
   "display_name": "Python 3 (ipykernel)",
   "language": "python",
   "name": "python3"
  },
  "language_info": {
   "codemirror_mode": {
    "name": "ipython",
    "version": 3
   },
   "file_extension": ".py",
   "mimetype": "text/x-python",
   "name": "python",
   "nbconvert_exporter": "python",
   "pygments_lexer": "ipython3",
   "version": "3.7.13"
  }
 },
 "nbformat": 4,
 "nbformat_minor": 5
}
