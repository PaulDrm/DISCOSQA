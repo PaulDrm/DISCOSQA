{
 "cells": [
  {
   "cell_type": "markdown",
   "id": "d4af66cc-d7f1-4ba8-8ae0-48318e7cfb03",
   "metadata": {},
   "source": [
    "# Converting JSON Mapping"
   ]
  },
  {
   "cell_type": "code",
   "execution_count": 1,
   "id": "f3676f5f-4f0b-402d-86f4-e702fb587063",
   "metadata": {},
   "outputs": [],
   "source": [
    "import json\n",
    "from pprint import pprint\n",
    "import pdb"
   ]
  },
  {
   "cell_type": "markdown",
   "id": "930d220d-5fd7-4e44-8e0d-030384f8d583",
   "metadata": {
    "jp-MarkdownHeadingCollapsed": true,
    "tags": []
   },
   "source": [
    "## Exploring wdt examples"
   ]
  },
  {
   "cell_type": "code",
   "execution_count": 2,
   "id": "6acfddbe-e74f-4f10-ba26-1fadccbc9269",
   "metadata": {},
   "outputs": [],
   "source": [
    "with open('kb.json', 'r') as f:\n",
    "    data = json.load(f)"
   ]
  },
  {
   "cell_type": "code",
   "execution_count": 3,
   "id": "06644325-5cec-4679-a5fc-e030f3c97dde",
   "metadata": {},
   "outputs": [],
   "source": [
    "with open('statements.rj', 'r') as f:\n",
    "    data_ioa = json.load(f)"
   ]
  },
  {
   "cell_type": "code",
   "execution_count": 4,
   "id": "d0195821-8292-425d-b266-680a11c105da",
   "metadata": {},
   "outputs": [
    {
     "data": {
      "text/plain": [
       "dict"
      ]
     },
     "execution_count": 4,
     "metadata": {},
     "output_type": "execute_result"
    }
   ],
   "source": [
    "type(data)"
   ]
  },
  {
   "cell_type": "code",
   "execution_count": 5,
   "id": "3c4f62ae-53dc-4552-b965-9a3def8d5392",
   "metadata": {},
   "outputs": [
    {
     "data": {
      "text/plain": [
       "dict_keys(['concepts', 'entities'])"
      ]
     },
     "execution_count": 5,
     "metadata": {},
     "output_type": "execute_result"
    }
   ],
   "source": [
    "data.keys()"
   ]
  },
  {
   "cell_type": "code",
   "execution_count": 7,
   "id": "33609178-4fc1-43ca-b772-139efaa29e22",
   "metadata": {},
   "outputs": [
    {
     "data": {
      "text/plain": [
       "794"
      ]
     },
     "execution_count": 7,
     "metadata": {},
     "output_type": "execute_result"
    }
   ],
   "source": [
    "len(data['concepts'])"
   ]
  },
  {
   "cell_type": "code",
   "execution_count": 8,
   "id": "c692c938-6823-4258-91f5-b5c88d60f260",
   "metadata": {},
   "outputs": [
    {
     "data": {
      "text/plain": [
       "16960"
      ]
     },
     "execution_count": 8,
     "metadata": {},
     "output_type": "execute_result"
    }
   ],
   "source": [
    "len(data['entities'])"
   ]
  },
  {
   "cell_type": "code",
   "execution_count": 13,
   "id": "b72b2582-3268-49a2-b0fc-4870c342bff3",
   "metadata": {},
   "outputs": [
    {
     "data": {
      "text/plain": [
       "'Q786'"
      ]
     },
     "execution_count": 13,
     "metadata": {},
     "output_type": "execute_result"
    }
   ],
   "source": [
    "k"
   ]
  },
  {
   "cell_type": "code",
   "execution_count": 15,
   "id": "56278ae8-fc55-4c65-b434-52591daa4532",
   "metadata": {},
   "outputs": [],
   "source": [
    "key_sat = 'Q26540'\n",
    "key_nasa = 'Q23548'\n",
    "key_cosb = 'Q48711'\n",
    "key_orbit = 'Q4130'"
   ]
  },
  {
   "cell_type": "code",
   "execution_count": 17,
   "id": "77ed199a-ac57-434c-b0eb-3908b8ef4dcf",
   "metadata": {
    "scrolled": true,
    "tags": []
   },
   "outputs": [
    {
     "name": "stdout",
     "output_type": "stream",
     "text": [
      "{'attributes': [{'key': 'IPv4 routing prefix',\n",
      "                 'qualifiers': {'start time': [{'type': 'date',\n",
      "                                                'value': '1986/9/24'}]},\n",
      "                 'value': {'type': 'string', 'value': '128.159.0.0/16'}},\n",
      "                {'key': 'IPv4 routing prefix',\n",
      "                 'qualifiers': {'start time': [{'type': 'date',\n",
      "                                                'value': '1986/9/24'}]},\n",
      "                 'value': {'type': 'string', 'value': '128.157.0.0/16'}},\n",
      "                {'key': 'IPv4 routing prefix',\n",
      "                 'qualifiers': {},\n",
      "                 'value': {'type': 'string', 'value': '128.156.0.0/15'}},\n",
      "                {'key': 'IPv4 routing prefix',\n",
      "                 'qualifiers': {},\n",
      "                 'value': {'type': 'string', 'value': '128.156.0.0/14'}},\n",
      "                {'key': 'short name',\n",
      "                 'qualifiers': {},\n",
      "                 'value': {'type': 'string', 'value': 'NASA'}},\n",
      "                {'key': 'short name',\n",
      "                 'qualifiers': {},\n",
      "                 'value': {'type': 'string', 'value': 'ANAE'}},\n",
      "                {'key': 'ISNI',\n",
      "                 'qualifiers': {},\n",
      "                 'value': {'type': 'string', 'value': '0000 0001 1456 7559'}},\n",
      "                {'key': 'budget',\n",
      "                 'qualifiers': {'statement is subject of': [{'type': 'string',\n",
      "                                                             'value': 'Budget '\n",
      "                                                                      'of '\n",
      "                                                                      'NASA'}]},\n",
      "                 'value': {'type': 'quantity',\n",
      "                           'unit': 'United States dollar',\n",
      "                           'value': 20700000000}},\n",
      "                {'key': 'budget',\n",
      "                 'qualifiers': {'criterion used': [{'type': 'string',\n",
      "                                                    'value': 'fiscal year'}],\n",
      "                                'point in time': [{'type': 'year',\n",
      "                                                   'value': 2011}]},\n",
      "                 'value': {'type': 'quantity',\n",
      "                           'unit': 'United States dollar',\n",
      "                           'value': 18724000000}},\n",
      "                {'key': 'official website',\n",
      "                 'qualifiers': {'language of work or name': [{'type': 'string',\n",
      "                                                              'value': 'English'}]},\n",
      "                 'value': {'type': 'string', 'value': 'https://www.nasa.gov/'}},\n",
      "                {'key': 'subreddit',\n",
      "                 'qualifiers': {'language of work or name': [{'type': 'string',\n",
      "                                                              'value': 'English'}],\n",
      "                                'number of subscribers': [{'type': 'quantity',\n",
      "                                                           'unit': '1',\n",
      "                                                           'value': 272199}]},\n",
      "                 'value': {'type': 'string', 'value': 'nasa'}},\n",
      "                {'key': 'employees',\n",
      "                 'qualifiers': {'point in time': [{'type': 'date',\n",
      "                                                   'value': '2011/1/1'}]},\n",
      "                 'value': {'type': 'quantity', 'unit': '1', 'value': 18100}},\n",
      "                {'key': 'employees',\n",
      "                 'qualifiers': {'point in time': [{'type': 'year',\n",
      "                                                   'value': 2018}]},\n",
      "                 'value': {'type': 'quantity', 'unit': '1', 'value': 17336}},\n",
      "                {'key': 'Snapchat username',\n",
      "                 'qualifiers': {},\n",
      "                 'value': {'type': 'string', 'value': 'nasa'}},\n",
      "                {'key': 'GitHub username',\n",
      "                 'qualifiers': {},\n",
      "                 'value': {'type': 'string', 'value': 'nasa'}},\n",
      "                {'key': 'inception',\n",
      "                 'qualifiers': {},\n",
      "                 'value': {'type': 'date', 'value': '1958/7/29'}},\n",
      "                {'key': 'Giphy username',\n",
      "                 'qualifiers': {},\n",
      "                 'value': {'type': 'string', 'value': 'nasa'}},\n",
      "                {'key': 'SlideShare username',\n",
      "                 'qualifiers': {},\n",
      "                 'value': {'type': 'string', 'value': 'NASA'}},\n",
      "                {'key': 'Instagram username',\n",
      "                 'qualifiers': {},\n",
      "                 'value': {'type': 'string', 'value': 'nasa'}},\n",
      "                {'key': 'Twitter username',\n",
      "                 'qualifiers': {'number of subscribers': [{'type': 'quantity',\n",
      "                                                           'unit': '1',\n",
      "                                                           'value': 29522939}],\n",
      "                                'start time': [{'type': 'date',\n",
      "                                                'value': '2007/12/19'}]},\n",
      "                 'value': {'type': 'string', 'value': 'NASA'}},\n",
      "                {'key': 'motto text',\n",
      "                 'qualifiers': {},\n",
      "                 'value': {'type': 'string',\n",
      "                           'value': 'For the Benefit of All'}},\n",
      "                {'key': 'official blog',\n",
      "                 'qualifiers': {'language of work or name': [{'type': 'string',\n",
      "                                                              'value': 'English'}]},\n",
      "                 'value': {'type': 'string',\n",
      "                           'value': 'https://blogs.nasa.gov/'}},\n",
      "                {'key': 'official name',\n",
      "                 'qualifiers': {},\n",
      "                 'value': {'type': 'string',\n",
      "                           'value': 'National Aeronautics and Space '\n",
      "                                    'Administration'}},\n",
      "                {'key': 'official name',\n",
      "                 'qualifiers': {},\n",
      "                 'value': {'type': 'string',\n",
      "                           'value': 'Administración Nacional de la Aeronáutica '\n",
      "                                    'y del Espacio'}},\n",
      "                {'key': 'Pinterest username',\n",
      "                 'qualifiers': {},\n",
      "                 'value': {'type': 'string', 'value': 'nasa'}},\n",
      "                {'key': 'Google Doodle',\n",
      "                 'qualifiers': {},\n",
      "                 'value': {'type': 'string',\n",
      "                           'value': '50th-anniversary-of-nasa'}}],\n",
      " 'instanceOf': ['Q43229'],\n",
      " 'name': 'National Aeronautics and Space Administration',\n",
      " 'relations': [{'direction': 'forward',\n",
      "                'object': 'Q9916',\n",
      "                'predicate': 'founded by',\n",
      "                'qualifiers': {}},\n",
      "               {'direction': 'forward',\n",
      "                'object': 'Q30',\n",
      "                'predicate': 'country',\n",
      "                'qualifiers': {}},\n",
      "               {'direction': 'forward',\n",
      "                'object': 'Q61',\n",
      "                'predicate': 'headquarters location',\n",
      "                'qualifiers': {'location': [{'type': 'string',\n",
      "                                             'value': 'NASA Headquarters'}]}},\n",
      "               {'direction': 'backward',\n",
      "                'object': 'Q2252',\n",
      "                'predicate': 'employer',\n",
      "                'qualifiers': {'position held': [{'type': 'string',\n",
      "                                                  'value': 'astronaut'}]}},\n",
      "               {'direction': 'backward',\n",
      "                'object': 'Q9696',\n",
      "                'predicate': 'found',\n",
      "                'qualifiers': {}},\n",
      "               {'direction': 'backward',\n",
      "                'object': 'Q9916',\n",
      "                'predicate': 'found',\n",
      "                'qualifiers': {}},\n",
      "               {'direction': 'backward',\n",
      "                'object': 'Q9588',\n",
      "                'predicate': 'found',\n",
      "                'qualifiers': {}},\n",
      "               {'direction': 'backward',\n",
      "                'object': 'Q1197185',\n",
      "                'predicate': 'main subject',\n",
      "                'qualifiers': {}},\n",
      "               {'direction': 'backward',\n",
      "                'object': 'Q93038',\n",
      "                'predicate': 'employer',\n",
      "                'qualifiers': {'end time': [{'type': 'year', 'value': 1965}],\n",
      "                               'start time': [{'type': 'year',\n",
      "                                               'value': 1961}]}},\n",
      "               {'direction': 'backward',\n",
      "                'object': 'Q104859',\n",
      "                'predicate': 'employer',\n",
      "                'qualifiers': {'position held': [{'type': 'string',\n",
      "                                                  'value': 'astronaut'}]}},\n",
      "               {'direction': 'backward',\n",
      "                'object': 'Q358437',\n",
      "                'predicate': 'employer',\n",
      "                'qualifiers': {'position held': [{'type': 'string',\n",
      "                                                  'value': 'astronaut'}]}}]}\n"
     ]
    }
   ],
   "source": [
    "pprint(data['entities'][key_nasa])"
   ]
  },
  {
   "cell_type": "code",
   "execution_count": 4,
   "id": "8e9d38f6-d2cd-4704-ba05-cd6aab3880e0",
   "metadata": {},
   "outputs": [
    {
     "data": {
      "text/plain": [
       "155292"
      ]
     },
     "execution_count": 4,
     "metadata": {},
     "output_type": "execute_result"
    }
   ],
   "source": [
    "len(data_ioa)"
   ]
  },
  {
   "cell_type": "code",
   "execution_count": 11,
   "id": "c41933f3-714c-41a8-858c-c0dfbb13b155",
   "metadata": {},
   "outputs": [
    {
     "name": "stdout",
     "output_type": "stream",
     "text": [
      "http://ioa-graph/resource/destorbit113875\n"
     ]
    }
   ],
   "source": [
    "for i, k in enumerate(data_ioa):\n",
    "    if i<1000:\n",
    "        continue\n",
    "    print(k)\n",
    "    break"
   ]
  },
  {
   "cell_type": "code",
   "execution_count": 12,
   "id": "d2ad6127-2920-42ef-a8d5-6b7f537a4ba8",
   "metadata": {},
   "outputs": [
    {
     "data": {
      "text/plain": [
       "4"
      ]
     },
     "execution_count": 12,
     "metadata": {},
     "output_type": "execute_result"
    }
   ],
   "source": [
    "len(data_ioa['http://ioa-graph/resource/entity632'])"
   ]
  },
  {
   "cell_type": "code",
   "execution_count": 13,
   "id": "8499a047-4cc2-4f17-a83d-62962bb2a1fd",
   "metadata": {},
   "outputs": [
    {
     "name": "stdout",
     "output_type": "stream",
     "text": [
      "{'http://www.semanticweb.org/esa-ioa/ontologies/2022/ioa-ontology#Name': [{'datatype': 'http://www.w3.org/2001/XMLSchema#string',\n",
      "                                                                           'graphs': ['http://ioa-graph/resource/'],\n",
      "                                                                           'type': 'literal',\n",
      "                                                                           'value': 'National '\n",
      "                                                                                    'Aeronautics '\n",
      "                                                                                    'and '\n",
      "                                                                                    'Space '\n",
      "                                                                                    'Administration'}],\n",
      " 'http://www.semanticweb.org/esa-ioa/ontologies/2022/ioa-ontology#hasHostCountry': [{'graphs': ['http://ioa-graph/resource/'],\n",
      "                                                                                     'type': 'uri',\n",
      "                                                                                     'value': 'http://ioa-graph/resource/entity259'}],\n",
      " 'http://www.w3.org/1999/02/22-rdf-syntax-ns#type': [{'graphs': ['http://ioa-graph/resource/'],\n",
      "                                                      'type': 'uri',\n",
      "                                                      'value': 'http://www.semanticweb.org/esa-ioa/ontologies/2022/ioa-ontology#Organisation'}],\n",
      " 'http://www.w3.org/2000/01/rdf-schema#label': [{'datatype': 'http://www.w3.org/2001/XMLSchema#string',\n",
      "                                                 'graphs': ['http://ioa-graph/resource/'],\n",
      "                                                 'type': 'literal',\n",
      "                                                 'value': 'National '\n",
      "                                                          'Aeronautics and '\n",
      "                                                          'Space '\n",
      "                                                          'Administration'}]}\n"
     ]
    }
   ],
   "source": [
    "pprint(data_ioa['http://ioa-graph/resource/entity632'])"
   ]
  },
  {
   "cell_type": "markdown",
   "id": "15aa01f3-eb48-494f-adcc-ab84d51fa55d",
   "metadata": {},
   "source": [
    "## Loading object mapping"
   ]
  },
  {
   "cell_type": "code",
   "execution_count": 2,
   "id": "317b98cd-1596-4b00-9b1e-f8167e7c5a8f",
   "metadata": {},
   "outputs": [],
   "source": [
    "with open('mapping_objects.json', 'r') as f:\n",
    "    data_map = json.load(f)"
   ]
  },
  {
   "cell_type": "code",
   "execution_count": 3,
   "id": "e4611134-6709-4469-a21b-6a1bf7b4a09c",
   "metadata": {},
   "outputs": [
    {
     "data": {
      "text/plain": [
       "dict_keys(['baseIRI', 'namespaces', 'subjectMappings'])"
      ]
     },
     "execution_count": 3,
     "metadata": {},
     "output_type": "execute_result"
    }
   ],
   "source": [
    "data_map.keys()"
   ]
  },
  {
   "cell_type": "code",
   "execution_count": 4,
   "id": "a4c397a4-0bf9-4f09-805b-70dbb39a21bf",
   "metadata": {},
   "outputs": [
    {
     "data": {
      "text/plain": [
       "33"
      ]
     },
     "execution_count": 4,
     "metadata": {},
     "output_type": "execute_result"
    }
   ],
   "source": [
    "data_properties = data_map['subjectMappings'][0]['propertyMappings']\n",
    "len(data_properties)"
   ]
  },
  {
   "cell_type": "code",
   "execution_count": 5,
   "id": "1b45f30c-66a7-4ecb-95b9-42dc45dc37e8",
   "metadata": {},
   "outputs": [
    {
     "name": "stdout",
     "output_type": "stream",
     "text": [
      "{'property': {'transformation': {'expression': 'ioa', 'language': 'prefix'},\n",
      "              'valueSource': {'constant': 'Height', 'source': 'constant'}},\n",
      " 'values': [{'valueSource': {'columnName': 'height', 'source': 'column'},\n",
      "             'valueType': {'datatype': {'transformation': {'expression': 'xsd',\n",
      "                                                           'language': 'prefix'},\n",
      "                                        'valueSource': {'constant': 'float',\n",
      "                                                        'source': 'constant'}},\n",
      "                           'type': 'datatype_literal'}}]}\n"
     ]
    }
   ],
   "source": [
    "pprint(data_properties[3])"
   ]
  },
  {
   "cell_type": "code",
   "execution_count": 17,
   "id": "b39ab5d2-7ea2-42b8-805f-cf29b6f84eab",
   "metadata": {},
   "outputs": [
    {
     "name": "stdout",
     "output_type": "stream",
     "text": [
      "{'property': {'transformation': {'expression': 'pred', 'language': 'prefix'},\n",
      "              'valueSource': {'constant': 'name', 'source': 'constant'}},\n",
      " 'values': [{'valueSource': {'columnName': 'name', 'source': 'column'},\n",
      "             'valueType': {'type': 'literal'}}]}\n"
     ]
    }
   ],
   "source": [
    "pprint(data_properties[20])"
   ]
  },
  {
   "cell_type": "code",
   "execution_count": 11,
   "id": "6a013ae5-745b-4fc2-8f0e-f942fb319c20",
   "metadata": {},
   "outputs": [],
   "source": [
    "def get_unique_bnode_dict(colname,propname,datatype,dataprefix='xsd'):\n",
    "    \"\"\"Return dictionary with new bnode properties\"\"\"\n",
    "    prop =  {'transformation': {'expression': 'ioa', 'language': 'prefix'},\n",
    "             'valueSource': {'constant': propname, 'source': 'constant'}}\n",
    "    val_type = {'propertyMappings': [{'property': {'transformation': {'expression': 'pred', 'language': 'prefix'},\n",
    "                                                   'valueSource': {'constant': 'value', 'source': 'constant'}},\n",
    "                                      'values': [{'valueSource': {'columnName': colname, 'source': 'column'},\n",
    "                                                  'valueType': {'datatype': {'transformation': {'expression': dataprefix, 'language': 'prefix'},\n",
    "                                                                             'valueSource': {'constant': datatype, 'source': 'constant'}},\n",
    "                                                                'type': 'datatype_literal'}}]}],\n",
    "                'type': 'unique_bnode'}\n",
    "    vals = [{'valueSource': {'columnName': 'Column', 'source': 'column'},\n",
    "             'valueType': val_type}]\n",
    "    return {'property':prop, 'values':vals}"
   ]
  },
  {
   "cell_type": "code",
   "execution_count": 12,
   "id": "d3d87960-b9dd-4d6c-874b-df0df545b2c9",
   "metadata": {},
   "outputs": [],
   "source": [
    "def get_bnode_dict(colname,propname,datatype,dataprefix='xsd'):\n",
    "    \"\"\"Return dictionary with new bnode properties\"\"\"\n",
    "    prop =  {'transformation': {'expression': 'ioa', 'language': 'prefix'},\n",
    "             'valueSource': {'constant': propname, 'source': 'constant'}}\n",
    "    val_type = {'propertyMappings': [{'property': {'transformation': {'expression': 'pred', 'language': 'prefix'},\n",
    "                                                   'valueSource': {'constant': 'value', 'source': 'constant'}},\n",
    "                                      'values': [{'valueSource': {'columnName': colname, 'source': 'column'},\n",
    "                                                  'valueType': {'datatype': {'transformation': {'expression': dataprefix, 'language': 'prefix'},\n",
    "                                                                             'valueSource': {'constant': datatype, 'source': 'constant'}},\n",
    "                                                                'type': 'datatype_literal'}}]}],\n",
    "                'type': 'value_bnode'}\n",
    "    vals = [{'valueSource': {'columnName': 'Column', 'source': 'column'},\n",
    "             'valueType': val_type}]\n",
    "    return {'property':prop, 'values':vals}\n",
    "\n",
    "f_prefix = lambda d: d['property']['transformation']['expression']\n",
    "f_property = lambda d: d['property']['valueSource']['constant']\n",
    "f_colname = lambda d: d['values'][0]['valueSource']['columnName']\n",
    "f_dtype = lambda d: d['values'][0]['valueType']['datatype']['valueSource']['constant']"
   ]
  },
  {
   "cell_type": "code",
   "execution_count": 13,
   "id": "9dcc3c3e-f88f-4b88-9e36-44d490db70fa",
   "metadata": {},
   "outputs": [],
   "source": [
    "pre_all = []\n",
    "prop_all = []\n",
    "for p in data_properties:\n",
    "    pre_all.append(f_prefix(p))\n",
    "    prop_all.append(f_property(p))"
   ]
  },
  {
   "cell_type": "code",
   "execution_count": 14,
   "id": "4d710eb5-50b5-42aa-9b26-7f95630e1743",
   "metadata": {},
   "outputs": [],
   "source": [
    "prop_transform = {\n",
    "    'Mass': 'mass',\n",
    "    'Height': 'height',\n",
    "    'Shape': 'shape',\n",
    "    'AvgCrossSection': 'average_cross_section',\n",
    "    'MaxCrossSection': 'max_cross_section',\n",
    "    'CosparID': 'cospar_id',\n",
    "    'Depth': 'depth',\n",
    "    'Satno': 'satno',\n",
    "    'Diameter': 'diameter',\n",
    "    'Span': 'span',\n",
    "    'MinCrossSection': 'min_cross_section',\n",
    "    'VimpelID': 'vimpel_id'\n",
    "}"
   ]
  },
  {
   "cell_type": "code",
   "execution_count": 15,
   "id": "adcc3eda-0f9b-46bc-9bd6-d80f0593a4f7",
   "metadata": {},
   "outputs": [],
   "source": [
    "blank_nodes_new = []\n",
    "for p_data in data_properties:\n",
    "    prop_old = f_property(p_data)\n",
    "    prefix = f_prefix(p_data)\n",
    "    if prop_old in prop_transform and prefix=='ioa':\n",
    "        colname = f_colname(p_data)\n",
    "        datatype = f_dtype(p_data)\n",
    "        propname = prop_transform[prop_old]\n",
    "        blank_nodes_new.append( get_unique_bnode_dict(colname,propname,datatype) )"
   ]
  },
  {
   "cell_type": "code",
   "execution_count": 19,
   "id": "59308235-8107-4835-b19f-bdf9b5a9dcee",
   "metadata": {},
   "outputs": [
    {
     "data": {
      "text/plain": [
       "33"
      ]
     },
     "execution_count": 19,
     "metadata": {},
     "output_type": "execute_result"
    }
   ],
   "source": [
    "data_properties_replace = data_properties[:21]\n",
    "data_properties_replace.extend(blank_nodes_new)\n",
    "len(data_properties_replace)"
   ]
  },
  {
   "cell_type": "code",
   "execution_count": 23,
   "id": "8247d08a-a6ca-4aa7-966b-c031f5f6471f",
   "metadata": {},
   "outputs": [],
   "source": [
    "with open('mapping_objects.json', 'r') as f:\n",
    "    data_map_new = json.load(f)\n",
    "data_map_new['subjectMappings'][0]['propertyMappings'] = data_properties_replace"
   ]
  },
  {
   "cell_type": "code",
   "execution_count": 24,
   "id": "e10da292-0fd9-45a5-8240-cac118293497",
   "metadata": {},
   "outputs": [],
   "source": [
    "with open('mapping_objects_update.json', 'w') as f:\n",
    "    data_map = json.dump(data_map_new, f)"
   ]
  },
  {
   "cell_type": "code",
   "execution_count": null,
   "id": "12af12f0-c0f8-4a3b-ae2d-e48fe0723a17",
   "metadata": {},
   "outputs": [],
   "source": []
  }
 ],
 "metadata": {
  "kernelspec": {
   "display_name": "Python 3 (ipykernel)",
   "language": "python",
   "name": "python3"
  },
  "language_info": {
   "codemirror_mode": {
    "name": "ipython",
    "version": 3
   },
   "file_extension": ".py",
   "mimetype": "text/x-python",
   "name": "python",
   "nbconvert_exporter": "python",
   "pygments_lexer": "ipython3",
   "version": "3.7.13"
  }
 },
 "nbformat": 4,
 "nbformat_minor": 5
}
