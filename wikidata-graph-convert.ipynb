{
 "cells": [
  {
   "cell_type": "markdown",
   "id": "d4af66cc-d7f1-4ba8-8ae0-48318e7cfb03",
   "metadata": {},
   "source": [
    "# Converting JSON Mapping"
   ]
  },
  {
   "cell_type": "code",
   "execution_count": 1,
   "id": "f3676f5f-4f0b-402d-86f4-e702fb587063",
   "metadata": {},
   "outputs": [],
   "source": [
    "import json\n",
    "from pprint import pprint\n",
    "import pandas as pd\n",
    "import pdb"
   ]
  },
  {
   "cell_type": "code",
   "execution_count": 2,
   "id": "690a5721-a8d1-4ea0-9e92-0cc6eab803a8",
   "metadata": {},
   "outputs": [],
   "source": [
    "def get_unique_bnode_dict(colname,propname,datatype,dataprefix='xsd'):\n",
    "    \"\"\"Return dictionary with new bnode properties\"\"\"\n",
    "    prop =  {'transformation': {'expression': 'ioa', 'language': 'prefix'},\n",
    "             'valueSource': {'constant': propname, 'source': 'constant'}}\n",
    "    val_type = {'propertyMappings': [{'property': {'transformation': {'expression': 'pred', 'language': 'prefix'},\n",
    "                                                   'valueSource': {'constant': 'value', 'source': 'constant'}},\n",
    "                                      'values': [{'valueSource': {'columnName': colname, 'source': 'column'},\n",
    "                                                  'valueType': {'datatype': {'transformation': {'expression': dataprefix, 'language': 'prefix'},\n",
    "                                                                             'valueSource': {'constant': datatype, 'source': 'constant'}},\n",
    "                                                                'type': 'datatype_literal'}}]}],\n",
    "                'type': 'unique_bnode'}\n",
    "    vals = [{'valueSource': {'columnName': 'Column', 'source': 'column'},\n",
    "             'valueType': val_type}]\n",
    "    return {'property':prop, 'values':vals}\n",
    "\n",
    "def get_bnode_dict(colname,propname,datatype,dataprefix='xsd'):\n",
    "    \"\"\"Return dictionary with new bnode properties\"\"\"\n",
    "    prop =  {'transformation': {'expression': 'ioa', 'language': 'prefix'},\n",
    "             'valueSource': {'constant': propname, 'source': 'constant'}}\n",
    "    val_type = {'propertyMappings': [{'property': {'transformation': {'expression': 'pred', 'language': 'prefix'},\n",
    "                                                   'valueSource': {'constant': 'value', 'source': 'constant'}},\n",
    "                                      'values': [{'valueSource': {'columnName': colname, 'source': 'column'},\n",
    "                                                  'valueType': {'datatype': {'transformation': {'expression': dataprefix, 'language': 'prefix'},\n",
    "                                                                             'valueSource': {'constant': datatype, 'source': 'constant'}},\n",
    "                                                                'type': 'datatype_literal'}}]}],\n",
    "                'type': 'value_bnode'}\n",
    "    vals = [{'valueSource': {'columnName': 'Column', 'source': 'column'},\n",
    "             'valueType': val_type}]\n",
    "    return {'property':prop, 'values':vals}\n",
    "\n",
    "f_prefix = lambda d: d['property']['transformation']['expression']\n",
    "f_property = lambda d: d['property']['valueSource']['constant']\n",
    "f_colname = lambda d: d['values'][0]['valueSource']['columnName']\n",
    "f_dtype = lambda d: d['values'][0]['valueType']['datatype']['valueSource']['constant']"
   ]
  },
  {
   "cell_type": "code",
   "execution_count": 3,
   "id": "adcc3eda-0f9b-46bc-9bd6-d80f0593a4f7",
   "metadata": {},
   "outputs": [],
   "source": [
    "def all_blank_nodes(data_properties,prop_transform):\n",
    "    \"\"\"Transform all properties in data_properties to blank node relations\"\"\"\n",
    "    blank_nodes = []\n",
    "    for p_data in data_properties:\n",
    "        prop_old = f_property(p_data)\n",
    "        prefix = f_prefix(p_data)\n",
    "        if prop_old in prop_transform and prefix=='ioa':\n",
    "            colname = f_colname(p_data)\n",
    "            datatype = f_dtype(p_data)\n",
    "            propname = prop_transform[prop_old]\n",
    "            blank_nodes.append( get_unique_bnode_dict(colname,propname,datatype) )\n",
    "    return blank_nodes"
   ]
  },
  {
   "cell_type": "markdown",
   "id": "930d220d-5fd7-4e44-8e0d-030384f8d583",
   "metadata": {
    "jp-MarkdownHeadingCollapsed": true,
    "tags": []
   },
   "source": [
    "## Exploring wdt examples"
   ]
  },
  {
   "cell_type": "code",
   "execution_count": 2,
   "id": "6acfddbe-e74f-4f10-ba26-1fadccbc9269",
   "metadata": {},
   "outputs": [],
   "source": [
    "with open('kb.json', 'r') as f:\n",
    "    data = json.load(f)"
   ]
  },
  {
   "cell_type": "code",
   "execution_count": 3,
   "id": "06644325-5cec-4679-a5fc-e030f3c97dde",
   "metadata": {},
   "outputs": [],
   "source": [
    "with open('statements.rj', 'r') as f:\n",
    "    data_ioa = json.load(f)"
   ]
  },
  {
   "cell_type": "code",
   "execution_count": 4,
   "id": "d0195821-8292-425d-b266-680a11c105da",
   "metadata": {},
   "outputs": [
    {
     "data": {
      "text/plain": [
       "dict"
      ]
     },
     "execution_count": 4,
     "metadata": {},
     "output_type": "execute_result"
    }
   ],
   "source": [
    "type(data)"
   ]
  },
  {
   "cell_type": "code",
   "execution_count": 5,
   "id": "3c4f62ae-53dc-4552-b965-9a3def8d5392",
   "metadata": {},
   "outputs": [
    {
     "data": {
      "text/plain": [
       "dict_keys(['concepts', 'entities'])"
      ]
     },
     "execution_count": 5,
     "metadata": {},
     "output_type": "execute_result"
    }
   ],
   "source": [
    "data.keys()"
   ]
  },
  {
   "cell_type": "code",
   "execution_count": 7,
   "id": "33609178-4fc1-43ca-b772-139efaa29e22",
   "metadata": {},
   "outputs": [
    {
     "data": {
      "text/plain": [
       "794"
      ]
     },
     "execution_count": 7,
     "metadata": {},
     "output_type": "execute_result"
    }
   ],
   "source": [
    "len(data['concepts'])"
   ]
  },
  {
   "cell_type": "code",
   "execution_count": 8,
   "id": "c692c938-6823-4258-91f5-b5c88d60f260",
   "metadata": {},
   "outputs": [
    {
     "data": {
      "text/plain": [
       "16960"
      ]
     },
     "execution_count": 8,
     "metadata": {},
     "output_type": "execute_result"
    }
   ],
   "source": [
    "len(data['entities'])"
   ]
  },
  {
   "cell_type": "code",
   "execution_count": 13,
   "id": "b72b2582-3268-49a2-b0fc-4870c342bff3",
   "metadata": {},
   "outputs": [
    {
     "data": {
      "text/plain": [
       "'Q786'"
      ]
     },
     "execution_count": 13,
     "metadata": {},
     "output_type": "execute_result"
    }
   ],
   "source": [
    "k"
   ]
  },
  {
   "cell_type": "code",
   "execution_count": 15,
   "id": "56278ae8-fc55-4c65-b434-52591daa4532",
   "metadata": {},
   "outputs": [],
   "source": [
    "key_sat = 'Q26540'\n",
    "key_nasa = 'Q23548'\n",
    "key_cosb = 'Q48711'\n",
    "key_orbit = 'Q4130'"
   ]
  },
  {
   "cell_type": "code",
   "execution_count": 17,
   "id": "77ed199a-ac57-434c-b0eb-3908b8ef4dcf",
   "metadata": {
    "scrolled": true,
    "tags": []
   },
   "outputs": [
    {
     "name": "stdout",
     "output_type": "stream",
     "text": [
      "{'attributes': [{'key': 'IPv4 routing prefix',\n",
      "                 'qualifiers': {'start time': [{'type': 'date',\n",
      "                                                'value': '1986/9/24'}]},\n",
      "                 'value': {'type': 'string', 'value': '128.159.0.0/16'}},\n",
      "                {'key': 'IPv4 routing prefix',\n",
      "                 'qualifiers': {'start time': [{'type': 'date',\n",
      "                                                'value': '1986/9/24'}]},\n",
      "                 'value': {'type': 'string', 'value': '128.157.0.0/16'}},\n",
      "                {'key': 'IPv4 routing prefix',\n",
      "                 'qualifiers': {},\n",
      "                 'value': {'type': 'string', 'value': '128.156.0.0/15'}},\n",
      "                {'key': 'IPv4 routing prefix',\n",
      "                 'qualifiers': {},\n",
      "                 'value': {'type': 'string', 'value': '128.156.0.0/14'}},\n",
      "                {'key': 'short name',\n",
      "                 'qualifiers': {},\n",
      "                 'value': {'type': 'string', 'value': 'NASA'}},\n",
      "                {'key': 'short name',\n",
      "                 'qualifiers': {},\n",
      "                 'value': {'type': 'string', 'value': 'ANAE'}},\n",
      "                {'key': 'ISNI',\n",
      "                 'qualifiers': {},\n",
      "                 'value': {'type': 'string', 'value': '0000 0001 1456 7559'}},\n",
      "                {'key': 'budget',\n",
      "                 'qualifiers': {'statement is subject of': [{'type': 'string',\n",
      "                                                             'value': 'Budget '\n",
      "                                                                      'of '\n",
      "                                                                      'NASA'}]},\n",
      "                 'value': {'type': 'quantity',\n",
      "                           'unit': 'United States dollar',\n",
      "                           'value': 20700000000}},\n",
      "                {'key': 'budget',\n",
      "                 'qualifiers': {'criterion used': [{'type': 'string',\n",
      "                                                    'value': 'fiscal year'}],\n",
      "                                'point in time': [{'type': 'year',\n",
      "                                                   'value': 2011}]},\n",
      "                 'value': {'type': 'quantity',\n",
      "                           'unit': 'United States dollar',\n",
      "                           'value': 18724000000}},\n",
      "                {'key': 'official website',\n",
      "                 'qualifiers': {'language of work or name': [{'type': 'string',\n",
      "                                                              'value': 'English'}]},\n",
      "                 'value': {'type': 'string', 'value': 'https://www.nasa.gov/'}},\n",
      "                {'key': 'subreddit',\n",
      "                 'qualifiers': {'language of work or name': [{'type': 'string',\n",
      "                                                              'value': 'English'}],\n",
      "                                'number of subscribers': [{'type': 'quantity',\n",
      "                                                           'unit': '1',\n",
      "                                                           'value': 272199}]},\n",
      "                 'value': {'type': 'string', 'value': 'nasa'}},\n",
      "                {'key': 'employees',\n",
      "                 'qualifiers': {'point in time': [{'type': 'date',\n",
      "                                                   'value': '2011/1/1'}]},\n",
      "                 'value': {'type': 'quantity', 'unit': '1', 'value': 18100}},\n",
      "                {'key': 'employees',\n",
      "                 'qualifiers': {'point in time': [{'type': 'year',\n",
      "                                                   'value': 2018}]},\n",
      "                 'value': {'type': 'quantity', 'unit': '1', 'value': 17336}},\n",
      "                {'key': 'Snapchat username',\n",
      "                 'qualifiers': {},\n",
      "                 'value': {'type': 'string', 'value': 'nasa'}},\n",
      "                {'key': 'GitHub username',\n",
      "                 'qualifiers': {},\n",
      "                 'value': {'type': 'string', 'value': 'nasa'}},\n",
      "                {'key': 'inception',\n",
      "                 'qualifiers': {},\n",
      "                 'value': {'type': 'date', 'value': '1958/7/29'}},\n",
      "                {'key': 'Giphy username',\n",
      "                 'qualifiers': {},\n",
      "                 'value': {'type': 'string', 'value': 'nasa'}},\n",
      "                {'key': 'SlideShare username',\n",
      "                 'qualifiers': {},\n",
      "                 'value': {'type': 'string', 'value': 'NASA'}},\n",
      "                {'key': 'Instagram username',\n",
      "                 'qualifiers': {},\n",
      "                 'value': {'type': 'string', 'value': 'nasa'}},\n",
      "                {'key': 'Twitter username',\n",
      "                 'qualifiers': {'number of subscribers': [{'type': 'quantity',\n",
      "                                                           'unit': '1',\n",
      "                                                           'value': 29522939}],\n",
      "                                'start time': [{'type': 'date',\n",
      "                                                'value': '2007/12/19'}]},\n",
      "                 'value': {'type': 'string', 'value': 'NASA'}},\n",
      "                {'key': 'motto text',\n",
      "                 'qualifiers': {},\n",
      "                 'value': {'type': 'string',\n",
      "                           'value': 'For the Benefit of All'}},\n",
      "                {'key': 'official blog',\n",
      "                 'qualifiers': {'language of work or name': [{'type': 'string',\n",
      "                                                              'value': 'English'}]},\n",
      "                 'value': {'type': 'string',\n",
      "                           'value': 'https://blogs.nasa.gov/'}},\n",
      "                {'key': 'official name',\n",
      "                 'qualifiers': {},\n",
      "                 'value': {'type': 'string',\n",
      "                           'value': 'National Aeronautics and Space '\n",
      "                                    'Administration'}},\n",
      "                {'key': 'official name',\n",
      "                 'qualifiers': {},\n",
      "                 'value': {'type': 'string',\n",
      "                           'value': 'Administración Nacional de la Aeronáutica '\n",
      "                                    'y del Espacio'}},\n",
      "                {'key': 'Pinterest username',\n",
      "                 'qualifiers': {},\n",
      "                 'value': {'type': 'string', 'value': 'nasa'}},\n",
      "                {'key': 'Google Doodle',\n",
      "                 'qualifiers': {},\n",
      "                 'value': {'type': 'string',\n",
      "                           'value': '50th-anniversary-of-nasa'}}],\n",
      " 'instanceOf': ['Q43229'],\n",
      " 'name': 'National Aeronautics and Space Administration',\n",
      " 'relations': [{'direction': 'forward',\n",
      "                'object': 'Q9916',\n",
      "                'predicate': 'founded by',\n",
      "                'qualifiers': {}},\n",
      "               {'direction': 'forward',\n",
      "                'object': 'Q30',\n",
      "                'predicate': 'country',\n",
      "                'qualifiers': {}},\n",
      "               {'direction': 'forward',\n",
      "                'object': 'Q61',\n",
      "                'predicate': 'headquarters location',\n",
      "                'qualifiers': {'location': [{'type': 'string',\n",
      "                                             'value': 'NASA Headquarters'}]}},\n",
      "               {'direction': 'backward',\n",
      "                'object': 'Q2252',\n",
      "                'predicate': 'employer',\n",
      "                'qualifiers': {'position held': [{'type': 'string',\n",
      "                                                  'value': 'astronaut'}]}},\n",
      "               {'direction': 'backward',\n",
      "                'object': 'Q9696',\n",
      "                'predicate': 'found',\n",
      "                'qualifiers': {}},\n",
      "               {'direction': 'backward',\n",
      "                'object': 'Q9916',\n",
      "                'predicate': 'found',\n",
      "                'qualifiers': {}},\n",
      "               {'direction': 'backward',\n",
      "                'object': 'Q9588',\n",
      "                'predicate': 'found',\n",
      "                'qualifiers': {}},\n",
      "               {'direction': 'backward',\n",
      "                'object': 'Q1197185',\n",
      "                'predicate': 'main subject',\n",
      "                'qualifiers': {}},\n",
      "               {'direction': 'backward',\n",
      "                'object': 'Q93038',\n",
      "                'predicate': 'employer',\n",
      "                'qualifiers': {'end time': [{'type': 'year', 'value': 1965}],\n",
      "                               'start time': [{'type': 'year',\n",
      "                                               'value': 1961}]}},\n",
      "               {'direction': 'backward',\n",
      "                'object': 'Q104859',\n",
      "                'predicate': 'employer',\n",
      "                'qualifiers': {'position held': [{'type': 'string',\n",
      "                                                  'value': 'astronaut'}]}},\n",
      "               {'direction': 'backward',\n",
      "                'object': 'Q358437',\n",
      "                'predicate': 'employer',\n",
      "                'qualifiers': {'position held': [{'type': 'string',\n",
      "                                                  'value': 'astronaut'}]}}]}\n"
     ]
    }
   ],
   "source": [
    "pprint(data['entities'][key_nasa])"
   ]
  },
  {
   "cell_type": "code",
   "execution_count": 4,
   "id": "8e9d38f6-d2cd-4704-ba05-cd6aab3880e0",
   "metadata": {},
   "outputs": [
    {
     "data": {
      "text/plain": [
       "155292"
      ]
     },
     "execution_count": 4,
     "metadata": {},
     "output_type": "execute_result"
    }
   ],
   "source": [
    "len(data_ioa)"
   ]
  },
  {
   "cell_type": "code",
   "execution_count": 11,
   "id": "c41933f3-714c-41a8-858c-c0dfbb13b155",
   "metadata": {},
   "outputs": [
    {
     "name": "stdout",
     "output_type": "stream",
     "text": [
      "http://ioa-graph/resource/destorbit113875\n"
     ]
    }
   ],
   "source": [
    "for i, k in enumerate(data_ioa):\n",
    "    if i<1000:\n",
    "        continue\n",
    "    print(k)\n",
    "    break"
   ]
  },
  {
   "cell_type": "code",
   "execution_count": 12,
   "id": "d2ad6127-2920-42ef-a8d5-6b7f537a4ba8",
   "metadata": {},
   "outputs": [
    {
     "data": {
      "text/plain": [
       "4"
      ]
     },
     "execution_count": 12,
     "metadata": {},
     "output_type": "execute_result"
    }
   ],
   "source": [
    "len(data_ioa['http://ioa-graph/resource/entity632'])"
   ]
  },
  {
   "cell_type": "code",
   "execution_count": 13,
   "id": "8499a047-4cc2-4f17-a83d-62962bb2a1fd",
   "metadata": {},
   "outputs": [
    {
     "name": "stdout",
     "output_type": "stream",
     "text": [
      "{'http://www.semanticweb.org/esa-ioa/ontologies/2022/ioa-ontology#Name': [{'datatype': 'http://www.w3.org/2001/XMLSchema#string',\n",
      "                                                                           'graphs': ['http://ioa-graph/resource/'],\n",
      "                                                                           'type': 'literal',\n",
      "                                                                           'value': 'National '\n",
      "                                                                                    'Aeronautics '\n",
      "                                                                                    'and '\n",
      "                                                                                    'Space '\n",
      "                                                                                    'Administration'}],\n",
      " 'http://www.semanticweb.org/esa-ioa/ontologies/2022/ioa-ontology#hasHostCountry': [{'graphs': ['http://ioa-graph/resource/'],\n",
      "                                                                                     'type': 'uri',\n",
      "                                                                                     'value': 'http://ioa-graph/resource/entity259'}],\n",
      " 'http://www.w3.org/1999/02/22-rdf-syntax-ns#type': [{'graphs': ['http://ioa-graph/resource/'],\n",
      "                                                      'type': 'uri',\n",
      "                                                      'value': 'http://www.semanticweb.org/esa-ioa/ontologies/2022/ioa-ontology#Organisation'}],\n",
      " 'http://www.w3.org/2000/01/rdf-schema#label': [{'datatype': 'http://www.w3.org/2001/XMLSchema#string',\n",
      "                                                 'graphs': ['http://ioa-graph/resource/'],\n",
      "                                                 'type': 'literal',\n",
      "                                                 'value': 'National '\n",
      "                                                          'Aeronautics and '\n",
      "                                                          'Space '\n",
      "                                                          'Administration'}]}\n"
     ]
    }
   ],
   "source": [
    "pprint(data_ioa['http://ioa-graph/resource/entity632'])"
   ]
  },
  {
   "cell_type": "markdown",
   "id": "82ccc927-d17e-49b5-b7e7-4ea8d91079a1",
   "metadata": {
    "tags": []
   },
   "source": [
    "## WDT train examples"
   ]
  },
  {
   "cell_type": "code",
   "execution_count": 2,
   "id": "31727b24-072b-44fd-b8b4-4d459f2e100e",
   "metadata": {},
   "outputs": [],
   "source": [
    "with open('train.json', 'r') as f:\n",
    "    data = json.load(f)"
   ]
  },
  {
   "cell_type": "code",
   "execution_count": 7,
   "id": "18970886-7d10-4199-b1a8-d4a4165d2cfc",
   "metadata": {},
   "outputs": [
    {
     "data": {
      "text/plain": [
       "{'question': 'Which town has a TOID of 4000000074573917 and has an OS grid reference of SP8778?',\n",
       " 'choices': ['Wigan',\n",
       "  'Doncaster',\n",
       "  'Royal Tunbridge Wells',\n",
       "  'Kettering',\n",
       "  'Edmonton',\n",
       "  'Macclesfield',\n",
       "  'Blackburn',\n",
       "  'Colchester',\n",
       "  'South Shields',\n",
       "  'Wimbledon'],\n",
       " 'program': [{'function': 'FindAll', 'dependencies': [], 'inputs': []},\n",
       "  {'function': 'FilterStr',\n",
       "   'dependencies': [0],\n",
       "   'inputs': ['TOID', '4000000074573917']},\n",
       "  {'function': 'FilterConcept', 'dependencies': [1], 'inputs': ['town']},\n",
       "  {'function': 'FindAll', 'dependencies': [], 'inputs': []},\n",
       "  {'function': 'FilterStr',\n",
       "   'dependencies': [3],\n",
       "   'inputs': ['OS grid reference', 'SP8778']},\n",
       "  {'function': 'FilterConcept', 'dependencies': [4], 'inputs': ['town']},\n",
       "  {'function': 'And', 'dependencies': [2, 5], 'inputs': []},\n",
       "  {'function': 'What', 'dependencies': [6], 'inputs': []}],\n",
       " 'sparql': 'SELECT DISTINCT ?e WHERE { ?e <pred:instance_of> ?c . ?c <pred:name> \"town\" . ?e <TOID> ?pv . ?pv <pred:value> \"4000000074573917\" . ?e <OS_grid_reference> ?pv_1 . ?pv_1 <pred:value> \"SP8778\" .  }',\n",
       " 'answer': 'Kettering'}"
      ]
     },
     "execution_count": 7,
     "metadata": {},
     "output_type": "execute_result"
    }
   ],
   "source": [
    "data[0]"
   ]
  },
  {
   "cell_type": "code",
   "execution_count": 10,
   "id": "aee27faf-90cf-4311-a768-2d2e234d70d4",
   "metadata": {},
   "outputs": [],
   "source": [
    "train_df = pd.DataFrame(data[:500], columns=['question', 'sparql'])\n",
    "train_df.to_csv('train_sparql.csv')"
   ]
  },
  {
   "cell_type": "code",
   "execution_count": 13,
   "id": "fc5d001c-33f2-4458-8d5c-bfc5040d75da",
   "metadata": {},
   "outputs": [
    {
     "name": "stdout",
     "output_type": "stream",
     "text": [
      "('What is the academic degree Vladimir Nabokov achieved at Trinity College '\n",
      " '(the one that is the education place of George V) ?')\n"
     ]
    }
   ],
   "source": [
    "pprint(data[14]['question'])"
   ]
  },
  {
   "cell_type": "code",
   "execution_count": 12,
   "id": "c8d114b9-f315-4e4a-b5b3-df7188f34c7f",
   "metadata": {},
   "outputs": [
    {
     "name": "stdout",
     "output_type": "stream",
     "text": [
      "('SELECT DISTINCT ?qpv WHERE { ?e_1 <pred:name> \"Vladimir Nabokov\" . ?e_2 '\n",
      " '<pred:name> \"Trinity College\" . ?e_3 <educated_at> ?e_2 . ?e_3 <pred:name> '\n",
      " '\"George V\" . ?e_1 <educated_at> ?e_2 . [ <pred:fact_h> ?e_1 ; <pred:fact_r> '\n",
      " '<educated_at> ; <pred:fact_t> ?e_2 ] <academic_degree> ?qpv .  }')\n"
     ]
    }
   ],
   "source": [
    "pprint(data[14]['sparql'])"
   ]
  },
  {
   "cell_type": "markdown",
   "id": "15aa01f3-eb48-494f-adcc-ab84d51fa55d",
   "metadata": {},
   "source": [
    "## Loading object mapping"
   ]
  },
  {
   "cell_type": "code",
   "execution_count": 2,
   "id": "317b98cd-1596-4b00-9b1e-f8167e7c5a8f",
   "metadata": {},
   "outputs": [],
   "source": [
    "with open('mapping_objects.json', 'r') as f:\n",
    "    data_map = json.load(f)"
   ]
  },
  {
   "cell_type": "code",
   "execution_count": 3,
   "id": "e4611134-6709-4469-a21b-6a1bf7b4a09c",
   "metadata": {},
   "outputs": [
    {
     "data": {
      "text/plain": [
       "dict_keys(['baseIRI', 'namespaces', 'subjectMappings'])"
      ]
     },
     "execution_count": 3,
     "metadata": {},
     "output_type": "execute_result"
    }
   ],
   "source": [
    "data_map.keys()"
   ]
  },
  {
   "cell_type": "code",
   "execution_count": 4,
   "id": "a4c397a4-0bf9-4f09-805b-70dbb39a21bf",
   "metadata": {},
   "outputs": [
    {
     "data": {
      "text/plain": [
       "33"
      ]
     },
     "execution_count": 4,
     "metadata": {},
     "output_type": "execute_result"
    }
   ],
   "source": [
    "data_properties = data_map['subjectMappings'][0]['propertyMappings']\n",
    "len(data_properties)"
   ]
  },
  {
   "cell_type": "code",
   "execution_count": 5,
   "id": "1b45f30c-66a7-4ecb-95b9-42dc45dc37e8",
   "metadata": {},
   "outputs": [
    {
     "name": "stdout",
     "output_type": "stream",
     "text": [
      "{'property': {'transformation': {'expression': 'ioa', 'language': 'prefix'},\n",
      "              'valueSource': {'constant': 'Height', 'source': 'constant'}},\n",
      " 'values': [{'valueSource': {'columnName': 'height', 'source': 'column'},\n",
      "             'valueType': {'datatype': {'transformation': {'expression': 'xsd',\n",
      "                                                           'language': 'prefix'},\n",
      "                                        'valueSource': {'constant': 'float',\n",
      "                                                        'source': 'constant'}},\n",
      "                           'type': 'datatype_literal'}}]}\n"
     ]
    }
   ],
   "source": [
    "pprint(data_properties[3])"
   ]
  },
  {
   "cell_type": "code",
   "execution_count": 17,
   "id": "b39ab5d2-7ea2-42b8-805f-cf29b6f84eab",
   "metadata": {},
   "outputs": [
    {
     "name": "stdout",
     "output_type": "stream",
     "text": [
      "{'property': {'transformation': {'expression': 'pred', 'language': 'prefix'},\n",
      "              'valueSource': {'constant': 'name', 'source': 'constant'}},\n",
      " 'values': [{'valueSource': {'columnName': 'name', 'source': 'column'},\n",
      "             'valueType': {'type': 'literal'}}]}\n"
     ]
    }
   ],
   "source": [
    "pprint(data_properties[20])"
   ]
  },
  {
   "cell_type": "code",
   "execution_count": 13,
   "id": "9dcc3c3e-f88f-4b88-9e36-44d490db70fa",
   "metadata": {},
   "outputs": [],
   "source": [
    "pre_all = []\n",
    "prop_all = []\n",
    "for p in data_properties:\n",
    "    pre_all.append(f_prefix(p))\n",
    "    prop_all.append(f_property(p))"
   ]
  },
  {
   "cell_type": "code",
   "execution_count": 14,
   "id": "4d710eb5-50b5-42aa-9b26-7f95630e1743",
   "metadata": {},
   "outputs": [],
   "source": [
    "prop_transform = {\n",
    "    'Mass': 'mass',\n",
    "    'Height': 'height',\n",
    "    'Shape': 'shape',\n",
    "    'AvgCrossSection': 'average_cross_section',\n",
    "    'MaxCrossSection': 'max_cross_section',\n",
    "    'CosparID': 'cospar_id',\n",
    "    'Depth': 'depth',\n",
    "    'Satno': 'satno',\n",
    "    'Diameter': 'diameter',\n",
    "    'Span': 'span',\n",
    "    'MinCrossSection': 'min_cross_section',\n",
    "    'VimpelID': 'vimpel_id'\n",
    "}"
   ]
  },
  {
   "cell_type": "code",
   "execution_count": 15,
   "id": "b16820f9-12fa-4796-8737-98f63fe28113",
   "metadata": {},
   "outputs": [],
   "source": [
    "blank_nodes_new = []\n",
    "for p_data in data_properties:\n",
    "    prop_old = f_property(p_data)\n",
    "    prefix = f_prefix(p_data)\n",
    "    if prop_old in prop_transform and prefix=='ioa':\n",
    "        colname = f_colname(p_data)\n",
    "        datatype = f_dtype(p_data)\n",
    "        propname = prop_transform[prop_old]\n",
    "        blank_nodes_new.append( get_unique_bnode_dict(colname,propname,datatype) )"
   ]
  },
  {
   "cell_type": "code",
   "execution_count": 19,
   "id": "59308235-8107-4835-b19f-bdf9b5a9dcee",
   "metadata": {},
   "outputs": [
    {
     "data": {
      "text/plain": [
       "33"
      ]
     },
     "execution_count": 19,
     "metadata": {},
     "output_type": "execute_result"
    }
   ],
   "source": [
    "data_properties_replace = data_properties[:21]\n",
    "data_properties_replace.extend(blank_nodes_new)\n",
    "len(data_properties_replace)"
   ]
  },
  {
   "cell_type": "code",
   "execution_count": 23,
   "id": "8247d08a-a6ca-4aa7-966b-c031f5f6471f",
   "metadata": {},
   "outputs": [],
   "source": [
    "with open('mapping_objects.json', 'r') as f:\n",
    "    data_map_new = json.load(f)\n",
    "data_map_new['subjectMappings'][0]['propertyMappings'] = data_properties_replace"
   ]
  },
  {
   "cell_type": "code",
   "execution_count": 24,
   "id": "e10da292-0fd9-45a5-8240-cac118293497",
   "metadata": {},
   "outputs": [],
   "source": [
    "with open('mapping_objects_update.json', 'w') as f:\n",
    "    data_map = json.dump(data_map_new, f)"
   ]
  },
  {
   "cell_type": "markdown",
   "id": "85909807-ecdf-4c9d-bc83-73291b3d9553",
   "metadata": {},
   "source": [
    "## All new object mappings"
   ]
  },
  {
   "cell_type": "markdown",
   "id": "80a64c72-88f9-418f-afc4-214fe75d9377",
   "metadata": {},
   "source": [
    "### Initial Orbits"
   ]
  },
  {
   "cell_type": "code",
   "execution_count": 17,
   "id": "94967122-5018-4650-ba53-4db50cc1d5d3",
   "metadata": {},
   "outputs": [],
   "source": [
    "fname = 'AllMappingsJson/mapping-init-orbit.json'"
   ]
  },
  {
   "cell_type": "code",
   "execution_count": 18,
   "id": "cba512bd-41fc-4cfa-9b63-1dccd0782b9e",
   "metadata": {},
   "outputs": [],
   "source": [
    "with open(fname, 'r') as f:\n",
    "    data_map = json.load(f)"
   ]
  },
  {
   "cell_type": "code",
   "execution_count": 19,
   "id": "9d3c03f9-35f6-44ab-9858-71c96d3a7f59",
   "metadata": {},
   "outputs": [
    {
     "data": {
      "text/plain": [
       "dict_keys(['baseIRI', 'namespaces', 'subjectMappings'])"
      ]
     },
     "execution_count": 19,
     "metadata": {},
     "output_type": "execute_result"
    }
   ],
   "source": [
    "data_map.keys()"
   ]
  },
  {
   "cell_type": "code",
   "execution_count": 20,
   "id": "f6460eef-2871-4e8a-84ca-6dcfd959a22e",
   "metadata": {},
   "outputs": [
    {
     "data": {
      "text/plain": [
       "11"
      ]
     },
     "execution_count": 20,
     "metadata": {},
     "output_type": "execute_result"
    }
   ],
   "source": [
    "data_prop_init = data_map['subjectMappings'][0]['propertyMappings']\n",
    "len(data_prop_init)"
   ]
  },
  {
   "cell_type": "code",
   "execution_count": 8,
   "id": "a6e51120-9b24-4115-a06f-39bd0905ca3c",
   "metadata": {},
   "outputs": [
    {
     "name": "stdout",
     "output_type": "stream",
     "text": [
      "{'property': {'transformation': {'expression': 'ioa', 'language': 'prefix'},\n",
      "              'valueSource': {'constant': 'ArgOfPeriapsis',\n",
      "                              'source': 'constant'}},\n",
      " 'values': [{'valueSource': {'columnName': 'aPer', 'source': 'column'},\n",
      "             'valueType': {'datatype': {'transformation': {'expression': 'xsd',\n",
      "                                                           'language': 'prefix'},\n",
      "                                        'valueSource': {'constant': 'float',\n",
      "                                                        'source': 'constant'}},\n",
      "                           'type': 'datatype_literal'}}]}\n"
     ]
    }
   ],
   "source": [
    "pprint(data_prop_init[3])"
   ]
  },
  {
   "cell_type": "code",
   "execution_count": 10,
   "id": "48ea3395-f00c-48b8-aed5-77fb2293c0c8",
   "metadata": {},
   "outputs": [],
   "source": [
    "pre_all = []\n",
    "prop_all = []\n",
    "for p in data_prop_init:\n",
    "    pre_all.append(f_prefix(p))\n",
    "    prop_all.append(f_property(p))"
   ]
  },
  {
   "cell_type": "code",
   "execution_count": 11,
   "id": "afa92ac0-25ef-42b0-bc09-e1ee544eee1b",
   "metadata": {},
   "outputs": [
    {
     "data": {
      "text/plain": [
       "['Inclination',\n",
       " 'RAAN',\n",
       " 'MeanAnomaly',\n",
       " 'ArgOfPeriapsis',\n",
       " 'hasFrame',\n",
       " 'Eccentricity',\n",
       " 'SemimajorAxis',\n",
       " 'Epoch',\n",
       " 'isInitialOrbitOf',\n",
       " 'HeightofPericentre',\n",
       " 'HeightofApocentre']"
      ]
     },
     "execution_count": 11,
     "metadata": {},
     "output_type": "execute_result"
    }
   ],
   "source": [
    "prop_all"
   ]
  },
  {
   "cell_type": "code",
   "execution_count": 14,
   "id": "2fa1e8ba-7ff7-4ce5-aa3e-009db5e43e01",
   "metadata": {},
   "outputs": [],
   "source": [
    "prop_transform_init = {\n",
    "    'Inclination': 'inclination',\n",
    "    'RAAN': 'raan',\n",
    "    'MeanAnomaly': 'mean_anomaly',\n",
    "    'ArgOfPeriapsis': 'arg_of_periapsis',\n",
    "    'Eccentricity': 'eccentricity',\n",
    "    'SemimajorAxis': 'semimajor_axis',\n",
    "    'Epoch': 'epoch',\n",
    "    'HeightofPericentre': 'height_of_pericentre',\n",
    "    'HeightofApocentre': 'height_of_centre',\n",
    "}"
   ]
  },
  {
   "cell_type": "code",
   "execution_count": 15,
   "id": "050911a3-0bdb-4e01-919c-827aff50e732",
   "metadata": {},
   "outputs": [],
   "source": [
    "blank_nodes_init = all_blank_nodes(data_prop_init,prop_transform_init)"
   ]
  },
  {
   "cell_type": "code",
   "execution_count": 16,
   "id": "ffa2dab7-cce5-448f-8bbd-1e2e23aca43a",
   "metadata": {},
   "outputs": [
    {
     "data": {
      "text/plain": [
       "20"
      ]
     },
     "execution_count": 16,
     "metadata": {},
     "output_type": "execute_result"
    }
   ],
   "source": [
    "data_properties_replace = data_prop_init\n",
    "data_properties_replace.extend(blank_nodes_init)\n",
    "len(data_properties_replace)"
   ]
  },
  {
   "cell_type": "code",
   "execution_count": 21,
   "id": "b7df3c84-dc14-4bec-9223-49b5caeb4f77",
   "metadata": {},
   "outputs": [],
   "source": [
    "with open(fname, 'r') as f:\n",
    "    data_map_new = json.load(f)\n",
    "data_map_new['subjectMappings'][0]['propertyMappings'] = data_properties_replace"
   ]
  },
  {
   "cell_type": "code",
   "execution_count": 22,
   "id": "4ef5934d-4217-4720-8717-f7bceed58040",
   "metadata": {},
   "outputs": [],
   "source": [
    "with open('NewMappings/mapping-init-orbit-update.json', 'w') as f:\n",
    "    data_map = json.dump(data_map_new, f)"
   ]
  },
  {
   "cell_type": "code",
   "execution_count": null,
   "id": "fcee7134-58f2-4c6f-a3c8-45af78648a37",
   "metadata": {},
   "outputs": [],
   "source": []
  }
 ],
 "metadata": {
  "kernelspec": {
   "display_name": "Python 3 (ipykernel)",
   "language": "python",
   "name": "python3"
  },
  "language_info": {
   "codemirror_mode": {
    "name": "ipython",
    "version": 3
   },
   "file_extension": ".py",
   "mimetype": "text/x-python",
   "name": "python",
   "nbconvert_exporter": "python",
   "pygments_lexer": "ipython3",
   "version": "3.7.13"
  }
 },
 "nbformat": 4,
 "nbformat_minor": 5
}
